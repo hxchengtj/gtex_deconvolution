{
 "cells": [
  {
   "cell_type": "markdown",
   "metadata": {},
   "source": [
    "# Divide genotypes based on gene/peak data"
   ]
  },
  {
   "cell_type": "code",
   "execution_count": 87,
   "metadata": {},
   "outputs": [],
   "source": [
    "setwd(\"/frazer01/projects/GTEx_v7/analysis/eqtls_deconvolution\")"
   ]
  },
  {
   "cell_type": "code",
   "execution_count": 88,
   "metadata": {},
   "outputs": [
    {
     "name": "stderr",
     "output_type": "stream",
     "text": [
      "Loading packages...\n",
      "Loading input files...\n",
      "Loading functions...\n",
      "Loading input data...\n",
      "Loading metadata...\n"
     ]
    }
   ],
   "source": [
    "invisible(suppressWarnings(file.link(\"/home/matteo/notebooks/eqtls_deconvolution_gtex/divide_genotypes.ipynb\"              , \"analysis/divide_genotypes.ipynb\"              )))\n",
    "invisible(suppressWarnings(file.link(\"/home/matteo/notebooks/eqtls_deconvolution_gtex/cardiac_qtls_run_divide_genotypes.sh\", \"analysis/cardiac_qtls_run_divide_genotypes.sh\")))\n",
    "invisible(suppressWarnings(file.link(\"/home/matteo/notebooks/eqtls_deconvolution_gtex/cardiac_qtls_run_divide_genotypes.R\" , \"analysis/cardiac_qtls_run_divide_genotypes.R\" )))\n",
    "\n",
    "source(\"analysis/cardiac_qtls_packages.R\"      )\n",
    "source(\"analysis/cardiac_qtls_input_files.R\"   )\n",
    "source(\"analysis/cardiac_qtls_functions.R\"     )\n",
    "source(\"analysis/cardiac_qtls_input_data.R\"    )\n",
    "source(\"analysis/cardiac_qtls_load_metadata.R\" )\n"
   ]
  },
  {
   "cell_type": "markdown",
   "metadata": {},
   "source": [
    "# Divide VCF files from iPSCORE and HipSci to into a genotype matrix and a genotype info file: RNA-seq\n",
    "- genotype matrix: rows = variants; columns = samples (by RNA-seq ID)\n",
    "- genotype info file: rows = variants; columns = chrom, pos, ref, alt, rsid\n"
   ]
  },
  {
   "cell_type": "code",
   "execution_count": 89,
   "metadata": {},
   "outputs": [
    {
     "name": "stderr",
     "output_type": "stream",
     "text": [
      "qsub -l week -pe smp 1 -t 1-57820 -tc 300 -o /frazer01/projects/GTEx_v7/analysis/eqtls_deconvolution/input//genotypes/rna.err -e /frazer01/projects/GTEx_v7/analysis/eqtls_deconvolution/input//genotypes/rna.out /frazer01/projects/GTEx_v7/analysis/eqtls_deconvolution/input//genotypes/rna.sh\n"
     ]
    }
   ],
   "source": [
    "folder = \"input//genotypes/rna\"\n",
    "\n",
    "run_qsub_genotypes(folder, rscript, \"/publicdata/gencode_v19_20151104/gene_info.tsv\", nrow(geneinfo), run_qsub = TRUE, queue = \"week\")\n"
   ]
  },
  {
   "cell_type": "code",
   "execution_count": 92,
   "metadata": {},
   "outputs": [
    {
     "data": {
      "text/html": [
       "57820"
      ],
      "text/latex": [
       "57820"
      ],
      "text/markdown": [
       "57820"
      ],
      "text/plain": [
       "[1] 57820"
      ]
     },
     "metadata": {},
     "output_type": "display_data"
    },
    {
     "data": {
      "text/html": [
       "579"
      ],
      "text/latex": [
       "579"
      ],
      "text/markdown": [
       "579"
      ],
      "text/plain": [
       "[1] 579"
      ]
     },
     "metadata": {},
     "output_type": "display_data"
    },
    {
     "data": {
      "text/html": [
       "57241"
      ],
      "text/latex": [
       "57241"
      ],
      "text/markdown": [
       "57241"
      ],
      "text/plain": [
       "[1] 57241"
      ]
     },
     "metadata": {},
     "output_type": "display_data"
    }
   ],
   "source": [
    "genes     = geneinfo[, \"gene_id\"]\n",
    "genes_run = gsub(\"gt_info\\\\.\", \"\", gsub(\"\\\\.txt\", \"\", list.files(folder, pattern = \"gt_info\")))\n",
    "genes     = genes[!genes %in% genes_run]\n",
    "\n",
    "nrow(geneinfo)\n",
    "length(genes)\n",
    "length(genes_run)\n",
    "\n"
   ]
  },
  {
   "cell_type": "code",
   "execution_count": null,
   "metadata": {},
   "outputs": [],
   "source": []
  }
 ],
 "metadata": {
  "kernelspec": {
   "display_name": "R 3.5.1",
   "language": "R",
   "name": "ir35"
  },
  "language_info": {
   "codemirror_mode": "r",
   "file_extension": ".r",
   "mimetype": "text/x-r-source",
   "name": "R",
   "pygments_lexer": "r",
   "version": "3.5.1"
  }
 },
 "nbformat": 4,
 "nbformat_minor": 2
}
