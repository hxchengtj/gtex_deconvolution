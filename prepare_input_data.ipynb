{
 "cells": [
  {
   "cell_type": "markdown",
   "metadata": {},
   "source": [
    "# Prepare input data for QTL analyses\n",
    "Before running QTL analysis, create all the input files necessary for running QTLs\n",
    "- metadata\n",
    "- genotypes (SNVs + SVs)\n",
    "- covariates by subject\n",
    "- covariates by sample\n"
   ]
  },
  {
   "cell_type": "code",
   "execution_count": 1,
   "metadata": {},
   "outputs": [],
   "source": [
    "setwd(\"/frazer01/projects/GTEx_v7/analysis/eqtls_deconvolution\")"
   ]
  },
  {
   "cell_type": "markdown",
   "metadata": {},
   "source": [
    "# Create input folders"
   ]
  },
  {
   "cell_type": "code",
   "execution_count": 2,
   "metadata": {},
   "outputs": [],
   "source": [
    "dir.create(\"input\"   , showWarnings = FALSE)\n",
    "dir.create(\"analysis\", showWarnings = FALSE)\n",
    "dir.create(\"qtls\"    , showWarnings = FALSE)\n",
    "dir.create(\"private\" , showWarnings = FALSE)\n",
    "dir.create(\"log\"     , showWarnings = FALSE)\n",
    "\n",
    "\n",
    "invisible(lapply(c(\"metadata\", \"genotypes\", \"phenotypes\", \"covariates\"), function(x){dir.create(paste(\"input\"           , x, sep = \"/\"), showWarnings = FALSE)}))\n",
    "invisible(lapply(c(\"rna\"                                              ), function(x){dir.create(paste(\"input/genotypes\" , x, sep = \"/\"), showWarnings = FALSE)}))\n",
    "invisible(lapply(c(\"liver\", \"skin\"                                    ), function(x){dir.create(paste(\"input/phenotypes\", x, sep = \"/\"), showWarnings = FALSE)}))\n"
   ]
  },
  {
   "cell_type": "markdown",
   "metadata": {},
   "source": [
    "# Create links to notebooks and scripts"
   ]
  },
  {
   "cell_type": "code",
   "execution_count": 3,
   "metadata": {},
   "outputs": [],
   "source": [
    "invisible(suppressWarnings(file.link(\"/home/matteo/notebooks/eqtls_deconvolution_gtex/prepare_input_data.ipynb\"    , \"analysis/prepare_input_data.ipynb\"    )))\n",
    "invisible(suppressWarnings(file.link(\"/home/matteo/notebooks/eqtls_deconvolution_gtex/cardiac_qtls_packages.R\"     , \"analysis/cardiac_qtls_packages.R\"     )))\n",
    "invisible(suppressWarnings(file.link(\"/home/matteo/notebooks/eqtls_deconvolution_gtex/cardiac_qtls_input_files.R\"  , \"analysis/cardiac_qtls_input_files.R\"  )))\n",
    "invisible(suppressWarnings(file.link(\"/home/matteo/notebooks/eqtls_deconvolution_gtex/cardiac_qtls_functions.R\"    , \"analysis/cardiac_qtls_functions.R\"    )))\n",
    "invisible(suppressWarnings(file.link(\"/home/matteo/notebooks/eqtls_deconvolution_gtex/cardiac_qtls_load_metadata.R\", \"analysis/cardiac_qtls_load_metadata.R\")))\n",
    "invisible(suppressWarnings(file.link(\"/home/matteo/notebooks/eqtls_deconvolution_gtex/cardiac_qtls_input_data.R\"   , \"analysis/cardiac_qtls_input_data.R\"   )))\n",
    "invisible(suppressWarnings(file.link(\"/home/matteo/notebooks/eqtls_deconvolution_gtex/cardiac_qtls_run_eqtls.R\"    , \"analysis/cardiac_qtls_run_eqtls.R\"    )))\n",
    "invisible(suppressWarnings(file.link(\"/home/matteo/notebooks/eqtls_deconvolution_gtex/cardiac_qtls_run_eqtls.sh\"   , \"analysis/cardiac_qtls_run_eqtls.sh\"   )))\n",
    "invisible(suppressWarnings(file.link(\"/home/matteo/notebooks/eqtls_deconvolution_gtex/permute_covariates.r\"        , \"analysis/permute_covariates.r\"        )))\n",
    "invisible(suppressWarnings(file.link(\"/home/matteo/notebooks/eqtls_deconvolution_gtex/permute_covariates.sh\"       , \"analysis/permute_covariates.sh\"       )))\n"
   ]
  },
  {
   "cell_type": "code",
   "execution_count": 4,
   "metadata": {},
   "outputs": [
    {
     "name": "stderr",
     "output_type": "stream",
     "text": [
      "Loading packages...\n",
      "Loading input files...\n",
      "Loading functions...\n",
      "Loading input data...\n"
     ]
    }
   ],
   "source": [
    "source(\"analysis/cardiac_qtls_packages.R\"   )\n",
    "source(\"analysis/cardiac_qtls_input_files.R\")\n",
    "source(\"analysis/cardiac_qtls_functions.R\"  )\n",
    "source(\"analysis/cardiac_qtls_input_data.R\" )\n"
   ]
  },
  {
   "cell_type": "markdown",
   "metadata": {},
   "source": [
    "# Metadata files\n",
    "- get subject-WGS-sample associations\n"
   ]
  },
  {
   "cell_type": "markdown",
   "metadata": {},
   "source": [
    "## GTEx\n",
    "### WGS\n",
    "- IDs in the WGS VCF header are subject IDs"
   ]
  },
  {
   "cell_type": "code",
   "execution_count": 5,
   "metadata": {},
   "outputs": [
    {
     "name": "stderr",
     "output_type": "stream",
     "text": [
      "WGS IDs = 635\n"
     ]
    }
   ],
   "source": [
    "gtex_vcf             = gtex_vcf_input\n",
    "gtex_wgs             = readLines(gtex_vcf, n = 1000)\n",
    "gtex_wgs             = gtex_wgs[grepl(\"^#\", gtex_wgs, perl = TRUE)]\n",
    "gtex_wgs             = gsub(\"#\", \"\", gtex_wgs[length(gtex_wgs)])\n",
    "gtex_wgs             = unlist(strsplit(gtex_wgs, \"\\t\"))\n",
    "gtex_wgs_sample_list = gtex_wgs[10:length(gtex_wgs)]\n",
    "gtex_meta_wgs        = data.frame(subject_id = gtex_wgs_sample_list, wgs_id = gtex_wgs_sample_list)\n",
    "\n",
    "message(paste(\"WGS IDs\", nrow(gtex_meta_wgs), sep = \" = \"))"
   ]
  },
  {
   "cell_type": "markdown",
   "metadata": {},
   "source": [
    "### RNA"
   ]
  },
  {
   "cell_type": "code",
   "execution_count": 6,
   "metadata": {},
   "outputs": [],
   "source": [
    "tpm_all             = fread(\"/publicdata/gtex_v7/GTEx_Analysis_2016-01-15_v7_RNASeQCv1.1.8_gene_tpm.gct\", header = TRUE, sep = \"\\t\", data.table = FALSE)\n",
    "rownames(tpm_all)   = tpm_all$Name\n",
    "tpm_all$Name        = NULL\n",
    "tpm_all$Description = NULL"
   ]
  },
  {
   "cell_type": "code",
   "execution_count": 7,
   "metadata": {},
   "outputs": [],
   "source": [
    "gtex_tissues          = data.frame(tissue_full = c(\"Skin - Not Sun Exposed (Suprapubic)\", \"Skin - Sun Exposed (Lower leg)\", \"Liver\"), tissue = c(\"skin\", \"skin\", \"liver\"))\n",
    "gtex_meta             = read.table(\"/frazer01/publicdata/gtex_v7/GTEx_v7_Annotations_SampleAttributesDS_V2.txt\", header = TRUE, sep = \"\\t\", comment.char = \"\")\n",
    "gtex_meta             = merge(gtex_meta[gtex_meta$SAMPID %in% colnames(tpm_all), c(\"SAMPID\", \"SMTSD\")], gtex_tissues, by.x = \"SMTSD\", by.y = \"tissue_full\")\n",
    "colnames(gtex_meta)   = c(\"tissue_full\", \"rna_id\", \"tissue\")\n",
    "gtex_meta$tissue_full = NULL\n",
    "gtex_meta$subject_id  = unlist(lapply(gtex_meta$rna_id, function(x){paste(unlist(strsplit(x, \"-\"))[1:2], collapse = \"-\")}))\n",
    "gtex_meta             = gtex_meta[gtex_meta$subject_id %in% gtex_meta_wgs$subject_id, ]"
   ]
  },
  {
   "cell_type": "code",
   "execution_count": 8,
   "metadata": {},
   "outputs": [],
   "source": [
    "tpm           = tpm_all[,gtex_meta$rna_id]\n",
    "gtex_meta_wgs = gtex_meta_wgs[gtex_meta_wgs$subject_id %in% gtex_meta$subject_id,]\n",
    "gtex_meta_rna = gtex_meta"
   ]
  },
  {
   "cell_type": "markdown",
   "metadata": {},
   "source": [
    "### Subject metadata"
   ]
  },
  {
   "cell_type": "code",
   "execution_count": 9,
   "metadata": {},
   "outputs": [
    {
     "name": "stderr",
     "output_type": "stream",
     "text": [
      "Subjects = 752\n"
     ]
    }
   ],
   "source": [
    "gtex_meta_file      = \"/frazer01/projects/GTEx_v7/decrypted/PhenotypeFiles/phs000424.v7.pht002742.v7.p2.c1.GTEx_Subject_Phenotypes.GRU.txt.gz\"\n",
    "gtex_meta           = fread(gtex_meta_file, header = TRUE, sep = \"\\t\", blank.lines.skip = TRUE, skip = 10, data.table = FALSE)\n",
    "gtex_meta           = gtex_meta[,c(\"SUBJID\", \"SEX\", \"AGE\", \"AGE\", \"HGHT\", \"WGHT\")]\n",
    "colnames(gtex_meta) = c(\"subject_id\", \"sex\", \"age\", \"age_sample\", \"height\", \"weight\")\n",
    "gtex_meta$study     = \"GTEx\"\n",
    "gtex_meta[gtex_meta$sex ==  1 , \"sex\"] = \"M\"\n",
    "gtex_meta[gtex_meta$sex == \"2\", \"sex\"] = \"F\"\n",
    "\n",
    "message(paste(\"Subjects\", nrow(gtex_meta), sep = \" = \"))\n"
   ]
  },
  {
   "cell_type": "code",
   "execution_count": 10,
   "metadata": {},
   "outputs": [
    {
     "name": "stderr",
     "output_type": "stream",
     "text": [
      "RNA samples = 902\n",
      "WGS samples = 525\n",
      "Subjects = 525\n"
     ]
    },
    {
     "data": {
      "text/plain": [
       "\n",
       "liver  skin \n",
       "  153   749 "
      ]
     },
     "metadata": {},
     "output_type": "display_data"
    }
   ],
   "source": [
    "subject_ids        = sort(unique(intersect(gtex_meta_wgs$subject_id, gtex_meta_rna$subject_id)))\n",
    "meta_wgs           = gtex_meta_wgs[gtex_meta_wgs$subject_id %in% subject_ids,]\n",
    "meta_rna           = gtex_meta_rna[gtex_meta_rna$subject_id %in% subject_ids,]\n",
    "covariates_subject = gtex_meta    [gtex_meta$subject_id     %in% subject_ids,]\n",
    "metadata           = merge(meta_wgs, meta_rna)\n",
    "unrelated          = subject_ids       \n",
    "\n",
    "message(paste(\"RNA samples\", nrow  (meta_rna          ), sep = \" = \"))\n",
    "message(paste(\"WGS samples\", nrow  (meta_wgs          ), sep = \" = \"))\n",
    "message(paste(\"Subjects\"   , nrow  (covariates_subject), sep = \" = \"))\n",
    "\n",
    "table(meta_rna$tissue)\n"
   ]
  },
  {
   "cell_type": "code",
   "execution_count": 11,
   "metadata": {},
   "outputs": [],
   "source": [
    "write.table(tpm, \"input/phenotypes/tpm.txt\", quote = FALSE, sep = \"\\t\", row.names = TRUE, col.names = NA)"
   ]
  },
  {
   "cell_type": "markdown",
   "metadata": {},
   "source": [
    "# Prepare covariates files:\n",
    "- PCA based on ~100,000 SNP in linkage equilibrium (from resource paper)\n",
    "- kinship matrix on the same SNPs\n",
    "- RNA data: CIBERSORT populations\n"
   ]
  },
  {
   "cell_type": "markdown",
   "metadata": {},
   "source": [
    "## Genotype PCA"
   ]
  },
  {
   "cell_type": "code",
   "execution_count": 12,
   "metadata": {},
   "outputs": [],
   "source": [
    "## Very slow: uncomment to run\n",
    "snp_list_file        = \"snp_list.txt\"\n",
    "#filter_vcf_gtex_file = filter_vcf(meta_wgs[meta_wgs$wgs_id %in% gtex_meta_wgs$wgs_id   , \"wgs_id\"], bcftools, snp_list_file, gtex_vcf_input   , \"gtex\"   )\n",
    "filter_vcf_gtex_file = 'private/gttable.gtex.vcf.gz'\n",
    "gtmatrix             = find_genotype_matrix(meta_wgs$wgs_id, bcftools, filter_vcf_gtex_file)\n"
   ]
  },
  {
   "cell_type": "code",
   "execution_count": 13,
   "metadata": {},
   "outputs": [],
   "source": [
    "pcadata                    = prcomp(t(gtmatrix), scale = TRUE)\n",
    "percentVar                 = pcadata$sdev^2 / sum( pcadata$sdev^2 )"
   ]
  },
  {
   "cell_type": "code",
   "execution_count": 14,
   "metadata": {},
   "outputs": [],
   "source": [
    "genotype_pca               = as.data.frame(pcadata$x)\n",
    "genotype_pca$wgs_id        = rownames(genotype_pca)\n",
    "genotype_pca               = merge(genotype_pca[,c(\"wgs_id\", paste(\"PC\", 1:10, sep = \"\"))], meta_wgs)\n",
    "covariates_subject         = merge(covariates_subject, genotype_pca)\n",
    "covariates_subject$wgs_id  = NULL"
   ]
  },
  {
   "cell_type": "markdown",
   "metadata": {},
   "source": [
    "## RNA data: CIBERSORT\n",
    "- run CIBERSORT on all samples\n",
    "- For now, get data from the Production paper, but it has fewer samples, for some reason"
   ]
  },
  {
   "cell_type": "code",
   "execution_count": 20,
   "metadata": {},
   "outputs": [],
   "source": [
    "liver            = read.csv(\"/frazer01/home/mdonovan/gtex_deconvolution/tables/Cibersort_out/CIBERSORT.Output_Job78_liver_mouse.csv\", header = TRUE)\n",
    "liver            = liver[,1:6]\n",
    "colnames(liver)  = c(\"rna_id\", \"b_cell\", \"endothelial\", \"hepatocyte\", \"kupffer_cell\", \"nk_cell\")\n",
    "skin             = read.csv(\"/frazer01/home/mdonovan/gtex_deconvolution/tables/Cibersort_out/CIBERSORT_reannotated_skin_mouse.csv\", header = TRUE)\n",
    "skin             = skin[,1:7]\n",
    "colnames(skin)   = c(\"rna_id\", \"outer_bulge\",\"inner_bulge\",\"epidermis_basal\",\"epidermis\",\"epidermis_stem_cell\",\"leukocyte\")\n",
    "liver2           = read.csv(\"/frazer01/home/mdonovan/gtex_deconvolution/tables/Cibersort_out/CIBERSORT.Output_Job79_liver_human.csv\", header = TRUE)[,1:16]\n",
    "liver2           = liver2[,c(\"Input.Sample\", \"central_venous_sinusoidal_endothelial_cells\", \"gdT_cell\", \"Hepatocytes0\", \"Hepatocytes3\", \"Hepatocytes4\", \"inflammatory_macrophages\", \"NK.NKT_cell\", \"Periportal_sinusoidal_endothelial_cells\")]\n",
    "colnames(liver2) = c(\"rna_id\", \"endothelial_venous\", \"gdt\", \"hepatocyte0\", \"hepatocyte3\", \"hepatocyte4\", \"macrophage\", \"nkt_cell\", \"endothelial_periportal\")\n",
    "liver3           = read.csv(\"/frazer01/home/mdonovan/gtex_deconvolution/tables/merged_human_liver_cibersort.txt\", header = TRUE, sep = \" \")\n",
    "colnames(liver3)[[1]] = \"rna_id\"\n",
    "colnames(liver3) = tolower(colnames(liver3))\n",
    "colnames(liver3) = gsub(\"\\\\.\", \"_\", colnames(liver3))\n",
    "\n",
    "skin2 = skin\n",
    "skin2$collapsed_leukocyte    = skin2$leukocyte\n",
    "skin2$collapsed_fibroblast   = skin2$inner_bulge\n",
    "skin2$collapsed_keratinocyte = rowSums(skin2[,c(\"outer_bulge\", \"epidermis_basal\", \"epidermis\", \"epidermis_stem_cell\"     )])\n",
    "skin2                        = skin2[,c(\"rna_id\", \"collapsed_leukocyte\", \"collapsed_fibroblast\", \"collapsed_keratinocyte\")]\n",
    "\n",
    "covariates_rna   = merge(liver         , liver2, all = TRUE)\n",
    "covariates_rna   = merge(covariates_rna, liver3, all = TRUE)\n",
    "covariates_rna   = merge(covariates_rna, skin  , all = TRUE)\n",
    "covariates_rna   = merge(covariates_rna, skin2 , all = TRUE)\n"
   ]
  },
  {
   "cell_type": "code",
   "execution_count": 21,
   "metadata": {},
   "outputs": [
    {
     "name": "stdout",
     "output_type": "stream",
     "text": [
      "'data.frame':\t1035 obs. of  30 variables:\n",
      " $ rna_id                       : chr  \"GTEX-1117F-2926-SM-5GZYI\" \"GTEX-111CU-1126-SM-5EGIM\" \"GTEX-111FC-0126-SM-5N9DL\" \"GTEX-111FC-2526-SM-5GZXU\" ...\n",
      " $ b_cell                       : num  NA NA NA NA NA NA NA NA NA NA ...\n",
      " $ endothelial                  : num  NA NA NA NA NA NA NA NA NA NA ...\n",
      " $ hepatocyte                   : num  NA NA NA NA NA NA NA NA NA NA ...\n",
      " $ kupffer_cell                 : num  NA NA NA NA NA NA NA NA NA NA ...\n",
      " $ nk_cell                      : num  NA NA NA NA NA NA NA NA NA NA ...\n",
      " $ endothelial_venous           : num  NA NA NA NA NA NA NA NA NA NA ...\n",
      " $ gdt                          : num  NA NA NA NA NA NA NA NA NA NA ...\n",
      " $ hepatocyte0                  : num  NA NA NA NA NA NA NA NA NA NA ...\n",
      " $ hepatocyte3                  : num  NA NA NA NA NA NA NA NA NA NA ...\n",
      " $ hepatocyte4                  : num  NA NA NA NA NA NA NA NA NA NA ...\n",
      " $ macrophage                   : num  NA NA NA NA NA NA NA NA NA NA ...\n",
      " $ nkt_cell                     : num  NA NA NA NA NA NA NA NA NA NA ...\n",
      " $ endothelial_periportal       : num  NA NA NA NA NA NA NA NA NA NA ...\n",
      " $ merged_hepatocyte            : num  NA NA NA NA NA NA NA NA NA NA ...\n",
      " $ merged_endothelial           : num  NA NA NA NA NA NA NA NA NA NA ...\n",
      " $ merged_macrophage            : num  NA NA NA NA NA NA NA NA NA NA ...\n",
      " $ merged_b_cell                : num  NA NA NA NA NA NA NA NA NA NA ...\n",
      " $ merged_nk_nkt_cell           : num  NA NA NA NA NA NA NA NA NA NA ...\n",
      " $ merged_cholangiocyte         : num  NA NA NA NA NA NA NA NA NA NA ...\n",
      " $ merged_heptatic_stellate_cell: num  NA NA NA NA NA NA NA NA NA NA ...\n",
      " $ outer_bulge                  : num  0 0 0 0 0 0 0 0 0 0 ...\n",
      " $ inner_bulge                  : num  0 0 0.00969 0.05945 0.01701 ...\n",
      " $ epidermis_basal              : num  0 0 0 0 0 0 0 0 0 0 ...\n",
      " $ epidermis                    : num  0.702 0.601 0.552 0.215 0.903 ...\n",
      " $ epidermis_stem_cell          : num  0.2258 0.3559 0.429 0.5068 0.0702 ...\n",
      " $ leukocyte                    : num  0.07198 0.04354 0.00938 0.21907 0.00957 ...\n",
      " $ collapsed_leukocyte          : num  0.07198 0.04354 0.00938 0.21907 0.00957 ...\n",
      " $ collapsed_fibroblast         : num  0 0 0.00969 0.05945 0.01701 ...\n",
      " $ collapsed_keratinocyte       : num  0.928 0.956 0.981 0.721 0.973 ...\n"
     ]
    }
   ],
   "source": [
    "str(covariates_rna)"
   ]
  },
  {
   "cell_type": "markdown",
   "metadata": {},
   "source": [
    "# Create output files\n",
    "- Metadata\n",
    "- Covariates for subjects\n",
    "- Covariates for RNA-seq data"
   ]
  },
  {
   "cell_type": "code",
   "execution_count": 22,
   "metadata": {},
   "outputs": [],
   "source": [
    "colnames(covariates_rna)[[1]] = \"assay_id\"\n",
    "\n",
    "#metadata = metadata[metadata$assay_id %in% colnames(tpm),]\n",
    "covariates_subject = covariates_subject[covariates_subject$subject_id %in% metadata$subject_id,]\n",
    "covariates_rna     = covariates_rna    [covariates_rna$assay_id       %in% metadata$rna_id    ,]\n",
    "unrelated          = unrelated         [unrelated                     %in% metadata$subject_id ]\n"
   ]
  },
  {
   "cell_type": "code",
   "execution_count": 23,
   "metadata": {},
   "outputs": [],
   "source": [
    "write.table(metadata          , \"input//metadata/metadata.txt\"            , quote = FALSE, sep = \"\\t\", row.names = FALSE, col.names = TRUE )\n",
    "write.table(covariates_subject, \"input//covariates/covariates.subject.txt\", quote = FALSE, sep = \"\\t\", row.names = FALSE, col.names = TRUE )\n",
    "write.table(covariates_rna    , \"input//covariates/covariates.rna.txt\"    , quote = FALSE, sep = \"\\t\", row.names = FALSE, col.names = TRUE )\n",
    "write.table(unrelated         , \"input//metadata/unrelated.txt\"           , quote = FALSE, sep = \"\\t\", row.names = FALSE, col.names = FALSE)\n",
    "write.table(rownames(tpm)     , \"input//phenotypes/rna_list.txt\"          , quote = FALSE, sep = \"\\t\", row.names = FALSE, col.names = FALSE)\n"
   ]
  },
  {
   "cell_type": "code",
   "execution_count": null,
   "metadata": {},
   "outputs": [],
   "source": []
  }
 ],
 "metadata": {
  "kernelspec": {
   "display_name": "R 3.5.1",
   "language": "R",
   "name": "ir35"
  },
  "language_info": {
   "codemirror_mode": "r",
   "file_extension": ".r",
   "mimetype": "text/x-r-source",
   "name": "R",
   "pygments_lexer": "r",
   "version": "3.5.1"
  }
 },
 "nbformat": 4,
 "nbformat_minor": 2
}
