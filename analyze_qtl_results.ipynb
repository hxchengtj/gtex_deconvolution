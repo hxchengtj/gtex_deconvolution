{
 "cells": [
  {
   "cell_type": "markdown",
   "metadata": {},
   "source": [
    "# Compare QTLs with and without cell populations\n",
    "- V03: Add analysis of interaction terms\n",
    "- V02: compare top hit (the same variant in both analyses)\n"
   ]
  },
  {
   "cell_type": "code",
   "execution_count": 68,
   "metadata": {},
   "outputs": [],
   "source": [
    "setwd(\"/frazer01/projects/CARDIPS/analysis/cardiac_qtls\")"
   ]
  },
  {
   "cell_type": "code",
   "execution_count": 69,
   "metadata": {},
   "outputs": [
    {
     "name": "stderr",
     "output_type": "stream",
     "text": [
      "Loading packages...\n",
      "Loading input files...\n",
      "Loading functions...\n",
      "Loading input data...\n",
      "Loading metadata...\n"
     ]
    }
   ],
   "source": [
    "invisible(suppressWarnings(file.link(\"/home/matteo/notebooks/cardips_cardiac_qtls/initialize_qtl_analyses.ipynb\", \"analysis/initialize_qtl_analyses.ipynb\")))\n",
    "\n",
    "source(\"analysis/cardiac_qtls_packages.R\"      )\n",
    "source(\"analysis/cardiac_qtls_input_files.R\"   )\n",
    "source(\"analysis/cardiac_qtls_functions.R\"     )\n",
    "source(\"analysis/cardiac_qtls_input_data.R\"    )\n",
    "source(\"analysis/cardiac_qtls_load_metadata.R\" )\n"
   ]
  },
  {
   "cell_type": "code",
   "execution_count": 70,
   "metadata": {},
   "outputs": [],
   "source": [
    "tissues         = c(\"eqtls_ipsc_cvpcs_only_bulk\", \"eqtls_ipsc_cvpcs_only_v01\", \"job101_mouse_ventricle_only_bulk\", \"job101_mouse_ventricle\"  )\n",
    "tissue2name     = data.frame(tissue = tissues, name = c(\"iPSC-CVPCs (bulk resolution)\", \"iPSC-CVPCs (cell populations)\", \"Adult heart (bulk resolution)\", \"Adult heart (cell populations)\"), color = c(\"#84C01E\", \"#BCEE68\", \"#AC2A13\", \"#EE6A50\"), y = c(4:1))\n",
    "qtl_list        = lapply(tissues , function(x){read.table(paste(\"qtls/\", x, \"/analysis/egenes.\", x, \".txt\", sep = \"\"), header = TRUE)})\n",
    "names(qtl_list) = tissues\n"
   ]
  },
  {
   "cell_type": "code",
   "execution_count": 71,
   "metadata": {},
   "outputs": [
    {
     "data": {
      "text/html": [
       "<dl>\n",
       "\t<dt>$eqtls_ipsc_cvpcs_only_bulk</dt>\n",
       "\t\t<dd>8725</dd>\n",
       "\t<dt>$eqtls_ipsc_cvpcs_only_v01</dt>\n",
       "\t\t<dd>13440</dd>\n",
       "\t<dt>$job101_mouse_ventricle_only_bulk</dt>\n",
       "\t\t<dd>3521</dd>\n",
       "\t<dt>$job101_mouse_ventricle</dt>\n",
       "\t\t<dd>14666</dd>\n",
       "</dl>\n"
      ],
      "text/latex": [
       "\\begin{description}\n",
       "\\item[\\$eqtls\\_ipsc\\_cvpcs\\_only\\_bulk] 8725\n",
       "\\item[\\$eqtls\\_ipsc\\_cvpcs\\_only\\_v01] 13440\n",
       "\\item[\\$job101\\_mouse\\_ventricle\\_only\\_bulk] 3521\n",
       "\\item[\\$job101\\_mouse\\_ventricle] 14666\n",
       "\\end{description}\n"
      ],
      "text/markdown": [
       "$eqtls_ipsc_cvpcs_only_bulk\n",
       ":   8725\n",
       "$eqtls_ipsc_cvpcs_only_v01\n",
       ":   13440\n",
       "$job101_mouse_ventricle_only_bulk\n",
       ":   3521\n",
       "$job101_mouse_ventricle\n",
       ":   14666\n",
       "\n",
       "\n"
      ],
      "text/plain": [
       "$eqtls_ipsc_cvpcs_only_bulk\n",
       "[1] 8725\n",
       "\n",
       "$eqtls_ipsc_cvpcs_only_v01\n",
       "[1] 13440\n",
       "\n",
       "$job101_mouse_ventricle_only_bulk\n",
       "[1] 3521\n",
       "\n",
       "$job101_mouse_ventricle\n",
       "[1] 14666\n"
      ]
     },
     "metadata": {},
     "output_type": "display_data"
    }
   ],
   "source": [
    "lapply(qtl_list, function(x){nrow(x[x$egene == TRUE & x$type == \"primary\",])})"
   ]
  },
  {
   "cell_type": "code",
   "execution_count": 72,
   "metadata": {},
   "outputs": [],
   "source": [
    "qtl2egenes = function(qtl_list, tissue)\n",
    "{\n",
    "    x = qtl_list[[tissue]]\n",
    "    return(data.frame(tissue = tissue, genes = nrow(x[x$type == \"primary\",]), egenes = nrow(x[x$egene == TRUE & x$type == \"primary\",])))\n",
    "}\n",
    "\n",
    "egenes = do.call(\"rbind\", lapply(tissue2name$tissue, function(tissue){qtl2egenes(qtl_list, tissue)}))\n",
    "egenes = merge(egenes, tissue2name)\n",
    "\n"
   ]
  },
  {
   "cell_type": "code",
   "execution_count": 73,
   "metadata": {},
   "outputs": [
    {
     "data": {
      "text/html": [
       "<table>\n",
       "<thead><tr><th scope=col>tissue</th><th scope=col>genes</th><th scope=col>egenes</th><th scope=col>name</th><th scope=col>color</th><th scope=col>y</th></tr></thead>\n",
       "<tbody>\n",
       "\t<tr><td>eqtls_ipsc_cvpcs_only_bulk      </td><td>21921                           </td><td> 8725                           </td><td>iPSC-CVPCs (bulk resolution)    </td><td>#84C01E                         </td><td>4                               </td></tr>\n",
       "\t<tr><td>eqtls_ipsc_cvpcs_only_v01       </td><td>21905                           </td><td>13440                           </td><td>iPSC-CVPCs (cell populations)   </td><td>#BCEE68                         </td><td>3                               </td></tr>\n",
       "\t<tr><td>job101_mouse_ventricle          </td><td>22480                           </td><td>14666                           </td><td>Adult heart (cell populations)  </td><td>#EE6A50                         </td><td>1                               </td></tr>\n",
       "\t<tr><td>job101_mouse_ventricle_only_bulk</td><td>22553                           </td><td> 3521                           </td><td>Adult heart (bulk resolution)   </td><td>#AC2A13                         </td><td>2                               </td></tr>\n",
       "</tbody>\n",
       "</table>\n"
      ],
      "text/latex": [
       "\\begin{tabular}{r|llllll}\n",
       " tissue & genes & egenes & name & color & y\\\\\n",
       "\\hline\n",
       "\t eqtls\\_ipsc\\_cvpcs\\_only\\_bulk       & 21921                                    &  8725                                    & iPSC-CVPCs (bulk resolution)             & \\#84C01E                                & 4                                       \\\\\n",
       "\t eqtls\\_ipsc\\_cvpcs\\_only\\_v01        & 21905                                    & 13440                                    & iPSC-CVPCs (cell populations)            & \\#BCEE68                                & 3                                       \\\\\n",
       "\t job101\\_mouse\\_ventricle           & 22480                                & 14666                                & Adult heart (cell populations)       & \\#EE6A50                            & 1                                   \\\\\n",
       "\t job101\\_mouse\\_ventricle\\_only\\_bulk & 22553                                    &  3521                                    & Adult heart (bulk resolution)            & \\#AC2A13                                & 2                                       \\\\\n",
       "\\end{tabular}\n"
      ],
      "text/markdown": [
       "\n",
       "| tissue | genes | egenes | name | color | y |\n",
       "|---|---|---|---|---|---|\n",
       "| eqtls_ipsc_cvpcs_only_bulk       | 21921                            |  8725                            | iPSC-CVPCs (bulk resolution)     | #84C01E                          | 4                                |\n",
       "| eqtls_ipsc_cvpcs_only_v01        | 21905                            | 13440                            | iPSC-CVPCs (cell populations)    | #BCEE68                          | 3                                |\n",
       "| job101_mouse_ventricle           | 22480                            | 14666                            | Adult heart (cell populations)   | #EE6A50                          | 1                                |\n",
       "| job101_mouse_ventricle_only_bulk | 22553                            |  3521                            | Adult heart (bulk resolution)    | #AC2A13                          | 2                                |\n",
       "\n"
      ],
      "text/plain": [
       "  tissue                           genes egenes name                          \n",
       "1 eqtls_ipsc_cvpcs_only_bulk       21921  8725  iPSC-CVPCs (bulk resolution)  \n",
       "2 eqtls_ipsc_cvpcs_only_v01        21905 13440  iPSC-CVPCs (cell populations) \n",
       "3 job101_mouse_ventricle           22480 14666  Adult heart (cell populations)\n",
       "4 job101_mouse_ventricle_only_bulk 22553  3521  Adult heart (bulk resolution) \n",
       "  color   y\n",
       "1 #84C01E 4\n",
       "2 #BCEE68 3\n",
       "3 #EE6A50 1\n",
       "4 #AC2A13 2"
      ]
     },
     "metadata": {},
     "output_type": "display_data"
    }
   ],
   "source": [
    "egenes"
   ]
  },
  {
   "cell_type": "code",
   "execution_count": 74,
   "metadata": {},
   "outputs": [],
   "source": [
    "qtl2overlap = function(qtl_list, tissue1, tissue2)\n",
    "{\n",
    "    x1 = qtl_list[[tissue1]]\n",
    "    x2 = qtl_list[[tissue2]]\n",
    "    \n",
    "    x1$overlap = FALSE\n",
    "    x1[x1$gene_id %in% x2[x2$egene == TRUE, \"gene_id\"], \"overlap\"] = TRUE\n",
    "    \n",
    "    return(x1)\n",
    "}\n",
    "\n",
    "qtl_list2 = list(eqtls_ipsc_cvpcs_only_bulk       = qtl2overlap(qtl_list, \"eqtls_ipsc_cvpcs_only_bulk\"      , \"eqtls_ipsc_cvpcs_only_bulk\"      ),\n",
    "                 eqtls_ipsc_cvpcs_only_v01        = qtl2overlap(qtl_list, \"eqtls_ipsc_cvpcs_only_v01\"       , \"eqtls_ipsc_cvpcs_only_bulk\"      ),\n",
    "                 job101_mouse_ventricle_only_bulk = qtl2overlap(qtl_list, \"job101_mouse_ventricle_only_bulk\", \"job101_mouse_ventricle_only_bulk\"),\n",
    "                 job101_mouse_ventricle           = qtl2overlap(qtl_list, \"job101_mouse_ventricle\"          , \"job101_mouse_ventricle_only_bulk\")\n",
    "                )"
   ]
  },
  {
   "cell_type": "code",
   "execution_count": 75,
   "metadata": {},
   "outputs": [
    {
     "name": "stdout",
     "output_type": "stream",
     "text": [
      "List of 4\n",
      " $ eqtls_ipsc_cvpcs_only_bulk      :'data.frame':\t21921 obs. of  24 variables:\n",
      "  ..$ gene_id    : chr [1:21921] \"ENSG00000000003.10\" \"ENSG00000000005.5\" \"ENSG00000000419.8\" \"ENSG00000000457.9\" ...\n",
      "  ..$ gene_name  : chr [1:21921] \"TSPAN6\" \"TNMD\" \"DPM1\" \"SCYL3\" ...\n",
      "  ..$ gene_type  : chr [1:21921] \"protein_coding\" \"protein_coding\" \"protein_coding\" \"protein_coding\" ...\n",
      "  ..$ start      : int [1:21921] 99883666 99839798 49551403 169818771 169631244 27938574 196621007 143815947 53362138 41040683 ...\n",
      "  ..$ end        : int [1:21921] 99894988 99854882 49575092 169863408 169823221 27961788 196716634 143832827 53481768 41067715 ...\n",
      "  ..$ strand     : chr [1:21921] \"-\" \"+\" \"-\" \"-\" ...\n",
      "  ..$ gene_status: chr [1:21921] \"KNOWN\" \"KNOWN\" \"KNOWN\" \"KNOWN\" ...\n",
      "  ..$ source     : chr [1:21921] \"HAVANA\" \"HAVANA\" \"HAVANA\" \"HAVANA\" ...\n",
      "  ..$ level      : int [1:21921] 2 2 2 2 2 2 1 2 2 2 ...\n",
      "  ..$ id         : chr [1:21921] \"X_100546476_CGGAGCGCCGAGG_C\" \"CNV_X_100566186_100567597_HipSci\" \"Human_STR_860602\" \"1_169024807_C_T\" ...\n",
      "  ..$ chrom      : chr [1:21921] \"X\" \"X\" \"20\" \"1\" ...\n",
      "  ..$ pos        : int [1:21921] 100546476 100566186 49388683 169024807 169048990 28256157 196607412 144791487 53919689 41523730 ...\n",
      "  ..$ ref        : chr [1:21921] \"CGGAGCGCCGAGG\" \"T\" \"AT\" \"C\" ...\n",
      "  ..$ alt        : chr [1:21921] \"C\" \"N\" \"N\" \"TRUE\" ...\n",
      "  ..$ rsid       : chr [1:21921] \".\" \"CNV_X_100566186_100567597_HipSci\" \"Human_STR_860602\" \".\" ...\n",
      "  ..$ beta       : num [1:21921] 1.317 0.8 -0.827 -1.2 -1.943 ...\n",
      "  ..$ se         : num [1:21921] 0.264 0.312 0.206 0.368 0.437 ...\n",
      "  ..$ pval       : num [1:21921] 5.93e-07 8.20e-09 3.24e-05 9.45e-04 5.98e-07 ...\n",
      "  ..$ bonferroni : num [1:21921] 6.58e-03 9.14e-05 5.26e-01 1.00 8.88e-03 ...\n",
      "  ..$ type       : chr [1:21921] \"primary\" \"primary\" \"primary\" \"primary\" ...\n",
      "  ..$ fdr        : num [1:21921] 0.025062 0.000683 0.724566 1 0.031815 ...\n",
      "  ..$ qval       : num [1:21921] 0.025062 0.000683 0.724566 1 0.031815 ...\n",
      "  ..$ egene      : logi [1:21921] TRUE TRUE FALSE FALSE TRUE TRUE ...\n",
      "  ..$ overlap    : logi [1:21921] TRUE TRUE FALSE FALSE TRUE TRUE ...\n",
      " $ eqtls_ipsc_cvpcs_only_v01       :'data.frame':\t39151 obs. of  24 variables:\n",
      "  ..$ gene_id    : chr [1:39151] \"ENSG00000000003.10\" \"ENSG00000000005.5\" \"ENSG00000000460.12\" \"ENSG00000000938.8\" ...\n",
      "  ..$ gene_name  : chr [1:39151] \"TSPAN6\" \"TNMD\" \"C1orf112\" \"FGR\" ...\n",
      "  ..$ gene_type  : chr [1:39151] \"protein_coding\" \"protein_coding\" \"protein_coding\" \"protein_coding\" ...\n",
      "  ..$ start      : int [1:39151] 99883666 99839798 169631244 27938574 196621007 41040683 64732461 46097729 50192477 91875547 ...\n",
      "  ..$ end        : int [1:39151] 99894988 99854882 169823221 27961788 196716634 41067715 64754655 46114436 50226508 92030698 ...\n",
      "  ..$ strand     : chr [1:39151] \"-\" \"+\" \"+\" \"-\" ...\n",
      "  ..$ gene_status: chr [1:39151] \"KNOWN\" \"KNOWN\" \"KNOWN\" \"KNOWN\" ...\n",
      "  ..$ source     : chr [1:39151] \"HAVANA\" \"HAVANA\" \"HAVANA\" \"HAVANA\" ...\n",
      "  ..$ level      : int [1:39151] 2 2 2 2 1 2 2 2 2 2 ...\n",
      "  ..$ id         : chr [1:39151] \"X_100571754_T_C\" \"X_99283407_ATTTTTTTTTTTTTTTTTTTTTTTTTTTT_A\" \"1_168843478_A_G\" \"1_27767385_CT_C\" ...\n",
      "  ..$ chrom      : chr [1:39151] \"X\" \"X\" \"1\" \"1\" ...\n",
      "  ..$ pos        : int [1:39151] 100571754 99283407 168843478 27767385 195929099 42030442 65597886 46719576 49789958 91250122 ...\n",
      "  ..$ ref        : chr [1:39151] \"T\" \"ATTTTTTTTTTTTTTTTTTTTTTTTTTTT\" \"A\" \"CT\" ...\n",
      "  ..$ alt        : chr [1:39151] \"C\" \"A\" \"G\" \"C\" ...\n",
      "  ..$ rsid       : chr [1:39151] \".\" \"rs368452995\" \"rs78730817\" \".\" ...\n",
      "  ..$ beta       : num [1:39151] 1.8 -1.029 1.014 -0.268 -0.446 ...\n",
      "  ..$ se         : num [1:39151] 0.3029 0.2142 0.4241 0.0862 0.1106 ...\n",
      "  ..$ pval       : num [1:39151] 6.55e-08 1.03e-06 1.08e-07 3.57e-07 1.08e-06 ...\n",
      "  ..$ bonferroni : num [1:39151] 0.000724 0.011523 0.001602 0.004838 0.012829 ...\n",
      "  ..$ type       : chr [1:39151] \"conditional1\" \"conditional1\" \"conditional1\" \"conditional1\" ...\n",
      "  ..$ fdr        : num [1:39151] 0.00492 0.04374 0.00926 0.0223 0.04757 ...\n",
      "  ..$ qval       : num [1:39151] 6.08e-05 5.40e-04 1.14e-04 2.75e-04 5.87e-04 ...\n",
      "  ..$ egene      : logi [1:39151] TRUE TRUE TRUE TRUE TRUE TRUE ...\n",
      "  ..$ overlap    : logi [1:39151] TRUE TRUE TRUE TRUE FALSE FALSE ...\n",
      " $ job101_mouse_ventricle_only_bulk:'data.frame':\t22553 obs. of  24 variables:\n",
      "  ..$ gene_id    : chr [1:22553] \"ENSG00000000003.10\" \"ENSG00000000005.5\" \"ENSG00000000419.8\" \"ENSG00000000457.9\" ...\n",
      "  ..$ gene_name  : chr [1:22553] \"TSPAN6\" \"TNMD\" \"DPM1\" \"SCYL3\" ...\n",
      "  ..$ gene_type  : chr [1:22553] \"protein_coding\" \"protein_coding\" \"protein_coding\" \"protein_coding\" ...\n",
      "  ..$ start      : int [1:22553] 99883666 99839798 49551403 169818771 169631244 27938574 196621007 143815947 53362138 41040683 ...\n",
      "  ..$ end        : int [1:22553] 99894988 99854882 49575092 169863408 169823221 27961788 196716634 143832827 53481768 41067715 ...\n",
      "  ..$ strand     : chr [1:22553] \"-\" \"+\" \"-\" \"-\" ...\n",
      "  ..$ gene_status: chr [1:22553] \"KNOWN\" \"KNOWN\" \"KNOWN\" \"KNOWN\" ...\n",
      "  ..$ source     : chr [1:22553] \"HAVANA\" \"HAVANA\" \"HAVANA\" \"HAVANA\" ...\n",
      "  ..$ level      : int [1:22553] 2 2 2 2 2 2 1 2 2 2 ...\n",
      "  ..$ id         : chr [1:22553] \"X_99906649_T_C\" \"X_100312890_C_CA\" \"20_49597117_A_C\" \"1_169784436_CA_C\" ...\n",
      "  ..$ chrom      : chr [1:22553] \"X\" \"X\" \"20\" \"1\" ...\n",
      "  ..$ pos        : int [1:22553] 99906649 100312890 49597117 169784436 169614107 28538666 197005419 143297745 52983079 41111281 ...\n",
      "  ..$ ref        : chr [1:22553] \"TRUE\" \"C\" \"A\" \"CA\" ...\n",
      "  ..$ alt        : chr [1:22553] \"C\" \"CA\" \"C\" \"C\" ...\n",
      "  ..$ rsid       : chr [1:22553] \"rs1204410\" \".\" \"rs2426228\" \".\" ...\n",
      "  ..$ beta       : num [1:22553] 0.409 -0.646 -0.546 0.467 -2.215 ...\n",
      "  ..$ se         : num [1:22553] 0.0918 0.1663 0.1598 0.1235 0.5105 ...\n",
      "  ..$ pval       : num [1:22553] 1.45e-06 1.76e-04 4.16e-05 7.76e-05 4.22e-06 ...\n",
      "  ..$ bonferroni : num [1:22553] 0.0161 1 0.6745 1 0.0626 ...\n",
      "  ..$ type       : chr [1:22553] \"primary\" \"primary\" \"primary\" \"primary\" ...\n",
      "  ..$ fdr        : num [1:22553] 0.102 1 1 1 0.256 ...\n",
      "  ..$ qval       : num [1:22553] 0.102 1 1 1 0.256 ...\n",
      "  ..$ egene      : logi [1:22553] FALSE FALSE FALSE FALSE FALSE FALSE ...\n",
      "  ..$ overlap    : logi [1:22553] FALSE FALSE FALSE FALSE FALSE FALSE ...\n",
      " $ job101_mouse_ventricle          :'data.frame':\t22480 obs. of  24 variables:\n",
      "  ..$ gene_id    : chr [1:22480] \"ENSG00000000003.10\" \"ENSG00000000005.5\" \"ENSG00000000419.8\" \"ENSG00000000457.9\" ...\n",
      "  ..$ gene_name  : chr [1:22480] \"TSPAN6\" \"TNMD\" \"DPM1\" \"SCYL3\" ...\n",
      "  ..$ gene_type  : chr [1:22480] \"protein_coding\" \"protein_coding\" \"protein_coding\" \"protein_coding\" ...\n",
      "  ..$ start      : int [1:22480] 99883666 99839798 49551403 169818771 169631244 27938574 196621007 143815947 53362138 41040683 ...\n",
      "  ..$ end        : int [1:22480] 99894988 99854882 49575092 169863408 169823221 27961788 196716634 143832827 53481768 41067715 ...\n",
      "  ..$ strand     : chr [1:22480] \"-\" \"+\" \"-\" \"-\" ...\n",
      "  ..$ gene_status: chr [1:22480] \"KNOWN\" \"KNOWN\" \"KNOWN\" \"KNOWN\" ...\n",
      "  ..$ source     : chr [1:22480] \"HAVANA\" \"HAVANA\" \"HAVANA\" \"HAVANA\" ...\n",
      "  ..$ level      : int [1:22480] 2 2 2 2 2 2 1 2 2 2 ...\n",
      "  ..$ id         : chr [1:22480] \"X_99906649_T_C\" \"X_100312890_C_CA\" \"20_49597117_A_C\" \"1_169784436_CA_C\" ...\n",
      "  ..$ chrom      : chr [1:22480] \"X\" \"X\" \"20\" \"1\" ...\n",
      "  ..$ pos        : int [1:22480] 99906649 100312890 49597117 169784436 169614107 28538666 197005419 143297745 52983079 41111281 ...\n",
      "  ..$ ref        : chr [1:22480] \"TRUE\" \"C\" \"A\" \"CA\" ...\n",
      "  ..$ alt        : chr [1:22480] \"C\" \"CA\" \"C\" \"C\" ...\n",
      "  ..$ rsid       : chr [1:22480] \"rs1204410\" \".\" \"rs2426228\" \".\" ...\n",
      "  ..$ beta       : num [1:22480] 0.404 -0.607 -0.41 0.456 -2.098 ...\n",
      "  ..$ se         : num [1:22480] 0.0851 0.1589 0.1459 0.11 0.5046 ...\n",
      "  ..$ pval       : num [1:22480] 2.15e-07 7.00e-05 7.29e-06 7.46e-06 2.86e-06 ...\n",
      "  ..$ bonferroni : num [1:22480] 0.00238 0.78023 0.11821 0.1033 0.04242 ...\n",
      "  ..$ type       : chr [1:22480] \"primary\" \"primary\" \"primary\" \"primary\" ...\n",
      "  ..$ fdr        : num [1:22480] 0.00621 0.85664 0.16529 0.14716 0.06974 ...\n",
      "  ..$ qval       : num [1:22480] 0.00569 0.78506 0.15148 0.13487 0.06392 ...\n",
      "  ..$ egene      : logi [1:22480] TRUE FALSE FALSE FALSE TRUE TRUE ...\n",
      "  ..$ overlap    : logi [1:22480] FALSE FALSE FALSE FALSE FALSE FALSE ...\n"
     ]
    }
   ],
   "source": [
    "str(qtl_list2)"
   ]
  },
  {
   "cell_type": "markdown",
   "metadata": {},
   "source": [
    "# Compare with GTEx: \n",
    "- how many tissues eGene?"
   ]
  },
  {
   "cell_type": "code",
   "execution_count": 76,
   "metadata": {},
   "outputs": [],
   "source": [
    "gtex_folder                    = \"/publicdata/gtex_v7\"\n",
    "gtex2col                       = read.table(paste(gtex_folder, \"Color_scheme\", sep = \"/\"), header = FALSE, col.names = c(\"tissue\", \"color\"), comment.char = \"\")\n",
    "gtex_samples                   = read.table(paste(gtex_folder, \"eqtl_summary.txt\", sep = \"/\"), header = TRUE, sep = \"\\t\")\n",
    "gtex_samples$uberon            = NULL\n",
    "gtex_samples$sample_size_total = NULL\n",
    "gtex_samples$tissue            = gsub(\"EBV\", \"EBV-\", gsub(\"c1\", \"c-1\", gsub(\"[ ]+\", \"_\", gsub(\"-\", \"\", gsub(\"\\\\(\", \"\", gsub(\"\\\\)\", \"\", gtex_samples$tissue_name))))))\n",
    "gtex_samples                   = merge(gtex_samples, gtex2col)\n",
    "gtex_samples$egenes            = as.numeric(gtex_samples$egenes)\n"
   ]
  },
  {
   "cell_type": "code",
   "execution_count": 77,
   "metadata": {},
   "outputs": [],
   "source": [
    "qtls_by_tissue = function(tissue)\n",
    "{\n",
    "    infile = paste(\"/publicdata/gtex_v7/GTEx_Analysis_v7_eQTL/\", tissue, \".v7.egenes.txt\", sep = \"\")\n",
    "    indata = fread(infile, sep = \"\\t\", header = TRUE, data.table = FALSE)\n",
    "    \n",
    "    return(data.frame(gene_id = indata[indata$qval < 0.05, \"gene_id\"], tissue = tissue))\n",
    "}\n",
    "\n",
    "qtls_all   = do.call(\"rbind\", lapply(gtex_samples$tissue, qtls_by_tissue))\n",
    "qtls_table = as.data.frame.matrix(table(qtls_all), stringsAsFactors = FALSE)\n",
    "colnames(qtls_table) = tolower(colnames(qtls_table))"
   ]
  },
  {
   "cell_type": "code",
   "execution_count": 78,
   "metadata": {},
   "outputs": [],
   "source": [
    "count_tissues = function(tissue, x, qtls_table)\n",
    "{\n",
    "    this         = qtls_table[,grepl(tissue, colnames(qtls_table)) == FALSE]\n",
    "    tomerge      = data.frame(gene_id = rownames(this), n = rowSums(this))\n",
    "    out          = merge(x, tomerge)\n",
    "    out$abs_beta = abs(out$beta)\n",
    "    out$diff     = out$se / out$abs_beta\n",
    "    \n",
    "    return(out)\n",
    "}\n",
    "\n",
    "qtls2n        = lapply(names(qtl_list2), function(tissue){count_tissues(tissue, qtl_list2[[tissue]], qtls_table)})\n",
    "names(qtls2n) = names(qtl_list2)"
   ]
  },
  {
   "cell_type": "code",
   "execution_count": 79,
   "metadata": {},
   "outputs": [
    {
     "name": "stdout",
     "output_type": "stream",
     "text": [
      "List of 4\n",
      " $ eqtls_ipsc_cvpcs_only_bulk      :'data.frame':\t20140 obs. of  27 variables:\n",
      "  ..$ gene_id    : chr [1:20140] \"ENSG00000000003.10\" \"ENSG00000000005.5\" \"ENSG00000000419.8\" \"ENSG00000000457.9\" ...\n",
      "  ..$ gene_name  : chr [1:20140] \"TSPAN6\" \"TNMD\" \"DPM1\" \"SCYL3\" ...\n",
      "  ..$ gene_type  : chr [1:20140] \"protein_coding\" \"protein_coding\" \"protein_coding\" \"protein_coding\" ...\n",
      "  ..$ start      : int [1:20140] 99883666 99839798 49551403 169818771 169631244 27938574 196621007 143815947 53362138 41040683 ...\n",
      "  ..$ end        : int [1:20140] 99894988 99854882 49575092 169863408 169823221 27961788 196716634 143832827 53481768 41067715 ...\n",
      "  ..$ strand     : chr [1:20140] \"-\" \"+\" \"-\" \"-\" ...\n",
      "  ..$ gene_status: chr [1:20140] \"KNOWN\" \"KNOWN\" \"KNOWN\" \"KNOWN\" ...\n",
      "  ..$ source     : chr [1:20140] \"HAVANA\" \"HAVANA\" \"HAVANA\" \"HAVANA\" ...\n",
      "  ..$ level      : int [1:20140] 2 2 2 2 2 2 1 2 2 2 ...\n",
      "  ..$ id         : chr [1:20140] \"X_100546476_CGGAGCGCCGAGG_C\" \"CNV_X_100566186_100567597_HipSci\" \"Human_STR_860602\" \"1_169024807_C_T\" ...\n",
      "  ..$ chrom      : chr [1:20140] \"X\" \"X\" \"20\" \"1\" ...\n",
      "  ..$ pos        : int [1:20140] 100546476 100566186 49388683 169024807 169048990 28256157 196607412 144791487 53919689 41523730 ...\n",
      "  ..$ ref        : chr [1:20140] \"CGGAGCGCCGAGG\" \"T\" \"AT\" \"C\" ...\n",
      "  ..$ alt        : chr [1:20140] \"C\" \"N\" \"N\" \"TRUE\" ...\n",
      "  ..$ rsid       : chr [1:20140] \".\" \"CNV_X_100566186_100567597_HipSci\" \"Human_STR_860602\" \".\" ...\n",
      "  ..$ beta       : num [1:20140] 1.317 0.8 -0.827 -1.2 -1.943 ...\n",
      "  ..$ se         : num [1:20140] 0.264 0.312 0.206 0.368 0.437 ...\n",
      "  ..$ pval       : num [1:20140] 5.93e-07 8.20e-09 3.24e-05 9.45e-04 5.98e-07 ...\n",
      "  ..$ bonferroni : num [1:20140] 6.58e-03 9.14e-05 5.26e-01 1.00 8.88e-03 ...\n",
      "  ..$ type       : chr [1:20140] \"primary\" \"primary\" \"primary\" \"primary\" ...\n",
      "  ..$ fdr        : num [1:20140] 0.025062 0.000683 0.724566 1 0.031815 ...\n",
      "  ..$ qval       : num [1:20140] 0.025062 0.000683 0.724566 1 0.031815 ...\n",
      "  ..$ egene      : logi [1:20140] TRUE TRUE FALSE FALSE TRUE TRUE ...\n",
      "  ..$ overlap    : logi [1:20140] TRUE TRUE FALSE FALSE TRUE TRUE ...\n",
      "  ..$ n          : num [1:20140] 21 7 4 22 24 10 13 16 12 29 ...\n",
      "  ..$ abs_beta   : num [1:20140] 1.317 0.8 0.827 1.2 1.943 ...\n",
      "  ..$ diff       : num [1:20140] 0.2 0.389 0.249 0.307 0.225 ...\n",
      " $ eqtls_ipsc_cvpcs_only_v01       :'data.frame':\t35908 obs. of  27 variables:\n",
      "  ..$ gene_id    : chr [1:35908] \"ENSG00000000003.10\" \"ENSG00000000003.10\" \"ENSG00000000005.5\" \"ENSG00000000005.5\" ...\n",
      "  ..$ gene_name  : chr [1:35908] \"TSPAN6\" \"TSPAN6\" \"TNMD\" \"TNMD\" ...\n",
      "  ..$ gene_type  : chr [1:35908] \"protein_coding\" \"protein_coding\" \"protein_coding\" \"protein_coding\" ...\n",
      "  ..$ start      : int [1:35908] 99883666 99883666 99839798 99839798 49551403 169818771 169631244 169631244 169631244 27938574 ...\n",
      "  ..$ end        : int [1:35908] 99894988 99894988 99854882 99854882 49575092 169863408 169823221 169823221 169823221 27961788 ...\n",
      "  ..$ strand     : chr [1:35908] \"-\" \"-\" \"+\" \"+\" ...\n",
      "  ..$ gene_status: chr [1:35908] \"KNOWN\" \"KNOWN\" \"KNOWN\" \"KNOWN\" ...\n",
      "  ..$ source     : chr [1:35908] \"HAVANA\" \"HAVANA\" \"HAVANA\" \"HAVANA\" ...\n",
      "  ..$ level      : int [1:35908] 2 2 2 2 2 2 2 2 2 2 ...\n",
      "  ..$ id         : chr [1:35908] \"X_100546476_CGGAGCGCCGAGG_C\" \"X_100571754_T_C\" \"CNV_X_100566186_100567597_HipSci\" \"X_99283407_ATTTTTTTTTTTTTTTTTTTTTTTTTTTT_A\" ...\n",
      "  ..$ chrom      : chr [1:35908] \"X\" \"X\" \"X\" \"X\" ...\n",
      "  ..$ pos        : int [1:35908] 100546476 100571754 100566186 99283407 49388683 169024807 169048990 170293455 168843478 28256157 ...\n",
      "  ..$ ref        : chr [1:35908] \"CGGAGCGCCGAGG\" \"T\" \"T\" \"ATTTTTTTTTTTTTTTTTTTTTTTTTTTT\" ...\n",
      "  ..$ alt        : chr [1:35908] \"C\" \"C\" \"N\" \"A\" ...\n",
      "  ..$ rsid       : chr [1:35908] \".\" \".\" \"CNV_X_100566186_100567597_HipSci\" \"rs368452995\" ...\n",
      "  ..$ beta       : num [1:35908] 1.31 1.8 0.744 -1.029 -0.813 ...\n",
      "  ..$ se         : num [1:35908] 0.264 0.303 0.289 0.214 0.199 ...\n",
      "  ..$ pval       : num [1:35908] 5.81e-07 6.55e-08 6.66e-10 1.03e-06 1.75e-05 ...\n",
      "  ..$ bonferroni : num [1:35908] 6.44e-03 7.24e-04 7.42e-06 1.15e-02 2.83e-01 ...\n",
      "  ..$ type       : chr [1:35908] \"primary\" \"conditional1\" \"primary\" \"conditional1\" ...\n",
      "  ..$ fdr        : num [1:35908] 1.52e-02 4.92e-03 4.59e-05 4.37e-02 3.69e-01 ...\n",
      "  ..$ qval       : num [1:35908] 1.51e-02 6.08e-05 4.54e-05 5.40e-04 3.65e-01 ...\n",
      "  ..$ egene      : logi [1:35908] TRUE TRUE TRUE TRUE FALSE FALSE ...\n",
      "  ..$ overlap    : logi [1:35908] TRUE TRUE TRUE TRUE FALSE FALSE ...\n",
      "  ..$ n          : num [1:35908] 21 21 7 7 4 22 24 24 24 10 ...\n",
      "  ..$ abs_beta   : num [1:35908] 1.31 1.8 0.744 1.029 0.813 ...\n",
      "  ..$ diff       : num [1:35908] 0.202 0.168 0.388 0.208 0.245 ...\n",
      " $ job101_mouse_ventricle_only_bulk:'data.frame':\t20716 obs. of  27 variables:\n",
      "  ..$ gene_id    : chr [1:20716] \"ENSG00000000003.10\" \"ENSG00000000005.5\" \"ENSG00000000419.8\" \"ENSG00000000457.9\" ...\n",
      "  ..$ gene_name  : chr [1:20716] \"TSPAN6\" \"TNMD\" \"DPM1\" \"SCYL3\" ...\n",
      "  ..$ gene_type  : chr [1:20716] \"protein_coding\" \"protein_coding\" \"protein_coding\" \"protein_coding\" ...\n",
      "  ..$ start      : int [1:20716] 99883666 99839798 49551403 169818771 169631244 27938574 196621007 143815947 53362138 41040683 ...\n",
      "  ..$ end        : int [1:20716] 99894988 99854882 49575092 169863408 169823221 27961788 196716634 143832827 53481768 41067715 ...\n",
      "  ..$ strand     : chr [1:20716] \"-\" \"+\" \"-\" \"-\" ...\n",
      "  ..$ gene_status: chr [1:20716] \"KNOWN\" \"KNOWN\" \"KNOWN\" \"KNOWN\" ...\n",
      "  ..$ source     : chr [1:20716] \"HAVANA\" \"HAVANA\" \"HAVANA\" \"HAVANA\" ...\n",
      "  ..$ level      : int [1:20716] 2 2 2 2 2 2 1 2 2 2 ...\n",
      "  ..$ id         : chr [1:20716] \"X_99906649_T_C\" \"X_100312890_C_CA\" \"20_49597117_A_C\" \"1_169784436_CA_C\" ...\n",
      "  ..$ chrom      : chr [1:20716] \"X\" \"X\" \"20\" \"1\" ...\n",
      "  ..$ pos        : int [1:20716] 99906649 100312890 49597117 169784436 169614107 28538666 197005419 143297745 52983079 41111281 ...\n",
      "  ..$ ref        : chr [1:20716] \"TRUE\" \"C\" \"A\" \"CA\" ...\n",
      "  ..$ alt        : chr [1:20716] \"C\" \"CA\" \"C\" \"C\" ...\n",
      "  ..$ rsid       : chr [1:20716] \"rs1204410\" \".\" \"rs2426228\" \".\" ...\n",
      "  ..$ beta       : num [1:20716] 0.409 -0.646 -0.546 0.467 -2.215 ...\n",
      "  ..$ se         : num [1:20716] 0.0918 0.1663 0.1598 0.1235 0.5105 ...\n",
      "  ..$ pval       : num [1:20716] 1.45e-06 1.76e-04 4.16e-05 7.76e-05 4.22e-06 ...\n",
      "  ..$ bonferroni : num [1:20716] 0.0161 1 0.6745 1 0.0626 ...\n",
      "  ..$ type       : chr [1:20716] \"primary\" \"primary\" \"primary\" \"primary\" ...\n",
      "  ..$ fdr        : num [1:20716] 0.102 1 1 1 0.256 ...\n",
      "  ..$ qval       : num [1:20716] 0.102 1 1 1 0.256 ...\n",
      "  ..$ egene      : logi [1:20716] FALSE FALSE FALSE FALSE FALSE FALSE ...\n",
      "  ..$ overlap    : logi [1:20716] FALSE FALSE FALSE FALSE FALSE FALSE ...\n",
      "  ..$ n          : num [1:20716] 21 7 4 22 24 10 13 16 12 29 ...\n",
      "  ..$ abs_beta   : num [1:20716] 0.409 0.646 0.546 0.467 2.215 ...\n",
      "  ..$ diff       : num [1:20716] 0.225 0.258 0.293 0.265 0.23 ...\n",
      " $ job101_mouse_ventricle          :'data.frame':\t20649 obs. of  27 variables:\n",
      "  ..$ gene_id    : chr [1:20649] \"ENSG00000000003.10\" \"ENSG00000000005.5\" \"ENSG00000000419.8\" \"ENSG00000000457.9\" ...\n",
      "  ..$ gene_name  : chr [1:20649] \"TSPAN6\" \"TNMD\" \"DPM1\" \"SCYL3\" ...\n",
      "  ..$ gene_type  : chr [1:20649] \"protein_coding\" \"protein_coding\" \"protein_coding\" \"protein_coding\" ...\n",
      "  ..$ start      : int [1:20649] 99883666 99839798 49551403 169818771 169631244 27938574 196621007 143815947 53362138 41040683 ...\n",
      "  ..$ end        : int [1:20649] 99894988 99854882 49575092 169863408 169823221 27961788 196716634 143832827 53481768 41067715 ...\n",
      "  ..$ strand     : chr [1:20649] \"-\" \"+\" \"-\" \"-\" ...\n",
      "  ..$ gene_status: chr [1:20649] \"KNOWN\" \"KNOWN\" \"KNOWN\" \"KNOWN\" ...\n",
      "  ..$ source     : chr [1:20649] \"HAVANA\" \"HAVANA\" \"HAVANA\" \"HAVANA\" ...\n",
      "  ..$ level      : int [1:20649] 2 2 2 2 2 2 1 2 2 2 ...\n",
      "  ..$ id         : chr [1:20649] \"X_99906649_T_C\" \"X_100312890_C_CA\" \"20_49597117_A_C\" \"1_169784436_CA_C\" ...\n",
      "  ..$ chrom      : chr [1:20649] \"X\" \"X\" \"20\" \"1\" ...\n",
      "  ..$ pos        : int [1:20649] 99906649 100312890 49597117 169784436 169614107 28538666 197005419 143297745 52983079 41111281 ...\n",
      "  ..$ ref        : chr [1:20649] \"TRUE\" \"C\" \"A\" \"CA\" ...\n",
      "  ..$ alt        : chr [1:20649] \"C\" \"CA\" \"C\" \"C\" ...\n",
      "  ..$ rsid       : chr [1:20649] \"rs1204410\" \".\" \"rs2426228\" \".\" ...\n",
      "  ..$ beta       : num [1:20649] 0.404 -0.607 -0.41 0.456 -2.098 ...\n",
      "  ..$ se         : num [1:20649] 0.0851 0.1589 0.1459 0.11 0.5046 ...\n",
      "  ..$ pval       : num [1:20649] 2.15e-07 7.00e-05 7.29e-06 7.46e-06 2.86e-06 ...\n",
      "  ..$ bonferroni : num [1:20649] 0.00238 0.78023 0.11821 0.1033 0.04242 ...\n",
      "  ..$ type       : chr [1:20649] \"primary\" \"primary\" \"primary\" \"primary\" ...\n",
      "  ..$ fdr        : num [1:20649] 0.00621 0.85664 0.16529 0.14716 0.06974 ...\n",
      "  ..$ qval       : num [1:20649] 0.00569 0.78506 0.15148 0.13487 0.06392 ...\n",
      "  ..$ egene      : logi [1:20649] TRUE FALSE FALSE FALSE TRUE TRUE ...\n",
      "  ..$ overlap    : logi [1:20649] FALSE FALSE FALSE FALSE FALSE FALSE ...\n",
      "  ..$ n          : num [1:20649] 21 7 4 22 24 10 13 16 12 29 ...\n",
      "  ..$ abs_beta   : num [1:20649] 0.404 0.607 0.41 0.456 2.098 ...\n",
      "  ..$ diff       : num [1:20649] 0.21 0.262 0.355 0.241 0.241 ...\n"
     ]
    }
   ],
   "source": [
    "str(qtls2n)"
   ]
  },
  {
   "cell_type": "code",
   "execution_count": 80,
   "metadata": {},
   "outputs": [
    {
     "data": {
      "text/html": [
       "<table>\n",
       "<thead><tr><th scope=col>tissue</th><th scope=col>cells</th><th scope=col>original</th></tr></thead>\n",
       "<tbody>\n",
       "\t<tr><td>eqtls_ipsc_cvpcs_only_v01</td><td>13.89781                 </td><td>15.08295                 </td></tr>\n",
       "\t<tr><td>job101_mouse_ventricle   </td><td>13.29543                 </td><td>24.50798                 </td></tr>\n",
       "</tbody>\n",
       "</table>\n"
      ],
      "text/latex": [
       "\\begin{tabular}{r|lll}\n",
       " tissue & cells & original\\\\\n",
       "\\hline\n",
       "\t eqtls\\_ipsc\\_cvpcs\\_only\\_v01 & 13.89781                          & 15.08295                         \\\\\n",
       "\t job101\\_mouse\\_ventricle    & 13.29543                      & 24.50798                     \\\\\n",
       "\\end{tabular}\n"
      ],
      "text/markdown": [
       "\n",
       "| tissue | cells | original |\n",
       "|---|---|---|\n",
       "| eqtls_ipsc_cvpcs_only_v01 | 13.89781                  | 15.08295                  |\n",
       "| job101_mouse_ventricle    | 13.29543                  | 24.50798                  |\n",
       "\n"
      ],
      "text/plain": [
       "  tissue                    cells    original\n",
       "1 eqtls_ipsc_cvpcs_only_v01 13.89781 15.08295\n",
       "2 job101_mouse_ventricle    13.29543 24.50798"
      ]
     },
     "metadata": {},
     "output_type": "display_data"
    },
    {
     "data": {
      "text/html": [
       "<table>\n",
       "<thead><tr><th scope=col>tissue</th><th scope=col>cells</th><th scope=col>original</th></tr></thead>\n",
       "<tbody>\n",
       "\t<tr><td>eqtls_ipsc_cvpcs_only_v01</td><td>0.8241764                </td><td>1.035474                 </td></tr>\n",
       "\t<tr><td>job101_mouse_ventricle   </td><td>0.9166640                </td><td>1.040064                 </td></tr>\n",
       "</tbody>\n",
       "</table>\n"
      ],
      "text/latex": [
       "\\begin{tabular}{r|lll}\n",
       " tissue & cells & original\\\\\n",
       "\\hline\n",
       "\t eqtls\\_ipsc\\_cvpcs\\_only\\_v01 & 0.8241764                         & 1.035474                         \\\\\n",
       "\t job101\\_mouse\\_ventricle    & 0.9166640                     & 1.040064                     \\\\\n",
       "\\end{tabular}\n"
      ],
      "text/markdown": [
       "\n",
       "| tissue | cells | original |\n",
       "|---|---|---|\n",
       "| eqtls_ipsc_cvpcs_only_v01 | 0.8241764                 | 1.035474                  |\n",
       "| job101_mouse_ventricle    | 0.9166640                 | 1.040064                  |\n",
       "\n"
      ],
      "text/plain": [
       "  tissue                    cells     original\n",
       "1 eqtls_ipsc_cvpcs_only_v01 0.8241764 1.035474\n",
       "2 job101_mouse_ventricle    0.9166640 1.040064"
      ]
     },
     "metadata": {},
     "output_type": "display_data"
    },
    {
     "data": {
      "text/html": [
       "<table>\n",
       "<thead><tr><th scope=col>tissue</th><th scope=col>cells</th><th scope=col>original</th></tr></thead>\n",
       "<tbody>\n",
       "\t<tr><td>eqtls_ipsc_cvpcs_only_v01</td><td>0.2531404                </td><td>0.2647396                </td></tr>\n",
       "\t<tr><td>job101_mouse_ventricle   </td><td>0.2521952                </td><td>0.2507945                </td></tr>\n",
       "</tbody>\n",
       "</table>\n"
      ],
      "text/latex": [
       "\\begin{tabular}{r|lll}\n",
       " tissue & cells & original\\\\\n",
       "\\hline\n",
       "\t eqtls\\_ipsc\\_cvpcs\\_only\\_v01 & 0.2531404                         & 0.2647396                        \\\\\n",
       "\t job101\\_mouse\\_ventricle    & 0.2521952                     & 0.2507945                    \\\\\n",
       "\\end{tabular}\n"
      ],
      "text/markdown": [
       "\n",
       "| tissue | cells | original |\n",
       "|---|---|---|\n",
       "| eqtls_ipsc_cvpcs_only_v01 | 0.2531404                 | 0.2647396                 |\n",
       "| job101_mouse_ventricle    | 0.2521952                 | 0.2507945                 |\n",
       "\n"
      ],
      "text/plain": [
       "  tissue                    cells     original \n",
       "1 eqtls_ipsc_cvpcs_only_v01 0.2531404 0.2647396\n",
       "2 job101_mouse_ventricle    0.2521952 0.2507945"
      ]
     },
     "metadata": {},
     "output_type": "display_data"
    },
    {
     "data": {
      "image/png": "[encoded data removed]",
      "text/plain": [
       "plot without title"
      ]
     },
     "metadata": {},
     "output_type": "display_data"
    }
   ],
   "source": [
    "density_lines = function(x)\n",
    "{\n",
    "    if (length(x) > 0)\n",
    "    {\n",
    "        dens = density(x)\n",
    "        dens = data.frame(x = dens$x, y = dens$y)\n",
    "        dens = dens[dens$x >= 0,]\n",
    "        \n",
    "        dens = rbind(dens, data.frame(x = c(max(dens$x), min(dens$x)), y = c(0,0)))\n",
    "        #dens = rbind(dens, data.frame(x = rev(xlim), y = c(0,0)))\n",
    "\n",
    "        return(dens)\n",
    "    }\n",
    "}\n",
    "\n",
    "polygon_density = function(dens, color, y0, yscale = 0.95)\n",
    "{\n",
    "    if (nrow(dens) > 0)\n",
    "    {\n",
    "        polygon(dens$x, (dens$y / max(dens$y) * yscale) + y0, col = color)\n",
    "    }\n",
    "}\n",
    "\n",
    "\n",
    "plot_densities_gtex = function(qtls2n, tissue2name, column, filter, xmax, main, panel)\n",
    "{\n",
    "    if (filter == TRUE ){qtl2tissues_true  = lapply(qtls2n, function(x){x[x$egene == TRUE & x$overlap == TRUE , column]})}\n",
    "    if (filter == TRUE ){qtl2tissues_false = lapply(qtls2n, function(x){x[x$egene == TRUE & x$overlap == FALSE, column]})}\n",
    "    if (filter == FALSE){qtl2tissues_true  = lapply(qtls2n, function(x){x[, column]})}\n",
    "    if (filter == FALSE){qtl2tissues_false = lapply(qtls2n, function(x){x[, column]})}\n",
    "    names(qtl2tissues_true ) = names(qtl2tissues_true )\n",
    "    names(qtl2tissues_false) = names(qtl2tissues_false)\n",
    "    \n",
    "\n",
    "    dens_list_true  = lapply(qtl2tissues_true , density_lines)\n",
    "    dens_list_false = lapply(qtl2tissues_false, density_lines)\n",
    "\n",
    "    #tissue2name = tissue2name[order(tissue2name$y, decreasing = TRUE),]\n",
    "    \n",
    "    plot(1,1, type = \"n\", xlim = c(0, xmax), ylim = c(1,6), xlab = \"\", ylab = \"\", axes = FALSE)\n",
    "    axis(1)\n",
    "    mtext(text = main, side = 1, line = 2, cex = 0.75)\n",
    "    abline(h = 1:5)\n",
    "\n",
    "    polygon_density(dens_list_true [[tissue2name[1, \"tissue\"]]], tissue2name[1, \"color\"], tissue2name[1, \"y\"])\n",
    "    polygon_density(dens_list_false[[tissue2name[2, \"tissue\"]]], tissue2name[2, \"color\"], tissue2name[2, \"y\"])\n",
    "    polygon_density(dens_list_true [[tissue2name[3, \"tissue\"]]], tissue2name[3, \"color\"], tissue2name[3, \"y\"])\n",
    "    polygon_density(dens_list_false[[tissue2name[4, \"tissue\"]]], tissue2name[4, \"color\"], tissue2name[4, \"y\"])\n",
    "    \n",
    "    segments(x0 = c(mean(qtl2tissues_true [[tissue2name[1, \"tissue\"]]]), \n",
    "                    mean(qtl2tissues_false[[tissue2name[2, \"tissue\"]]]), \n",
    "                    mean(qtl2tissues_true [[tissue2name[3, \"tissue\"]]]), \n",
    "                    mean(qtl2tissues_false[[tissue2name[4, \"tissue\"]]])), \n",
    "             y0 = 1:4, y1 = 2:5, col = \"#000000\", lty = \"dashed\", lwd = 2)\n",
    "    \n",
    "\n",
    "    #text(x = rep(xmax/2, 5), y = (5:1)+0.5, labels = tissue2name$name, pos = 3)\n",
    "    mtext(text = panel, side = 2, line = 0, cex = 1.5 , at = 6, las = 1, font = 2)\n",
    "\n",
    "    text(xmax, 2.5, labels = paste(\"p\", signif(wilcox.test(qtl2tissues_false[[tissue2name[2, \"tissue\"]]], qtl2tissues_true[[tissue2name[1, \"tissue\"]]])$p.value, digits = 3), sep = \" = \"), pos = 2)\n",
    "    text(xmax, 4.5, labels = paste(\"p\", signif(wilcox.test(qtl2tissues_false[[tissue2name[4, \"tissue\"]]], qtl2tissues_true[[tissue2name[3, \"tissue\"]]])$p.value, digits = 3), sep = \" = \"), pos = 2)\n",
    "    \n",
    "    return(data.frame(tissue   = c(tissue2name[c(2,4), \"tissue\"]), \n",
    "                      cells    = c(mean(qtl2tissues_false[[tissue2name[2, \"tissue\"]]], na.rm = TRUE), mean(qtl2tissues_false[[tissue2name[4, \"tissue\"]]], na.rm = TRUE)),\n",
    "                      original = c(mean(qtl2tissues_true [[tissue2name[1, \"tissue\"]]], na.rm = TRUE), mean(qtl2tissues_true [[tissue2name[3, \"tissue\"]]], na.rm = TRUE))\n",
    "                     ))\n",
    "}\n",
    "\n",
    "par(mfrow = c(4,2), mar = c(3,2,1,1))\n",
    "plot_densities_gtex(qtls2n, tissue2name, \"n\"       , filter = TRUE , 50  , main = \"eGene in GTEx tissues (N)\", \"B\")\n",
    "plot_densities_gtex(qtls2n, tissue2name, \"abs_beta\", filter = FALSE,  3  , main = \"Beta\"                     , \"B\")\n",
    "plot_densities_gtex(qtls2n, tissue2name, \"se\"      , filter = FALSE,  1.1, main = \"SE of beta\"               , \"B\")\n",
    "\n"
   ]
  },
  {
   "cell_type": "code",
   "execution_count": 82,
   "metadata": {},
   "outputs": [
    {
     "ename": "ERROR",
     "evalue": "Error in parse(text = x, srcfile = src): <text>:9:26: unexpected ','\n8: \n9: barplot_egenes = (tissues,\n                            ^\n",
     "output_type": "error",
     "traceback": [
      "Error in parse(text = x, srcfile = src): <text>:9:26: unexpected ','\n8: \n9: barplot_egenes = (tissues,\n                            ^\nTraceback:\n"
     ]
    }
   ],
   "source": [
    "barplot_egenes = function(tissues, qtl_list, tissue2name)\n",
    "{\n",
    "    \n",
    "    plot(1,1, type = \"n\", xlab = \"\", ylab = \"\", xlim = range(as.numeric(unlist(lapply(qtl_list, function(x){range(x$exp)})))), ylim = range(as.numeric(unlist(lapply(qtl_list, function(x){range(x$logp)})))))\n",
    "    \n",
    "    invisible(lapply(tissues, function(tissue){points(qtl_list[[tissue]][,\"exp\"], qtl_list[[tissue]][,\"logp\"], col = tissue2name[tissue2name$tissue == tissue, \"color\"], pch = 16)}))\n",
    "}\n",
    "\n",
    "#barplot_egenes = (tissues, qtl_list, tissue2name)\n",
    "\n",
    "\n",
    "#run_qqplot(tissues, qtl_list, tissue2name)\n"
   ]
  },
  {
   "cell_type": "markdown",
   "metadata": {},
   "source": [
    "# Scatterplot QTLs"
   ]
  },
  {
   "cell_type": "code",
   "execution_count": 83,
   "metadata": {},
   "outputs": [
    {
     "name": "stderr",
     "output_type": "stream",
     "text": [
      "0.97372423252411\n",
      "0.953257789905667\n"
     ]
    },
    {
     "data": {
      "text/html": [
       "<table>\n",
       "<thead><tr><th scope=col>tissue</th><th scope=col>tissue1</th><th scope=col>tissue2</th><th scope=col>genes</th><th scope=col>ns</th><th scope=col>only1</th><th scope=col>only2</th><th scope=col>both</th></tr></thead>\n",
       "<tbody>\n",
       "\t<tr><td>iPSC-CVPCs                      </td><td>eqtls_ipsc_cvpcs_only_bulk      </td><td>eqtls_ipsc_cvpcs_only_v01       </td><td>16432                           </td><td>5488                            </td><td>12                              </td><td>3997                            </td><td>6935                            </td></tr>\n",
       "\t<tr><td>Adult heart                     </td><td>job101_mouse_ventricle_only_bulk</td><td>job101_mouse_ventricle          </td><td>17100                           </td><td>5862                            </td><td> 0                              </td><td>8087                            </td><td>3151                            </td></tr>\n",
       "</tbody>\n",
       "</table>\n"
      ],
      "text/latex": [
       "\\begin{tabular}{r|llllllll}\n",
       " tissue & tissue1 & tissue2 & genes & ns & only1 & only2 & both\\\\\n",
       "\\hline\n",
       "\t iPSC-CVPCs                               & eqtls\\_ipsc\\_cvpcs\\_only\\_bulk       & eqtls\\_ipsc\\_cvpcs\\_only\\_v01        & 16432                                    & 5488                                     & 12                                       & 3997                                     & 6935                                    \\\\\n",
       "\t Adult heart                              & job101\\_mouse\\_ventricle\\_only\\_bulk & job101\\_mouse\\_ventricle               & 17100                                    & 5862                                     &  0                                       & 8087                                     & 3151                                    \\\\\n",
       "\\end{tabular}\n"
      ],
      "text/markdown": [
       "\n",
       "| tissue | tissue1 | tissue2 | genes | ns | only1 | only2 | both |\n",
       "|---|---|---|---|---|---|---|---|\n",
       "| iPSC-CVPCs                       | eqtls_ipsc_cvpcs_only_bulk       | eqtls_ipsc_cvpcs_only_v01        | 16432                            | 5488                             | 12                               | 3997                             | 6935                             |\n",
       "| Adult heart                      | job101_mouse_ventricle_only_bulk | job101_mouse_ventricle           | 17100                            | 5862                             |  0                               | 8087                             | 3151                             |\n",
       "\n"
      ],
      "text/plain": [
       "  tissue      tissue1                          tissue2                   genes\n",
       "1 iPSC-CVPCs  eqtls_ipsc_cvpcs_only_bulk       eqtls_ipsc_cvpcs_only_v01 16432\n",
       "2 Adult heart job101_mouse_ventricle_only_bulk job101_mouse_ventricle    17100\n",
       "  ns   only1 only2 both\n",
       "1 5488 12    3997  6935\n",
       "2 5862  0    8087  3151"
      ]
     },
     "metadata": {},
     "output_type": "display_data"
    },
    {
     "data": {
      "image/png": "[encoded data removed]",
      "text/plain": [
       "Plot with title “”"
      ]
     },
     "metadata": {},
     "output_type": "display_data"
    }
   ],
   "source": [
    "compare_qtls = function(tissue1, tissue2, tissue)\n",
    "{\n",
    "    qtls1 = read.table(paste(\"qtls/\", tissue1, \"/analysis/egenes.\", tissue1, \".txt\", sep = \"\"), header = TRUE)\n",
    "    qtls2 = read.table(paste(\"qtls/\", tissue2, \"/analysis/egenes.\", tissue2, \".txt\", sep = \"\"), header = TRUE)\n",
    "    qtls1$gene_var = paste(qtls1$gene_id, qtls1$id)\n",
    "    qtls2$gene_var = paste(qtls2$gene_id, qtls2$id)\n",
    "    \n",
    "    qtls  = merge(qtls1[,c(\"gene_var\", \"egene\", \"beta\", \"se\", \"bonferroni\")], qtls2[,c(\"gene_var\", \"egene\", \"beta\", \"se\", \"bonferroni\")], by = \"gene_var\", suffixes = 1:2)\n",
    "    \n",
    "    qtls$color = \"#aaaaaa\"\n",
    "    qtls[qtls$egene1 == TRUE  & qtls$egene2 == TRUE , \"color\"] = \"#ff0000\"\n",
    "    qtls[qtls$egene1 == TRUE  & qtls$egene2 == FALSE, \"color\"] = \"#ff00ff\"\n",
    "    qtls[qtls$egene1 == FALSE & qtls$egene2 == TRUE , \"color\"] = \"#00ffff\"\n",
    "    qtls = rbind(qtls[qtls$egene1 == FALSE & qtls$egene2 == FALSE,],\n",
    "                 qtls[qtls$egene1 == TRUE  & qtls$egene2 == TRUE ,],\n",
    "                 qtls[qtls$egene1 == FALSE & qtls$egene2 == TRUE ,],\n",
    "                 qtls[qtls$egene1 == TRUE  & qtls$egene2 == FALSE,]\n",
    "                )\n",
    "    \n",
    "    message(cor(qtls$beta1, qtls$beta2))\n",
    "    \n",
    "    plot(qtls$beta1, qtls$beta2, bg = \"#aaaaaa33\", col = \"#00000033\", pch = 21, cex = 0.75, xlab = \"\", ylab = \"\", main = \"\")\n",
    "    #smoothScatter(qtls$beta1, qtls$beta2, bg = qtls$color, xlab = \"\", ylab = \"\", main = \"\", nrpoints = 0)\n",
    "    #points(qtls[qtls$egene1 == FALSE & qtls$egene2 == TRUE , \"beta1\"], qtls[qtls$egene1 == FALSE & qtls$egene2 == TRUE , \"beta2\"], bg = \"#00ffff\", pch = 21, cex = 0.75)\n",
    "    #points(qtls[qtls$egene1 == TRUE  & qtls$egene2 == FALSE, \"beta1\"], qtls[qtls$egene1 == TRUE  & qtls$egene2 == FALSE, \"beta2\"], bg = \"#ff00ff\", pch = 21, cex = 0.75)\n",
    "    \n",
    "    abline(h = 0, lty = \"dashed\")\n",
    "    abline(v = 0, lty = \"dashed\")\n",
    "    mtext(text = tissue1, side = 1, line = 2  )\n",
    "    mtext(text = tissue2, side = 2, line = 2  )\n",
    "    mtext(text = tissue , side = 3, line = 0.1)\n",
    "    \n",
    "    #text(x = rep(min(qtls$beta1),5), y = (0:(-4)) + max(qtls$beta2), cex = 0.75, pos = 4,\n",
    "    #     labels = c(paste(\"Genes\", nrow(qtls1), sep = \": \"),\n",
    "    #                paste(\"Genes with the same top hit\", nrow(qtls), sep = \": \"),\n",
    "    #                paste(\"eGenes\", tissue1, \"only:\"   , nrow(qtls[qtls$egene1 == TRUE  & qtls$egene2 == FALSE,]), sep = \" \"),\n",
    "    #                paste(\"eGenes\", tissue2, \"only:\"   , nrow(qtls[qtls$egene1 == FALSE & qtls$egene2 == TRUE ,]), sep = \" \"),\n",
    "    #                paste(\"eGenes both tissues:\"       , nrow(qtls[qtls$egene1 == TRUE  & qtls$egene2 == TRUE ,]), sep = \" \")))\n",
    "    #\n",
    "    #points(x = rep(min(qtls$beta1),3), y = (-2:(-4)) + max(qtls$beta2), pch = 21, bg = c(\"#ff00ff\", \"#00ffff\", \"#ff0000\"))\n",
    "    \n",
    "    #legend(\"bottomright\", pch = 21, pt.bg = c(\"#aaaaaa\", \"#ff00ff\", \"#00ffff\", \"#ff0000\"),\n",
    "    #       legend = c(\"Not significant\", tissue1, tissue2, \"Both\"))\n",
    "    \n",
    "    write.table(qtls, file = paste(\"qtls\", tissue1, tissue2, \"txt\", sep = \".\"), quote = FALSE, sep = \"\\t\", row.names = FALSE, col.names = TRUE)\n",
    "    \n",
    "    return(data.frame(tissue  = tissue,\n",
    "                      tissue1 = tissue1, \n",
    "                      tissue2 = tissue2, \n",
    "                      genes   = nrow(qtls), \n",
    "                      ns      = nrow(qtls[qtls$egene1 == FALSE & qtls$egene2 == FALSE,]),\n",
    "                      only1   = nrow(qtls[qtls$egene1 == TRUE  & qtls$egene2 == FALSE,]),\n",
    "                      only2   = nrow(qtls[qtls$egene1 == FALSE & qtls$egene2 == TRUE ,]),\n",
    "                      both    = nrow(qtls[qtls$egene1 == TRUE  & qtls$egene2 == TRUE ,])\n",
    "                     ))\n",
    "    \n",
    "    #return(list(#qtls1      = qtls1, \n",
    "    #            #qtls2      = qtls2,\n",
    "    #            ttest_beta = t.test(abs(qtls$beta2), abs(qtls$beta1), paired = TRUE),\n",
    "    #            ttest_se   = t.test(qtls$se2  , qtls$se1  , paired = TRUE)))\n",
    "}\n",
    "\n",
    "par(mfrow = c(2,2), mar = c(3,3,2,1))\n",
    "\n",
    "out1 = compare_qtls(tissue2name[1, \"tissue\"], tissue2name[2, \"tissue\"], \"iPSC-CVPCs\" )\n",
    "out2 = compare_qtls(tissue2name[3, \"tissue\"], tissue2name[4, \"tissue\"], \"Adult heart\")\n",
    "\n",
    "qtl2plot = rbind(out1, out2)\n",
    "\n",
    "qtl2plot"
   ]
  },
  {
   "cell_type": "code",
   "execution_count": 84,
   "metadata": {},
   "outputs": [],
   "source": [
    "qtl2plot_data = function(tissue)\n",
    "{\n",
    "    qtls = read.table(paste(\"qtls/\", tissue, \"/analysis/egenes.\"     , tissue, \".txt\", sep = \"\"), header = TRUE)\n",
    "    \n",
    "    out = data.frame(tissue = tissue, egenes = nrow(qtls[qtls$egene == TRUE,]), ns = nrow(qtls[qtls$egene == FALSE,]))\n",
    "    \n",
    "    return(out)\n",
    "}\n",
    "\n",
    "qtl2plot = do.call(\"rbind\", lapply(tissue2name$tissue, qtl2plot_data))\n"
   ]
  },
  {
   "cell_type": "code",
   "execution_count": 87,
   "metadata": {},
   "outputs": [
    {
     "data": {
      "image/png": "[encoded data removed]",
      "text/plain": [
       "plot without title"
      ]
     },
     "metadata": {},
     "output_type": "display_data"
    }
   ],
   "source": [
    "plot_densities_gtex = function(qtls2n, tissue2name, column, filter, xmax, main, panel)\n",
    "{\n",
    "    if (filter == TRUE ){qtl2tissues_true  = lapply(qtls2n, function(x){x[x$egene == TRUE & x$overlap == TRUE , column]})}\n",
    "    if (filter == TRUE ){qtl2tissues_false = lapply(qtls2n, function(x){x[x$egene == TRUE & x$overlap == FALSE, column]})}\n",
    "    if (filter == FALSE){qtl2tissues_true  = lapply(qtls2n, function(x){x[, column]})}\n",
    "    if (filter == FALSE){qtl2tissues_false = lapply(qtls2n, function(x){x[, column]})}\n",
    "    names(qtl2tissues_true ) = names(qtl2tissues_true )\n",
    "    names(qtl2tissues_false) = names(qtl2tissues_false)\n",
    "    \n",
    "\n",
    "    dens_list_true  = lapply(qtl2tissues_true , density_lines)\n",
    "    dens_list_false = lapply(qtl2tissues_false, density_lines)\n",
    "\n",
    "    #tissue2name = tissue2name[order(tissue2name$y, decreasing = TRUE),]\n",
    "    \n",
    "    plot(1,1, type = \"n\", xlim = c(0, xmax), ylim = c(1,5), xlab = \"\", ylab = \"\", axes = FALSE)\n",
    "    axis(1, cex.axis = 1.5)\n",
    "    mtext(text = main, side = 1, line = 3, cex = 1)\n",
    "    abline(h = 1:4)\n",
    "\n",
    "    polygon_density(dens_list_true [[tissue2name[1, \"tissue\"]]], tissue2name[1, \"color\"], tissue2name[1, \"y\"])\n",
    "    polygon_density(dens_list_false[[tissue2name[2, \"tissue\"]]], tissue2name[2, \"color\"], tissue2name[2, \"y\"])\n",
    "    polygon_density(dens_list_true [[tissue2name[3, \"tissue\"]]], tissue2name[3, \"color\"], tissue2name[3, \"y\"])\n",
    "    polygon_density(dens_list_false[[tissue2name[4, \"tissue\"]]], tissue2name[4, \"color\"], tissue2name[4, \"y\"])\n",
    "    \n",
    "    segments(x0 = c(mean(qtl2tissues_true [[tissue2name[1, \"tissue\"]]]), \n",
    "                    mean(qtl2tissues_false[[tissue2name[2, \"tissue\"]]]), \n",
    "                    mean(qtl2tissues_true [[tissue2name[3, \"tissue\"]]]), \n",
    "                    mean(qtl2tissues_false[[tissue2name[4, \"tissue\"]]])), \n",
    "             y0 = 4:1, y1 = 5:2, col = \"#000000\", lty = \"dashed\", lwd = 2)\n",
    "    \n",
    "\n",
    "    #text(x = rep(xmax/2, 5), y = (5:1)+0.5, labels = tissue2name$name, pos = 3)\n",
    "    mtext(text = panel, side = 2, line = 0, cex = 1.5 , at = 6, las = 1, font = 2)\n",
    "\n",
    "    text(xmax, 3.5, labels = paste(\"p\", signif(wilcox.test(qtl2tissues_false[[tissue2name[2, \"tissue\"]]], qtl2tissues_true[[tissue2name[1, \"tissue\"]]])$p.value, digits = 3), sep = \" = \"), pos = 2, cex = 1.5)\n",
    "    text(xmax, 1.5, labels = paste(\"p\", signif(wilcox.test(qtl2tissues_false[[tissue2name[4, \"tissue\"]]], qtl2tissues_true[[tissue2name[3, \"tissue\"]]])$p.value, digits = 3), sep = \" = \"), pos = 2, cex = 1.5)\n",
    "    \n",
    "    return(data.frame(tissue   = c(tissue2name[c(2,4), \"tissue\"]), \n",
    "                      cells    = c(mean(qtl2tissues_false[[tissue2name[2, \"tissue\"]]], na.rm = TRUE), mean(qtl2tissues_false[[tissue2name[4, \"tissue\"]]], na.rm = TRUE)),\n",
    "                      original = c(mean(qtl2tissues_true [[tissue2name[1, \"tissue\"]]], na.rm = TRUE), mean(qtl2tissues_true [[tissue2name[3, \"tissue\"]]], na.rm = TRUE))\n",
    "                     ))\n",
    "}\n",
    "\n",
    "barplot_egenes = function(panel)\n",
    "{\n",
    "    egenes = egenes[order(egenes$y, decreasing = FALSE),]\n",
    "    barplot(egenes$egenes, names.arg = gsub(\" \\\\(\", \"\\n(\", egenes$name), horiz = TRUE, las = 1, col = egenes$color, cex.names = 1.5, cex.axis = 1.5)\n",
    "    mtext(text = panel, side = 2, line = 6.5, cex = 1.5 , at = 6, las = 1, font = 2)\n",
    "    mtext(text = \"eGenes (N)\", side = 1, line = 3, cex = 1)\n",
    "}\n",
    "\n",
    "#options(repr.plot.width=7, repr.plot.height=11)\n",
    "#layout(cbind(c(8,8,10,10,1:4), c(8,8, 10,10,1:4), c(8,8,10,10,5,5,6,7), c(9,9,11,11,5,5,6,7), c(9,9,11,11,5,5,6,7), c(9,9,11,11,5,5,6,7)))\n",
    "\n",
    "options(repr.plot.width=11, repr.plot.height=5)\n",
    "layout(rbind(c(1,1,1,2,2)))\n",
    "\n",
    "par(mar = c(4,12,1,1))\n",
    "barplot_egenes(\"\")\n",
    "\n",
    "par(mar = c(4,2,1,1))\n",
    "outb1 = plot_densities_gtex(qtls2n, tissue2name, \"n\"       , filter = TRUE , 50  , main = \"eGene in GTEx tissues (N)\", \"\")\n",
    "#outb2 = plot_densities_gtex(qtls2n, tissue2name, \"abs_beta\", filter = FALSE,  3  , main = \"Beta\"                     , \"C\")\n",
    "#outb3 = plot_densities_gtex(qtls2n, tissue2name, \"se\"      , filter = FALSE,  1.1, main = \"SE of beta\"               , \"D\")\n",
    "\n",
    "distr = rbind(outb1, outb2, outb3)\n"
   ]
  },
  {
   "cell_type": "code",
   "execution_count": null,
   "metadata": {},
   "outputs": [],
   "source": [
    "str(egenes)"
   ]
  },
  {
   "cell_type": "code",
   "execution_count": null,
   "metadata": {},
   "outputs": [],
   "source": [
    "out       = rbind(out1, out2, out3)\n",
    "out$tot   = rowSums(out[,c(\"unique\", \"shared\")])\n",
    "out$ratio = out$unique / out$tot\n",
    "\n",
    "out_dt = data.table(out)\n",
    "\n",
    "totest = data.frame(out_dt[ , .(sum = sum(tot), mean = mean(tot), mean_ratio = mean(ratio), unique = sum(unique), shared = sum(shared), .N), by = .(tissue)] )\n",
    "totest = merge(totest, egenes[,c(\"genes\", \"egenes\", \"name\")], by.x = \"tissue\", by.y = \"name\")\n",
    "totest$not = totest$egenes - totest$sum\n",
    "totest$original = c(1369, 1369, 9232)\n",
    "\n",
    "totest$not_unique   = totest$egenes   - totest$unique\n",
    "totest$not_original = totest$original - totest$shared\n",
    "\n",
    "fisher.test(as.matrix(totest[totest$tissue %in% c(\"Liver (human cell populations)\", \"Liver (mouse cell populations)\"), c(\"sum\", \"not\")]))\n",
    "fisher.test(as.matrix(totest[totest$tissue %in% c(\"Liver (human cell populations)\", \"Liver (mouse cell populations)\"), c(\"sum\", \"not\")]))$p.value\n",
    "\n",
    "fisher.test(matrix(as.numeric(totest[totest$tissue == \"Liver (human cell populations)\", c(\"unique\", \"not_unique\", \"shared\", \"not_original\")]), nrow = 2))\n",
    "fisher.test(matrix(as.numeric(totest[totest$tissue == \"Liver (mouse cell populations)\", c(\"unique\", \"not_unique\", \"shared\", \"not_original\")]), nrow = 2))\n",
    "fisher.test(matrix(as.numeric(totest[totest$tissue == \"Skin (mouse cell populations)\" , c(\"unique\", \"not_unique\", \"shared\", \"not_original\")]), nrow = 2))\n",
    "\n",
    "\n",
    "sum(totest$sum)\n",
    "\n",
    "totest$unique/totest$egenes\n",
    "totest$shared/totest$original\n",
    "\n",
    "\n",
    "totest"
   ]
  },
  {
   "cell_type": "code",
   "execution_count": null,
   "metadata": {},
   "outputs": [],
   "source": [
    "as.numeric(totest[totest$tissue == \"Liver (human cell populations)\", c(\"unique\", \"not_unique\", \"shared\", \"not_original\")])"
   ]
  },
  {
   "cell_type": "markdown",
   "metadata": {},
   "source": [
    "# OLD"
   ]
  },
  {
   "cell_type": "code",
   "execution_count": null,
   "metadata": {},
   "outputs": [],
   "source": [
    "toqq = function(x)\n",
    "{\n",
    "    x$logp = -log10(x$bonferroni)\n",
    "    x = x[order(x$logp),]\n",
    "    x$exp = -log10((nrow(x):1) / nrow(x))\n",
    "    \n",
    "    return(x)\n",
    "}\n",
    "\n",
    "tissues         = c(\"liver_original\", \"liver_cells\", \"liver2_cells\", \"skin_original\", \"skin_cells\"  )\n",
    "qtl_list        = lapply(tissues , function(x){read.table(paste(\"qtls/\", x, \"/analysis/egenes.\", x, \".txt\", sep = \"\"), header = TRUE)})\n",
    "qtl_list        = lapply(qtl_list, toqq)\n",
    "names(qtl_list) = tissues\n",
    "tissue2name     = data.frame(tissue = tissues, name = c(\"Liver (original)\", \"Liver (mouse cell populations)\", \"Liver (human cell populations)\", \"Skin (original)\", \"Skin (mouse cell populations)\" ), color = c(\"#FF7256\", \"#CD3700\", \"#800000\", \"#87CEFA\", \"#000080\"))"
   ]
  },
  {
   "cell_type": "code",
   "execution_count": null,
   "metadata": {},
   "outputs": [],
   "source": [
    "run_qqplot = function(tissues, qtl_list, tissue2name)\n",
    "{\n",
    "    plot(1,1, type = \"n\", xlab = \"\", ylab = \"\", xlim = range(as.numeric(unlist(lapply(qtl_list, function(x){range(x$exp)})))), ylim = range(as.numeric(unlist(lapply(qtl_list, function(x){range(x$logp)})))))\n",
    "    \n",
    "    invisible(lapply(tissues, function(tissue){points(qtl_list[[tissue]][,\"exp\"], qtl_list[[tissue]][,\"logp\"], col = tissue2name[tissue2name$tissue == tissue, \"color\"], pch = 16)}))\n",
    "}\n",
    "\n",
    "run_qqplot(tissues, qtl_list, tissue2name)\n"
   ]
  },
  {
   "cell_type": "code",
   "execution_count": null,
   "metadata": {},
   "outputs": [],
   "source": []
  }
 ],
 "metadata": {
  "kernelspec": {
   "display_name": "R 3.5.1",
   "language": "R",
   "name": "ir35"
  },
  "language_info": {
   "codemirror_mode": "r",
   "file_extension": ".r",
   "mimetype": "text/x-r-source",
   "name": "R",
   "pygments_lexer": "r",
   "version": "3.5.1"
  }
 },
 "nbformat": 4,
 "nbformat_minor": 2
}
