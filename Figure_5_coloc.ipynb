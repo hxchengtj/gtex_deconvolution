{
 "cells": [
  {
   "cell_type": "code",
   "execution_count": 1,
   "metadata": {},
   "outputs": [
    {
     "name": "stderr",
     "output_type": "stream",
     "text": [
      "corrplot 0.84 loaded\n"
     ]
    }
   ],
   "source": [
    "library(reshape2)\n",
    "library(corrplot)\n",
    "library(stringr)\n",
    "library(qvalue)"
   ]
  },
  {
   "cell_type": "code",
   "execution_count": 1,
   "metadata": {},
   "outputs": [],
   "source": [
    "geneinfo = read.table(\"/publicdata/gencode_v19_20151104/gene_info.tsv\", sep = \"\\t\", header = T)"
   ]
  },
  {
   "cell_type": "code",
   "execution_count": 14,
   "metadata": {},
   "outputs": [],
   "source": [
    "skin_cells = data.frame(celltypes = c(\"gt\", \"gt:epidermal\", \"gt:keratinocyte_stem_cell\", \"gt:leucocyte\", \"gt:epidermal_stem_cell\"),\n",
    "                       name      = c(\"bulk\", \"epidermal_cancer_OR\"     , \"keratinocyte_stem_cell_cancer_OR\", \"leucocyte_cancer_OR\", \"epidermal_stem_cell_cancer_OR\"   ),\n",
    "                       name.fixed      = c(\"bulk\", \"epidermal\"     , \"keratinocyte_stem_cell\", \"leucocyte\", \"epidermal_stem_cell\"   ),\n",
    "                       color     = c(\"#7f7e7e\", \"#38ace2\"       , \"#a084bd\"               , \"#f067a1\"  , \"#e38725\"               ))"
   ]
  },
  {
   "cell_type": "markdown",
   "metadata": {},
   "source": [
    "# Combine coloc results"
   ]
  },
  {
   "cell_type": "code",
   "execution_count": 4,
   "metadata": {},
   "outputs": [],
   "source": [
    "egenes = read.table(\"/frazer01/projects/GTEx_v7/analysis/eqtls_deconvolution/private/coloc/egenes.txt\", header = T)\n",
    "egenes_liver = egenes[egenes$main == \"liver\", \"gene_id\"]\n",
    "egenes_skin  = egenes[egenes$main == \"skin\" , \"gene_id\"]"
   ]
  },
  {
   "cell_type": "code",
   "execution_count": 5,
   "metadata": {},
   "outputs": [],
   "source": [
    "ReadColocResults <- function(x){\n",
    "    \n",
    "    file = paste(path2coloc, x, \".txt\", sep = \"\")\n",
    "    \n",
    "    if(file.exists(file)){\n",
    "        \n",
    "        info = file.info(file)\n",
    "\n",
    "        if (info$size > 0){\n",
    "            read.table(file, header = T)        \n",
    "        }\n",
    "    }\n",
    "}"
   ]
  },
  {
   "cell_type": "code",
   "execution_count": 6,
   "metadata": {},
   "outputs": [],
   "source": [
    "path2coloc = \"/frazer01/projects/GTEx_v7/analysis/eqtls_deconvolution/private/coloc/liver/\"\n",
    "liver.coloc = do.call(\"rbind\", lapply(egenes_liver, ReadColocResults))"
   ]
  },
  {
   "cell_type": "code",
   "execution_count": 7,
   "metadata": {},
   "outputs": [],
   "source": [
    "liver.coloc.ordered = liver.coloc[order(-liver.coloc$PP.H4.abf), ]"
   ]
  },
  {
   "cell_type": "code",
   "execution_count": 7,
   "metadata": {},
   "outputs": [],
   "source": [
    "write.table(liver.coloc.ordered, file = \"../tables/coloc_liver_results.txt\", quote = T, row.names = F)"
   ]
  },
  {
   "cell_type": "code",
   "execution_count": 8,
   "metadata": {},
   "outputs": [],
   "source": [
    "path2coloc = \"/frazer01/projects/GTEx_v7/analysis/eqtls_deconvolution/private/coloc/skin/\"\n",
    "skin.coloc = do.call(\"rbind\", lapply(egenes_skin, ReadColocResults))"
   ]
  },
  {
   "cell_type": "code",
   "execution_count": 9,
   "metadata": {},
   "outputs": [],
   "source": [
    "skin.coloc.ordered = skin.coloc[order(-skin.coloc$PP.H4.abf), ]"
   ]
  },
  {
   "cell_type": "code",
   "execution_count": 63,
   "metadata": {},
   "outputs": [],
   "source": [
    "write.table(skin.coloc.ordered, file = \"../tables/coloc_skin_results.txt\", quote = T, row.names = F)"
   ]
  },
  {
   "cell_type": "markdown",
   "metadata": {},
   "source": [
    "# Skin"
   ]
  },
  {
   "cell_type": "code",
   "execution_count": 6,
   "metadata": {},
   "outputs": [],
   "source": [
    "skin.gwas = read.csv(\"../tables/skin_gwas.csv\", header = T)\n",
    "skin_mouse_eqtl = read.table(\"/frazer01/projects/GTEx_v7/analysis/eqtls_deconvolution/qtls/skin_cells/analysis/lmm_compare_fdr.skin_cells.txt\", header = T)"
   ]
  },
  {
   "cell_type": "code",
   "execution_count": 10,
   "metadata": {},
   "outputs": [],
   "source": [
    "skin.coloc.ordered = skin.coloc[order(-skin.coloc$PP.H4.abf), ]\n",
    "skin.coloc.ordered$gwas = skin.gwas[match(skin.coloc.ordered$id2, skin.gwas$Phenotype.Code\t), \"Phenotype.Description\"]\n",
    "# skin.coloc.ordered$eqtl = skin_mouse_eqtl[match(skin.coloc.ordered$gene_id, skin_mouse_eqtl$gene_id), \"best\"]"
   ]
  },
  {
   "cell_type": "markdown",
   "metadata": {},
   "source": [
    "#### Collapse skin GWAS"
   ]
  },
  {
   "cell_type": "code",
   "execution_count": 24,
   "metadata": {},
   "outputs": [],
   "source": [
    "collapsed = data.frame(gwas = unique(skin.coloc.ordered$gwas), collapsed_trait = c(\"malignant_neoplasm\", \"malignant_neoplasm\", \"malignant_neoplasm\", \"melanoma\", \"melanoma\",\n",
    "                                                                                   \"infections\", \"infections\", \"ulcers\", \"cancer\", \"congenital\",\n",
    "                                                                                   \"infections\", \"unspecified\", \"infections\", \"melanoma\", \"melanoma\", \"infections\", \"infections\",\n",
    "                                                                                   \"unspecified\", \"infections\", \"cancer\", \"infections\" ))"
   ]
  },
  {
   "cell_type": "code",
   "execution_count": 25,
   "metadata": {},
   "outputs": [],
   "source": [
    "skin.coloc.ordered$gwas_collapsed = collapsed[match(skin.coloc.ordered$gwas, collapsed$gwas), \"collapsed_trait\"]"
   ]
  },
  {
   "cell_type": "markdown",
   "metadata": {},
   "source": [
    "#### add cell type pvalues for each eGene"
   ]
  },
  {
   "cell_type": "code",
   "execution_count": 26,
   "metadata": {},
   "outputs": [],
   "source": [
    "for( celltype in colnames(skin_mouse_eqtl[, grep(\".qval\", colnames(skin_mouse_eqtl))])){\n",
    "\n",
    "    cell =  str_split_fixed(celltype, \"\\\\.\", 3)[,2]\n",
    "    skin.coloc.ordered[, cell] = skin_mouse_eqtl[match(skin.coloc.ordered$gene_id, skin_mouse_eqtl$gene_id), celltype]\n",
    "\n",
    "}\n",
    "\n",
    "skin.coloc.ordered$bulk <- apply(skin.coloc.ordered[, c((ncol(skin.coloc.ordered) - 3) : (ncol(skin.coloc.ordered)))], 1, function(x) sum(x< 0.05))"
   ]
  },
  {
   "cell_type": "code",
   "execution_count": 27,
   "metadata": {},
   "outputs": [],
   "source": [
    "skin.coloc.ordered = skin.coloc.ordered[skin.coloc.ordered$id1 == \"skin_cells\", ]"
   ]
  },
  {
   "cell_type": "code",
   "execution_count": 23,
   "metadata": {},
   "outputs": [],
   "source": [
    "write.table(skin.coloc.ordered, file = \"../tables/skin_coloc_formatted.txt\", quote = F, row.names = F, sep = \"\\t\")"
   ]
  },
  {
   "cell_type": "code",
   "execution_count": 1302,
   "metadata": {},
   "outputs": [],
   "source": [
    "# skin.coloc.ordered$cell_type_specific <- skin.coloc.ordered$bulk"
   ]
  },
  {
   "cell_type": "markdown",
   "metadata": {},
   "source": [
    "# Is given cell type enriched for colocalizing with a given study?"
   ]
  },
  {
   "cell_type": "code",
   "execution_count": 60,
   "metadata": {},
   "outputs": [],
   "source": [
    "QvalueCol <- function(x){\n",
    "    \n",
    "    return(qvalue(x)$qvalues)\n",
    "    \n",
    "}"
   ]
  },
  {
   "cell_type": "code",
   "execution_count": 61,
   "metadata": {},
   "outputs": [],
   "source": [
    "CalculateEnrichmentCTS <- function(cell, study, H0){\n",
    "\n",
    "\n",
    "    skin.coloc.ordered_temp = skin.coloc.ordered[ skin.coloc.ordered[, \"gwas_collapsed\"] == study, ]\n",
    "#     skin.coloc.ordered_temp = skin.coloc.ordered[ skin.coloc.ordered[, \"id2\"] == study, ]\n",
    "\n",
    "    all   = skin.coloc.ordered_temp$gene_id\n",
    "    \n",
    "    if(! cell == \"bulk\"){\n",
    "        cts.t = skin.coloc.ordered_temp[  skin.coloc.ordered_temp[, cell] < 0.05 & skin.coloc.ordered_temp$bulk == 1, \"gene_id\"]\n",
    "        cts.f = skin.coloc.ordered_temp[! (skin.coloc.ordered_temp[, cell] < 0.05 & skin.coloc.ordered_temp$bulk == 1), \"gene_id\"]\n",
    "    }\n",
    "\n",
    "    if(cell == \"bulk\"){\n",
    "        cts.t = skin.coloc.ordered_temp[  skin.coloc.ordered_temp[, cell] < 0.05, \"gene_id\"]\n",
    "        cts.f = skin.coloc.ordered_temp[! (skin.coloc.ordered_temp[, cell] < 0.05), \"gene_id\"]\n",
    "    }\n",
    "\n",
    "    \n",
    "    colocalizes.T = skin.coloc.ordered_temp[  skin.coloc.ordered_temp$PP.H4.abf > H0, \"gene_id\"]\n",
    "    colocalizes.F = skin.coloc.ordered_temp[! skin.coloc.ordered_temp$PP.H4.abf > H0, \"gene_id\"]\n",
    "\n",
    "\n",
    "\n",
    "    A = length(all[all %in% cts.t &\n",
    "            all %in% colocalizes.T])\n",
    "\n",
    "    B = length(all[all %in% cts.t &\n",
    "            all %in% colocalizes.F])\n",
    "\n",
    "    C = length(all[all %in% cts.f &\n",
    "            all %in% colocalizes.T])\n",
    "\n",
    "    D = length(all[all %in% cts.f &\n",
    "            all %in% colocalizes.F])\n",
    "\n",
    "\n",
    "    OR = (A * D) / (B * C)\n",
    "    \n",
    "    p = fisher.test(matrix(c(A, B, C, D), byrow = TRUE, 2, 2))$p.value\n",
    "\n",
    "    return(c(OR, p))\n",
    "}"
   ]
  },
  {
   "cell_type": "code",
   "execution_count": 71,
   "metadata": {},
   "outputs": [],
   "source": [
    "CalculateEnrichment <- function(cell, study, H0){\n",
    "\n",
    "\n",
    "    skin.coloc.ordered_temp = skin.coloc.ordered[ skin.coloc.ordered[, \"gwas_collapsed\"] == study, ]\n",
    "#     skin.coloc.ordered_temp = skin.coloc.ordered[ skin.coloc.ordered[, \"id2\"] == study, ]\n",
    "\n",
    "    all   = skin.coloc.ordered_temp$gene_id\n",
    "    \n",
    "\n",
    "    cts.t = skin.coloc.ordered_temp[  skin.coloc.ordered_temp[, cell] < 0.05, \"gene_id\"]\n",
    "    cts.f = skin.coloc.ordered_temp[! (skin.coloc.ordered_temp[, cell] < 0.05), \"gene_id\"]\n",
    "\n",
    "    \n",
    "    colocalizes.T = skin.coloc.ordered_temp[  skin.coloc.ordered_temp$PP.H4.abf + skin.coloc.ordered_temp$PP.H3.abf > H0, \"gene_id\"]\n",
    "    colocalizes.F = skin.coloc.ordered_temp[! skin.coloc.ordered_temp$PP.H4.abf + skin.coloc.ordered_temp$PP.H3.abf> H0, \"gene_id\"]\n",
    "\n",
    "\n",
    "\n",
    "    A = length(all[all %in% cts.t &\n",
    "            all %in% colocalizes.T])\n",
    "\n",
    "    B = length(all[all %in% cts.t &\n",
    "            all %in% colocalizes.F])\n",
    "\n",
    "    C = length(all[all %in% cts.f &\n",
    "            all %in% colocalizes.T])\n",
    "\n",
    "    D = length(all[all %in% cts.f &\n",
    "            all %in% colocalizes.F])\n",
    "\n",
    "\n",
    "    OR = (A * D) / (B * C)\n",
    "    \n",
    "    p = fisher.test(matrix(c(A, B, C, D), byrow = TRUE, 2, 2))$p.value\n",
    "\n",
    "    return(c(OR, p))\n",
    "}"
   ]
  },
  {
   "cell_type": "code",
   "execution_count": 63,
   "metadata": {},
   "outputs": [],
   "source": [
    "PlotORs <- function(df, cell, study){\n",
    "\n",
    "    \n",
    "    plot(df[, 1], log(df[, 2]), ylim = c(-5, 5), pch = 20, las = 1, ylab = \"log(OR)\", xlab = \"H4\", main = paste(study, \" ~ \", cell))\n",
    "    \n",
    "}\n"
   ]
  },
  {
   "cell_type": "code",
   "execution_count": 64,
   "metadata": {},
   "outputs": [],
   "source": [
    "ORWrapper <- function(cell, study, H){\n",
    "\n",
    "    ORs = c()\n",
    "    Ps = c()\n",
    "    \n",
    "    for( H0 in H){\n",
    "\n",
    "#         enrichment = CalculateEnrichmentCTS(cell, study, H0)\n",
    "        enrichment = CalculateEnrichment(cell, study, H0)\n",
    "        ORs = c(ORs, enrichment[1])\n",
    "        Ps  = c(Ps, enrichment[2])\n",
    "    }\n",
    "\n",
    "    OR.df = data.frame(H0 = H, temp = ORs, tempp = Ps)\n",
    "    \n",
    "    names(OR.df)[names(OR.df) == \"temp\"] <- paste(cell, study, \"OR\", sep = \".\")\n",
    "    names(OR.df)[names(OR.df) == \"tempp\"] <- paste(cell, study, \"P.value\", sep = \".\")\n",
    "    \n",
    "#     PlotORs(OR.df, cell, study)\n",
    "    \n",
    "    return(OR.df)\n",
    "\n",
    "}"
   ]
  },
  {
   "cell_type": "code",
   "execution_count": 65,
   "metadata": {},
   "outputs": [],
   "source": [
    "figure_width  =  8\n",
    "figure_height = 8\n",
    "options(repr.plot.width = figure_width, repr.plot.height = figure_height)\n",
    "par(mfrow = c(4,4))\n",
    "\n",
    "celltypes = str_split_fixed(colnames(skin_mouse_eqtl[, grep(\".qval\", colnames(skin_mouse_eqtl))]), \"\\\\.\", 3)[, 2]\n",
    "celltypes <- c(celltypes, \"bulk\")\n",
    "\n",
    "H0 = seq(0, 1, by = 0.05)\n",
    "\n",
    "cell.OR.df = data.frame(H0, fake = H0)\n",
    "\n",
    "for(cell in celltypes){\n",
    "\n",
    "#     for( study in unique(skin.coloc.ordered$id2)){\n",
    "    for( study in unique(skin.coloc.ordered$gwas_collapsed)){\n",
    "        \n",
    "\n",
    "        cell.OR.df = merge(cell.OR.df, ORWrapper(cell, study, H0))\n",
    "        \n",
    "    }\n",
    "}"
   ]
  },
  {
   "cell_type": "code",
   "execution_count": 2,
   "metadata": {},
   "outputs": [],
   "source": [
    "figure_width  =  8\n",
    "figure_height = 8\n",
    "options(repr.plot.width = figure_width, repr.plot.height = figure_height)\n",
    "\n",
    "\n",
    "H0 = seq(0, 1, by = 0.05)\n",
    "pch.sig = data.frame(Significant = c(TRUE, FALSE), pch = c(16, 1), cex = c(4, 3))\n",
    "\n",
    "for( study in unique(skin.coloc.ordered$gwas_collapsed)){\n",
    "\n",
    "    study_cells = cell.OR.df[, grep(study, colnames(cell.OR.df))]\n",
    "    \n",
    "    study_cells.or = study_cells[, grep(\"OR\", colnames(study_cells))]\n",
    "    study_cells.p = study_cells[, grep(\"P.value\", colnames(study_cells))]\n",
    "\n",
    "    study_cells.p[study_cells.p > 1]<-.9999999999999999999999999999999\n",
    "    study_cells.p = apply(study_cells.p, 2, QvalueCol)\n",
    "\n",
    "    \n",
    "    plot(1, type=\"n\", xlim=c(0, 1), ylim=c(-4, 4.75), las = 1, ylab = \"log(OR)\", xlab = \"H4\", main = paste(study))\n",
    "    \n",
    "    abline(h = 0)\n",
    "    for(cell in colnames(study_cells.or)){\n",
    "\n",
    "        ct = str_split_fixed(cell, \"\\\\.\", 3)[,1]\n",
    "\n",
    "        lines(H0, log(study_cells.or[, cell]), col = skin_cells[skin_cells$name.fixed == ct, \"color\" ], lwd = 9)\n",
    "\n",
    "        points(H0, log(study_cells.or[, cell]), col = paste(skin_cells[skin_cells$name.fixed == ct, \"color\" ], \"99\", sep = \"\"),\n",
    "               pch = pch.sig[match(study_cells.p[, grep(ct, colnames(study_cells.p))] < 0.05, pch.sig$Significant), \"pch\"],\n",
    "               cex = pch.sig[match(study_cells.p[, grep(ct, colnames(study_cells.p))] < 0.05, pch.sig$Significant), \"cex\"],\n",
    "               lwd = 4)\n",
    "    }\n",
    "\n",
    "}\n"
   ]
  },
  {
   "cell_type": "markdown",
   "metadata": {},
   "source": [
    "# Examples"
   ]
  },
  {
   "cell_type": "code",
   "execution_count": 3,
   "metadata": {},
   "outputs": [],
   "source": [
    "mouse_skin = read.table(\"/frazer01/projects/GTEx_v7/analysis/eqtls_deconvolution/qtls/skin_cells/analysis/lmm_compare.skin_cells.txt\", header = T)"
   ]
  },
  {
   "cell_type": "code",
   "execution_count": 4,
   "metadata": {},
   "outputs": [],
   "source": [
    "id = \"ENSG00000137310.7\""
   ]
  },
  {
   "cell_type": "code",
   "execution_count": 5,
   "metadata": {},
   "outputs": [],
   "source": [
    "mouse_skin = read.table(\"/frazer01/projects/GTEx_v7/analysis/eqtls_deconvolution/qtls/skin_cells/analysis/lmm_compare.skin_cells.txt\", header = T)"
   ]
  },
  {
   "cell_type": "code",
   "execution_count": 6,
   "metadata": {},
   "outputs": [],
   "source": [
    "snp = mouse_skin[mouse_skin$gene_id == id, \"id\"]"
   ]
  },
  {
   "cell_type": "code",
   "execution_count": 7,
   "metadata": {},
   "outputs": [],
   "source": [
    "gt = read.table(\"/frazer01/projects/GTEx_v7/analysis/eqtls_deconvolution/input/genotypes/rna/gt_data.ENSG00000137310.7.txt\", check.names = F, header = T)"
   ]
  },
  {
   "cell_type": "code",
   "execution_count": 8,
   "metadata": {},
   "outputs": [],
   "source": [
    "pt = read.table(\"/frazer01/projects/GTEx_v7/analysis/eqtls_deconvolution/input/phenotypes/skin/ENSG00000137310.7.txt\", header = T)"
   ]
  },
  {
   "cell_type": "code",
   "execution_count": 9,
   "metadata": {},
   "outputs": [],
   "source": [
    "meta = read.table(\"/frazer01/projects/GTEx_v7/analysis/eqtls_deconvolution/input/metadata/metadata.txt\", header = T)"
   ]
  },
  {
   "cell_type": "code",
   "execution_count": 10,
   "metadata": {},
   "outputs": [],
   "source": [
    "pt$name <- meta[match(pt$sample_id, meta$rna_id), \"subject_id\"]"
   ]
  },
  {
   "cell_type": "code",
   "execution_count": 11,
   "metadata": {},
   "outputs": [],
   "source": [
    "betas = read.table(\"/frazer01/projects/GTEx_v7/analysis/eqtls_deconvolution/qtls/skin_cells/analysis/beta.txt\", header = T)"
   ]
  },
  {
   "cell_type": "code",
   "execution_count": 12,
   "metadata": {},
   "outputs": [],
   "source": [
    "x = as.data.frame(t(gt[snp, ]))\n",
    "x$name = rownames(x)\n",
    "\n",
    "plot = merge(pt, x)\n",
    "plot$gt = plot[, 5]"
   ]
  },
  {
   "cell_type": "code",
   "execution_count": 15,
   "metadata": {},
   "outputs": [
    {
     "data": {
      "image/png": "[encoded data removed]",
      "text/plain": [
       "Plot with title “TCF19”"
      ]
     },
     "metadata": {},
     "output_type": "display_data"
    }
   ],
   "source": [
    "boxplot(norm~gt, data=plot, main = \"TCF19\", ylab = \"Expression (quantile normalized TPM)\", las = 1,\n",
    "        names = c(\"A | A\", \"A | G\", \"G | G\"), col = \"grey\", at = c(0, 1, 2),\n",
    "        width = c(0.25, 0.25, 0.25)) #, ylim = c(-10, 10))\n",
    "\n",
    "\n",
    "\n",
    "\n",
    "for(celltype in unique(betas[betas$gene_name == \"TCF19\", \"var1\"])){\n",
    "    \n",
    "    b = betas[betas$var1 == celltype, \"beta\"][1]\n",
    "    color = skin_cells[skin_cells$celltypes == celltype, \"color\"]\n",
    "    abline(0, b, lwd = 4, col = color)   \n",
    "}"
   ]
  },
  {
   "cell_type": "code",
   "execution_count": 16,
   "metadata": {},
   "outputs": [
    {
     "data": {
      "text/plain": [
       "R version 3.5.1 (2018-07-02)\n",
       "Platform: x86_64-pc-linux-gnu (64-bit)\n",
       "Running under: CentOS Linux 7 (Core)\n",
       "\n",
       "Matrix products: default\n",
       "BLAS: /frazer01/home/matteo/software/R-3.5.1/lib/libRblas.so\n",
       "LAPACK: /frazer01/home/matteo/software/R-3.5.1/lib/libRlapack.so\n",
       "\n",
       "locale:\n",
       " [1] LC_CTYPE=en_US.UTF-8       LC_NUMERIC=C              \n",
       " [3] LC_TIME=en_US.UTF-8        LC_COLLATE=en_US.UTF-8    \n",
       " [5] LC_MONETARY=en_US.UTF-8    LC_MESSAGES=en_US.UTF-8   \n",
       " [7] LC_PAPER=en_US.UTF-8       LC_NAME=C                 \n",
       " [9] LC_ADDRESS=C               LC_TELEPHONE=C            \n",
       "[11] LC_MEASUREMENT=en_US.UTF-8 LC_IDENTIFICATION=C       \n",
       "\n",
       "attached base packages:\n",
       "[1] stats     graphics  grDevices utils     datasets  methods   base     \n",
       "\n",
       "loaded via a namespace (and not attached):\n",
       " [1] compiler_3.5.1  IRdisplay_0.7.0 pbdZMQ_0.3-3    tools_3.5.1    \n",
       " [5] htmltools_0.3.6 pillar_1.4.1    base64enc_0.1-3 crayon_1.3.4   \n",
       " [9] Rcpp_1.0.1      uuid_0.1-2      IRkernel_1.0.1  jsonlite_1.6   \n",
       "[13] digest_0.6.19   repr_1.0.1      rlang_0.4.0     evaluate_0.14  "
      ]
     },
     "metadata": {},
     "output_type": "display_data"
    }
   ],
   "source": [
    "sessionInfo()"
   ]
  }
 ],
 "metadata": {
  "kernelspec": {
   "display_name": "R 3.5.1",
   "language": "R",
   "name": "ir351"
  },
  "language_info": {
   "codemirror_mode": "r",
   "file_extension": ".r",
   "mimetype": "text/x-r-source",
   "name": "R",
   "pygments_lexer": "r",
   "version": "3.5.1"
  }
 },
 "nbformat": 4,
 "nbformat_minor": 2
}
