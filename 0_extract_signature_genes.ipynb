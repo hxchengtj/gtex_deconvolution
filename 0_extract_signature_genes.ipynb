{
 "cells": [
  {
   "cell_type": "code",
   "execution_count": null,
   "metadata": {},
   "outputs": [],
   "source": [
    "library(Seurat)\n",
    "library(stringr)"
   ]
  },
  {
   "cell_type": "code",
   "execution_count": null,
   "metadata": {},
   "outputs": [],
   "source": [
    "require(\"biomaRt\")\n",
    "human = useMart(\"ensembl\", dataset = \"hsapiens_gene_ensembl\")\n",
    "mouse = useMart(\"ensembl\", dataset = \"mmusculus_gene_ensembl\")"
   ]
  },
  {
   "cell_type": "code",
   "execution_count": 2,
   "metadata": {},
   "outputs": [],
   "source": [
    "tisstypes = list.files(path = \"../data/Robjs/\") \n",
    "geneinfo = read.table(\"/publicdata/gencode_v19_20151104/gene_info.tsv\", header = T)\n",
    "output_path = \"../tables/Cibersort_input/\""
   ]
  },
  {
   "cell_type": "code",
   "execution_count": null,
   "metadata": {},
   "outputs": [],
   "source": [
    "convertMouseGeneList <- function(x){\n",
    "\n",
    "    genesV2 = getLDS(attributes = c(\"mgi_symbol\"), filters = \"mgi_symbol\", values = x , mart = mouse, attributesL = c(\"hgnc_symbol\"), martL = human, uniqueRows=T)\n",
    "    humanx <- unique(genesV2[, 2])\n",
    "    return(humanx)\n",
    "}"
   ]
  },
  {
   "cell_type": "code",
   "execution_count": null,
   "metadata": {},
   "outputs": [],
   "source": [
    "for( tiss in tisstypes){\n",
    "    \n",
    "    tissname = str_split_fixed(basename(tiss), \"_\", 3)[,2]\n",
    "    species  = str_split_fixed(basename(tiss), \"_\", 3)[,1]\n",
    "    \n",
    "    # Load data ---------------------------\n",
    "    load(tiss, verbose = F)\n",
    "    rObj = tiss\n",
    "    cts = unique(Idents(object = rObj)) # get annotated cell types in the tissue\n",
    "    \n",
    "    # Calculate DE genes ---------------------------\n",
    "    markers = list()\n",
    "\n",
    "    for( celltype in cts){\n",
    "\n",
    "        celltype_name = gsub(\" \" , \"_\", celltype)\n",
    "        assign(paste(celltype_name, \"markers\", sep = \"_\"), FindMarkers(human_skin, ident.1 = celltype, ident.2 = NULL, min.pct = 0.25))        \n",
    "        markers[[paste(celltype_name, \"markers\", sep = \"_\")]] = paste(celltype_name, \"markers\", sep = \"_\")\n",
    "\n",
    "    }\n",
    "    \n",
    "    # Identify signature genes ---------------------------\n",
    "    sig.df = data.frame(genes = NA, celltype = NA)\n",
    "\n",
    "\n",
    "    for( i in seq(1, length(markers))){\n",
    "\n",
    "        ct   = str_split_fixed(names(markers[i]), \"_marke\", 2)[,1]\n",
    "        temp = as.data.frame(markers[[i]])\n",
    "        temp = temp[order(temp$p_val_adj), ]\n",
    "        temp = temp[temp$avg_logFC > 0.25 & temp$p_val_adj < 0.05, ]\n",
    "\n",
    "        if(nrow(temp) > 200){ genes2add = rownames(temp[1:200,])}\n",
    "        else{ genes2add = rownames(temp[1:nrow(temp),]) }\n",
    "\n",
    "        sig.df.temp = data.frame(genes = genes2add, celltype = ct)\n",
    "        sig.df = rbind(sig.df, sig.df.temp)\n",
    "\n",
    "    }\n",
    "\n",
    "    # Refine signature genes ---------------------------\n",
    "    sig.df = sig.df[2:nrow(sig.df),]\n",
    "    \n",
    "    if (species == \"mouse\"){ sig.df$genes = convertMouseGeneList(sig.df$genes)}\n",
    "    \n",
    "    sig.df$geneid = geneinfo[match(sig.df$genes, geneinfo$gene_name), \"gene_id\"]\n",
    "    sig.df$dup = duplicated(sig.df$genes)\n",
    "    sig.df = sig.df[sig.df$dup == F, ]\n",
    "    \n",
    "    # Calculate mean expression of signature gene for each cell type ---------------------------\n",
    "    sig.avg_exp = AverageExpression(rObj, features = unique(sig.df$genes))\n",
    "    sig.avg_exp = sig.avg_exp$RNA\n",
    "    sig.avg_exp$gene_id = geneinfo[match(rownames(sig.avg_exp), geneinfo$gene_name), \"gene_id\"]\n",
    "    rownames(sig.avg_exp) <- NULL\n",
    "    signature_gene_matrix = sig.avg_exp[, c(ncol(sig.avg_exp), 1:(ncol(sig.avg_exp) - 1))]\n",
    "    \n",
    "    # Write results ---------------------------\n",
    "    write.csv(signature_gene_matrix, file = paste(output_path, tissname, sep = \"\")\n",
    "    \n",
    "    \n",
    "}"
   ]
  },
  {
   "cell_type": "code",
   "execution_count": null,
   "metadata": {},
   "outputs": [],
   "source": []
  }
 ],
 "metadata": {
  "kernelspec": {
   "display_name": "R 3.5.1",
   "language": "R",
   "name": "ir351"
  },
  "language_info": {
   "codemirror_mode": "r",
   "file_extension": ".r",
   "mimetype": "text/x-r-source",
   "name": "R",
   "pygments_lexer": "r",
   "version": "3.5.1"
  }
 },
 "nbformat": 4,
 "nbformat_minor": 2
}
