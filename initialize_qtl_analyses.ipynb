{
 "cells": [
  {
   "cell_type": "markdown",
   "metadata": {},
   "source": [
    "# Initialize QTL analyses\n",
    "- select phenotype (rna, atac, chip)\n",
    "- create output folders\n",
    "- select samples\n",
    "- select interaction terms\n",
    "- V02: run single studies\n"
   ]
  },
  {
   "cell_type": "code",
   "execution_count": 1,
   "metadata": {},
   "outputs": [],
   "source": [
    "setwd(\"/frazer01/projects/GTEx_v7/analysis/eqtls_deconvolution\")"
   ]
  },
  {
   "cell_type": "code",
   "execution_count": 2,
   "metadata": {},
   "outputs": [
    {
     "name": "stderr",
     "output_type": "stream",
     "text": [
      "Loading packages...\n",
      "Loading input files...\n",
      "Loading functions...\n",
      "Loading input data...\n",
      "Loading metadata...\n"
     ]
    }
   ],
   "source": [
    "invisible(suppressWarnings(file.link(\"/frazer01/home//matteo/notebooks/eqtls_deconvolution_gtex/initialize_qtl_analyses.ipynb\", \"analysis/initialize_qtl_analyses.ipynb\")))\n",
    "\n",
    "source(\"analysis/cardiac_qtls_packages.R\"      )\n",
    "source(\"analysis/cardiac_qtls_input_files.R\"   )\n",
    "source(\"analysis/cardiac_qtls_functions.R\"     )\n",
    "source(\"analysis/cardiac_qtls_input_data.R\"    )\n",
    "source(\"analysis/cardiac_qtls_load_metadata.R\" )\n"
   ]
  },
  {
   "cell_type": "markdown",
   "metadata": {},
   "source": [
    "# Run samples by tissue"
   ]
  },
  {
   "cell_type": "code",
   "execution_count": 3,
   "metadata": {},
   "outputs": [
    {
     "name": "stderr",
     "output_type": "stream",
     "text": [
      "Preparing skin ...\n",
      "Genes to analyze = 24098\n",
      "Running qsub\n"
     ]
    }
   ],
   "source": [
    "run_by_tissue = function(analysis_name, tissue, phenotype, vars0_assay, vars1_assay)\n",
    "{\n",
    "    message(paste(\"Preparing\", tissue, \"...\"))\n",
    "    sample_list   = covariates_rna[covariates_rna$assay_id %in% metadata[metadata$tissue== tissue, \"rna_id\"], \"assay_id\"]\n",
    "    gene_list     = read.table(paste(\"input/phenotypes\", paste(phenotype, tissue, \"list.txt\", sep = \"_\"), sep = \"/\"), header = FALSE, check.names = FALSE)$V1    \n",
    "    \n",
    "    initialize = initialize_qtl_analysis(analysis_name, phenotype, paste(\"input/phenotypes\", paste(phenotype, tissue, sep = \"_\"), sep = \"/\"), sample_list, gene_list, vars0_assay, vars1_assay,\n",
    "                                         qtl_distance          =  1e6   ,\n",
    "                                         maf_threshold         =    0.05,\n",
    "                                         phenotype_min_value   =    0.5 , \n",
    "                                         phenotype_min_samples =    0.1 ,\n",
    "                                         n_perm                =    1   ,\n",
    "                                         primary               = TRUE\n",
    "                                        )\n",
    "    \n",
    "    qtl_folder = initialize$folder\n",
    "    n_genes    = initialize$n_genes\n",
    "    \n",
    "    message(paste(\"Genes to analyze\", n_genes, sep = \" = \"))\n",
    "    \n",
    "    run_qsub(qtl_folder, n_genes, run_qsub = TRUE, queue = \"week\")\n",
    "}\n",
    "\n",
    "liver_cells  = c(\"endothelial\", \"hepatocyte\", \"kupffer_cell\", \"nk_cell\")\n",
    "liver2_cells = c(\"endothelial_venous\", \"gdt\", \"hepatocyte0\", \"hepatocyte3\", \"hepatocyte4\", \"macrophage\", \"nkt_cell\", \"endothelial_periportal\")\n",
    "liver3_cells = colnames(covariates_rna)\n",
    "liver3_cells = liver3_cells[grepl(\"merged_\", liver3_cells) == TRUE]\n",
    "skin_cells   = c(\"outer_bulge\",\"inner_bulge\",\"epidermis_basal\",\"epidermis\",\"epidermis_stem_cell\",\"leukocyte\")\n",
    "skin2_cells  = c(\"collapsed_leukocyte\", \"collapsed_fibroblast\", \"collapsed_keratinocyte\")\n",
    "\n",
    "#run_by_tissue(\"liver_original\", \"liver\", \"rna\", c(\"gt\", \"age\", \"sex\", paste(\"PC\", 1:5, sep = \"\"), \"(1|sex)\"                ), c(\"gt:age\"))\n",
    "#run_by_tissue(\"liver_cells\"   , \"liver\", \"rna\", c(\"gt\", \"age\", \"sex\", paste(\"PC\", 1:5, sep = \"\"), \"(1|sex)\"   , liver_cells), paste(\"gt\", liver_cells, sep = \":\"))\n",
    "#run_by_tissue(\"liver2_cells\"   , \"liver\", \"rna\", c(\"gt\", \"age\", \"sex\", paste(\"PC\", 1:5, sep = \"\"), \"(1|sex)\"   , liver2_cells), paste(\"gt\", liver2_cells, sep = \":\"))\n",
    "#run_by_tissue(\"liver3_cells\"   , \"liver\", \"rna\", c(\"gt\", \"age\", \"sex\", paste(\"PC\", 1:5, sep = \"\"), \"(1|sex)\"   , liver3_cells), paste(\"gt\", liver3_cells, sep = \":\"))\n",
    "#run_by_tissue(\"skin_original\" , \"skin\" , \"rna\", c(\"gt\", \"age\", \"sex\", paste(\"PC\", 1:5, sep = \"\"), \"(1|wgs_id)\"             ), c(\"gt:age\"))\n",
    "#run_by_tissue(\"skin_cells\"    , \"skin\" , \"rna\", c(\"gt\", \"age\", \"sex\", paste(\"PC\", 1:5, sep = \"\"), \"(1|wgs_id)\", skin_cells ), paste(\"gt\", skin_cells , sep = \":\"))\n",
    "run_by_tissue(\"skin2_cells\"    , \"skin\" , \"rna\", c(\"gt\", \"age\", \"sex\", paste(\"PC\", 1:5, sep = \"\"), \"(1|wgs_id)\", skin2_cells ), paste(\"gt\", skin2_cells , sep = \":\"))\n"
   ]
  },
  {
   "cell_type": "code",
   "execution_count": 7,
   "metadata": {},
   "outputs": [
    {
     "name": "stderr",
     "output_type": "stream",
     "text": [
      "2019-08-27 09:17:32\n",
      "skin2_cells\n",
      "Genes analyzed = 24029\n",
      "Genes to analyze = 69\n",
      "LMMs compared = 13257\n"
     ]
    }
   ],
   "source": [
    "#monitor_qtls(\"liver_original\")\n",
    "#monitor_qtls(\"liver_cells\"   )\n",
    "#monitor_qtls(\"liver2_cells\"  )\n",
    "#monitor_qtls(\"liver3_cells\"  )\n",
    "#monitor_qtls(\"skin_original\" )\n",
    "#monitor_qtls(\"skin_cells\"    )\n",
    "monitor_qtls(\"skin2_cells\"    )\n"
   ]
  },
  {
   "cell_type": "code",
   "execution_count": 8,
   "metadata": {},
   "outputs": [
    {
     "name": "stderr",
     "output_type": "stream",
     "text": [
      "skin2_cells\n",
      "Tested genes = 24029\n",
      "eGenes = 11497\n",
      "\n"
     ]
    }
   ],
   "source": [
    "#merge_qtls(paste(\"/frazer01/projects/GTEx_v7/analysis/eqtls_deconvolution\", \"qtls\", \"liver_original\", sep = \"/\"), \"liver_original\")\n",
    "#merge_qtls(paste(\"/frazer01/projects/GTEx_v7/analysis/eqtls_deconvolution\", \"qtls\", \"liver_cells\"   , sep = \"/\"), \"liver_cells\"   )\n",
    "#merge_qtls(paste(\"/frazer01/projects/GTEx_v7/analysis/eqtls_deconvolution\", \"qtls\", \"liver2_cells\"  , sep = \"/\"), \"liver2_cells\"  )\n",
    "#merge_qtls(paste(\"/frazer01/projects/GTEx_v7/analysis/eqtls_deconvolution\", \"qtls\", \"liver3_cells\"  , sep = \"/\"), \"liver3_cells\"  )\n",
    "#merge_qtls(paste(\"/frazer01/projects/GTEx_v7/analysis/eqtls_deconvolution\", \"qtls\", \"skin_original\" , sep = \"/\"), \"skin_original\" )\n",
    "#merge_qtls(paste(\"/frazer01/projects/GTEx_v7/analysis/eqtls_deconvolution\", \"qtls\", \"skin_cells\"    , sep = \"/\"), \"skin_cells\"    )\n",
    "merge_qtls(paste(\"/frazer01/projects/GTEx_v7/analysis/eqtls_deconvolution\", \"qtls\", \"skin2_cells\"    , sep = \"/\"), \"skin2_cells\"    )\n",
    "#"
   ]
  },
  {
   "cell_type": "code",
   "execution_count": 7,
   "metadata": {},
   "outputs": [
    {
     "data": {
      "text/html": [
       "5.72680788897005"
      ],
      "text/latex": [
       "5.72680788897005"
      ],
      "text/markdown": [
       "5.72680788897005"
      ],
      "text/plain": [
       "[1] 5.726808"
      ]
     },
     "metadata": {},
     "output_type": "display_data"
    },
    {
     "data": {
      "text/html": [
       "7.43389335281227"
      ],
      "text/latex": [
       "7.43389335281227"
      ],
      "text/markdown": [
       "7.43389335281227"
      ],
      "text/plain": [
       "[1] 7.433893"
      ]
     },
     "metadata": {},
     "output_type": "display_data"
    },
    {
     "data": {
      "text/html": [
       "1.30101819757366"
      ],
      "text/latex": [
       "1.30101819757366"
      ],
      "text/markdown": [
       "1.30101819757366"
      ],
      "text/plain": [
       "[1] 1.301018"
      ]
     },
     "metadata": {},
     "output_type": "display_data"
    }
   ],
   "source": [
    "7840/1369\n",
    "10177/1369\n",
    "12011/9232"
   ]
  },
  {
   "cell_type": "code",
   "execution_count": 10,
   "metadata": {},
   "outputs": [
    {
     "data": {
      "text/html": [
       "'/frazer01/projects/CARDIPS/analysis/eqtls_deconvolution/qtls/liver_original'"
      ],
      "text/latex": [
       "'/frazer01/projects/CARDIPS/analysis/eqtls\\_deconvolution/qtls/liver\\_original'"
      ],
      "text/markdown": [
       "'/frazer01/projects/CARDIPS/analysis/eqtls_deconvolution/qtls/liver_original'"
      ],
      "text/plain": [
       "[1] \"/frazer01/projects/CARDIPS/analysis/eqtls_deconvolution/qtls/liver_original\""
      ]
     },
     "metadata": {},
     "output_type": "display_data"
    }
   ],
   "source": [
    "paste(\"/frazer01/projects/CARDIPS/analysis/eqtls_deconvolution\", \"qtls\", \"liver_original\", sep = \"/\")"
   ]
  },
  {
   "cell_type": "markdown",
   "metadata": {},
   "source": [
    "# All samples, ATAC-seq peaks, interaction terms are gt:population1"
   ]
  },
  {
   "cell_type": "code",
   "execution_count": 137,
   "metadata": {},
   "outputs": [
    {
     "name": "stderr",
     "output_type": "stream",
     "text": [
      "Genes to analyze = 328772\n"
     ]
    },
    {
     "data": {
      "text/html": [
       "'qsub -l opt -pe smp 1 -t 1-328772 -tc 1000 -o /frazer01/projects/CARDIPS/analysis/cardiac_qtls/qtls/atac_summits/log/cardiac_qtls_run_eqtls.out -e /frazer01/projects/CARDIPS/analysis/cardiac_qtls/qtls/atac_summits/log/cardiac_qtls_run_eqtls.err /frazer01/projects/CARDIPS/analysis/cardiac_qtls/qtls/atac_summits/sh/cardiac_qtls_run_eqtls.sh'"
      ],
      "text/latex": [
       "'qsub -l opt -pe smp 1 -t 1-328772 -tc 1000 -o /frazer01/projects/CARDIPS/analysis/cardiac\\_qtls/qtls/atac\\_summits/log/cardiac\\_qtls\\_run\\_eqtls.out -e /frazer01/projects/CARDIPS/analysis/cardiac\\_qtls/qtls/atac\\_summits/log/cardiac\\_qtls\\_run\\_eqtls.err /frazer01/projects/CARDIPS/analysis/cardiac\\_qtls/qtls/atac\\_summits/sh/cardiac\\_qtls\\_run\\_eqtls.sh'"
      ],
      "text/markdown": [
       "'qsub -l opt -pe smp 1 -t 1-328772 -tc 1000 -o /frazer01/projects/CARDIPS/analysis/cardiac_qtls/qtls/atac_summits/log/cardiac_qtls_run_eqtls.out -e /frazer01/projects/CARDIPS/analysis/cardiac_qtls/qtls/atac_summits/log/cardiac_qtls_run_eqtls.err /frazer01/projects/CARDIPS/analysis/cardiac_qtls/qtls/atac_summits/sh/cardiac_qtls_run_eqtls.sh'"
      ],
      "text/plain": [
       "[1] \"qsub -l opt -pe smp 1 -t 1-328772 -tc 1000 -o /frazer01/projects/CARDIPS/analysis/cardiac_qtls/qtls/atac_summits/log/cardiac_qtls_run_eqtls.out -e /frazer01/projects/CARDIPS/analysis/cardiac_qtls/qtls/atac_summits/log/cardiac_qtls_run_eqtls.err /frazer01/projects/CARDIPS/analysis/cardiac_qtls/qtls/atac_summits/sh/cardiac_qtls_run_eqtls.sh\""
      ]
     },
     "metadata": {},
     "output_type": "display_data"
    }
   ],
   "source": [
    "analysis_name = \"atac_summits\"\n",
    "phenotype     = \"atac_summits\"\n",
    "geneinfo_file = \"input//phenotypes/atac_summits_info_exp.txt\"\n",
    "geneinfo      = read.table(geneinfo_file, header = TRUE)\n",
    "sample_list   = metadata$atac_id\n",
    "gene_list     = read.table(paste(\"input/phenotypes/\", analysis_name, \"_list.txt\", sep = \"\"), header = FALSE, check.names = FALSE)$V1\n",
    "vars0_assay   = c(\"gt\" , \"population1\", \"sex\", paste(\"PC\", 1:10, sep = \"\"), \"(1|wgs_id)\", \"(1|family_id)\") # list of variants for LMM formula\n",
    "vars1_assay   = c(\"gt:population1\") # list of interaction terms to test vs LMM without interactions\n",
    "\n",
    "initialize = initialize_qtl_analysis(analysis_name, phenotype, \"input/phenotypes/atac_summits\", sample_list, gene_list, vars0_assay, vars1_assay,\n",
    "                                     qtl_distance          = 1e5   ,\n",
    "                                     maf_threshold         =   0.01,\n",
    "                                     phenotype_min_value   =   1   , \n",
    "                                     phenotype_min_samples =   0.2 ,\n",
    "                                     geneinfo_file         = geneinfo_file,\n",
    "                                     n_perm                = 2,\n",
    "                                     primary               = TRUE\n",
    "                                    )\n",
    "\n",
    "qtl_folder = initialize$folder\n",
    "n_genes    = initialize$n_genes\n",
    "\n",
    "message(paste(\"Genes to analyze\", n_genes, sep = \" = \"))\n",
    "\n",
    "run_qsub(qtl_folder, n_genes, run_qsub = FALSE, queue = \"opt\", tc = 1000)\n",
    "#run_qsub(qtl_folder, 10     , run_qsub = TRUE , queue = \"opt\", tc = 1000)\n"
   ]
  },
  {
   "cell_type": "code",
   "execution_count": 162,
   "metadata": {},
   "outputs": [
    {
     "name": "stderr",
     "output_type": "stream",
     "text": [
      "2019-02-12 14:46:40\n",
      "atac_summits\n",
      "Genes analyzed = 24677\n",
      "Genes to analyze = 304095\n",
      "LMMs compared = 5008\n"
     ]
    }
   ],
   "source": [
    "monitor_qtls(analysis_name)\n"
   ]
  },
  {
   "cell_type": "code",
   "execution_count": 156,
   "metadata": {},
   "outputs": [
    {
     "name": "stderr",
     "output_type": "stream",
     "text": [
      "atac_summits: Tested genes = 14012\n"
     ]
    }
   ],
   "source": [
    "qtls = merge_qtls(paste(\"/frazer01/projects/CARDIPS/analysis/cardiac_qtls\", \"qtls\", analysis_name, sep = \"/\"), phenotype)\n",
    "\n",
    "    "
   ]
  },
  {
   "cell_type": "code",
   "execution_count": 9,
   "metadata": {},
   "outputs": [
    {
     "ename": "ERROR",
     "evalue": "Error in str(qtls): object 'qtls' not found\n",
     "output_type": "error",
     "traceback": [
      "Error in str(qtls): object 'qtls' not found\nTraceback:\n",
      "1. str(qtls)"
     ]
    }
   ],
   "source": [
    "str(qtls)\n",
    "lmm_compare = qtls$lmm_compare"
   ]
  },
  {
   "cell_type": "code",
   "execution_count": 144,
   "metadata": {},
   "outputs": [],
   "source": [
    "min_pval = \"min_pval\"\n",
    "lmm_compare        = do.call(\"rbind\", lapply(sort(unique(lmm_compare$type)), function(type){fdr_by_type(lmm_compare, min_pval, type)}))\n",
    "    lmm_compare[lmm_compare$fdr > 0.1, \"best\"] = \"gt\"\n"
   ]
  },
  {
   "cell_type": "code",
   "execution_count": null,
   "metadata": {},
   "outputs": [],
   "source": []
  }
 ],
 "metadata": {
  "kernelspec": {
   "display_name": "R 3.5.1",
   "language": "R",
   "name": "ir35"
  },
  "language_info": {
   "codemirror_mode": "r",
   "file_extension": ".r",
   "mimetype": "text/x-r-source",
   "name": "R",
   "pygments_lexer": "r",
   "version": "3.5.1"
  }
 },
 "nbformat": 4,
 "nbformat_minor": 2
}
