{
 "cells": [
  {
   "cell_type": "code",
   "execution_count": 26,
   "metadata": {},
   "outputs": [],
   "source": [
    "setwd(\"/frazer01/projects/GTEx_v7/analysis/eqtls_deconvolution\")"
   ]
  },
  {
   "cell_type": "code",
   "execution_count": 27,
   "metadata": {},
   "outputs": [
    {
     "name": "stderr",
     "output_type": "stream",
     "text": [
      "Loading packages...\n",
      "Loading input files...\n",
      "Loading functions...\n",
      "Loading input data...\n"
     ]
    }
   ],
   "source": [
    "source(\"qtls/liver_cells/input/packages.R\"      )\n",
    "source(\"qtls/liver_cells/input/input_files.R\"   )\n",
    "source(\"qtls/liver_cells/input/functions.R\"     )\n",
    "source(\"qtls/liver_cells/input/input_data.R\"    )\n",
    "source(\"qtls/liver_cells/input/load_metadata.R\" )\n"
   ]
  },
  {
   "cell_type": "code",
   "execution_count": null,
   "metadata": {},
   "outputs": [],
   "source": [
    "invisible(suppressWarnings(file.link(\"/home/matteo/notebooks/eqtls_deconvolution_gtex/permute_covariates.ipynb\"    , \"analysis/permute_covariates.ipynb\"    )))\n"
   ]
  },
  {
   "cell_type": "code",
   "execution_count": 28,
   "metadata": {},
   "outputs": [],
   "source": [
    "dir.create(\"perm\"           , showWarnings = FALSE)\n",
    "dir.create(\"perm/covariates\", showWarnings = FALSE)\n",
    "dir.create(\"perm/qtls\"      , showWarnings = FALSE)\n",
    "dir.create(\"perm/analysis\"  , showWarnings = FALSE)\n",
    "dir.create(\"perm/input\"     , showWarnings = FALSE)\n",
    "dir.create(\"perm/sh\"        , showWarnings = FALSE)"
   ]
  },
  {
   "cell_type": "code",
   "execution_count": 87,
   "metadata": {},
   "outputs": [],
   "source": [
    "qtls = fread(\"analysis//egenes.liver_cells.txt\", header = TRUE, sep = \"\\t\", data.table = FALSE)\n",
    "#qtls = qtls[ qtls$egene == TRUE, ]"
   ]
  },
  {
   "cell_type": "code",
   "execution_count": 91,
   "metadata": {},
   "outputs": [
    {
     "data": {
      "text/html": [
       "'/frazer01/projects/GTEx_v7/analysis/eqtls_deconvolution/qtls/liver_cells'"
      ],
      "text/latex": [
       "'/frazer01/projects/GTEx\\_v7/analysis/eqtls\\_deconvolution/qtls/liver\\_cells'"
      ],
      "text/markdown": [
       "'/frazer01/projects/GTEx_v7/analysis/eqtls_deconvolution/qtls/liver_cells'"
      ],
      "text/plain": [
       "[1] \"/frazer01/projects/GTEx_v7/analysis/eqtls_deconvolution/qtls/liver_cells\""
      ]
     },
     "metadata": {},
     "output_type": "display_data"
    }
   ],
   "source": [
    "getwd()"
   ]
  },
  {
   "cell_type": "markdown",
   "metadata": {},
   "source": [
    "# Permute covariates"
   ]
  },
  {
   "cell_type": "code",
   "execution_count": 88,
   "metadata": {},
   "outputs": [],
   "source": [
    "permute_covariates = function(ii, covariates_assay)\n",
    "{\n",
    "    covariates_assay$assay_id = sample(x = covariates_assay$assay_id)\n",
    "    \n",
    "    write.table(covariates_assay, file = paste(\"perm/input\", paste(\"covariates_assay\", ii, \"txt\", sep = \".\"), sep = \"/\"), quote = FALSE, sep = \"\\t\", row.names = FALSE, col.names = TRUE)\n",
    "}\n",
    "\n",
    "invisible(lapply(1:1000, function(ii){permute_covariates(ii, covariates_assay)}))"
   ]
  },
  {
   "cell_type": "markdown",
   "metadata": {},
   "source": [
    "# Get genotype data"
   ]
  },
  {
   "cell_type": "code",
   "execution_count": 89,
   "metadata": {},
   "outputs": [],
   "source": [
    "get_gt = function(ii, qtls)\n",
    "{\n",
    "    gene_id = qtls[ii, \"gene_id\"]\n",
    "    id      = qtls[ii, \"id\"     ]\n",
    "    \n",
    "    #message(paste(ii, gene_id))\n",
    "    \n",
    "    gtdata = fread(cmd = paste(\"grep\", id, paste(\"input//genotypes\", paste(\"gt_data\", gene_id, \"txt\", sep = \".\"), sep = \"/\")), header = FALSE, data.table = FALSE)\n",
    "    gtdata = gtdata[gtdata$V1 == id,]\n",
    "    return(gtdata)\n",
    "    \n",
    "}\n",
    "\n",
    "subject_ids = as.character(fread(cmd = paste(\"head\", \"-n 1\", paste(\"input//genotypes\", paste(\"gt_data\", qtls[1,\"gene_id\"], \"txt\", sep = \".\"), sep = \"/\")), header = FALSE, data.table = FALSE))\n",
    "subject_ids[[1]] = \"id\"\n",
    "\n",
    "gtdata = as.data.frame(rbindlist(lapply(1:nrow(qtls), function(ii){get_gt(ii, qtls)})), stringsAsFactors = FALSE)\n",
    "colnames(gtdata) = subject_ids\n",
    "rownames(gtdata) = qtls$gene_id\n",
    "gtdata$id        = NULL\n",
    "\n",
    "fwrite(gtdata, \"perm/input/gtdata.txt\", quote = FALSE, sep = \"\\t\", row.names = TRUE, col.names = TRUE)"
   ]
  },
  {
   "cell_type": "markdown",
   "metadata": {},
   "source": [
    "# Run eQTLs"
   ]
  },
  {
   "cell_type": "code",
   "execution_count": 86,
   "metadata": {},
   "outputs": [
    {
     "name": "stderr",
     "output_type": "stream",
     "text": [
      "1\n",
      "2\n"
     ]
    }
   ],
   "source": [
    "run_lmm_by_variant_perm = function(gene_id, gtdata, meta, covariates_assay, covariates_subject, vars0, vars1, compare = FALSE, type = \"\", n_perm = 0)\n",
    "{\n",
    "    expdata           = fread(paste(\"input/phenotypes\", paste(gene_id, \"txt\", sep = \".\"), sep = \"/\"), header = TRUE, sep = \"\\t\", data.table = FALSE)\n",
    "    rownames(expdata) = expdata$sample_id\n",
    "    meta              = meta   [ meta$assay_id %in% intersect(rownames(expdata), colnames(gtdata)),]\n",
    "    gtdata            = gtdata [             , meta$assay_id]\n",
    "    input             = expdata\n",
    "    input$gt          = as.numeric(gtdata[gene_id, meta$assay_id])\n",
    "    input$assay_id    = rownames(input)\n",
    "    input             = merge(input, meta)\n",
    "    input             = merge(input, covariates_assay)\n",
    "    input             = merge(input, covariates_subject)\n",
    "    input             = input[order(input$wgs_id),]\n",
    "    input$sex         = as.numeric(factor(input$sex   ))\n",
    "    \n",
    "    lmm0   = suppressMessages(suppressWarnings(lmer(paste(\"norm\", paste(vars0, collapse = \"+\"), sep = \"~\"), data = input, REML = FALSE)))\n",
    "    out_lm = get_lmm_pval(lmm0, nrow(input), gene_id, gene_id)\n",
    "    \n",
    "    out_lm$bonferroni = min(c(1,out_lm$pval * as.numeric(unlist(strsplit(system(paste(\"wc -l\", paste(\"input/genotypes\", paste(\"gt_data\", gene_id, \"txt\", sep = \".\"), sep = \"/\")), intern = TRUE), split = \" \"))[[1]])))\n",
    "    \n",
    "    return(out_lm)\n",
    "}\n",
    "\n",
    "run_permute_qtls = function(perm = 1)\n",
    "{\n",
    "    message(perm)\n",
    "    covariates_assay  = fread(paste(\"perm/input\", paste(\"covariates_assay\", perm, \"txt\", sep = \".\"), sep = \"/\"), sep = \"\\t\", header = TRUE, data.table = FALSE)\n",
    "    gtdata            = fread(\"perm/input/gtdata.txt\"                                                          , sep = \"\\t\", header = TRUE, data.table = FALSE)\n",
    "    sample_list       = covariates_assay$assay_id\n",
    "    rownames(gtdata)  = gtdata$V1\n",
    "    \n",
    "    meta              = metadata[metadata$wgs_id %in% colnames(gtdata),]\n",
    "    meta              = meta[meta$assay_id %in% sample_list,]\n",
    "    meta              = meta[order(meta$wgs_id),]\n",
    "    gtdata            = gtdata [             , meta$wgs_id]\n",
    "    colnames(gtdata ) = meta$assay_id\n",
    "    \n",
    "    lmm_data          = as.data.frame(rbindlist(lapply(rownames(gtdata), function(gene_id){run_lmm_by_variant_perm(gene_id, gtdata, meta, covariates_assay, covariates_subject, vars0_assay, vars1_assay, compare = FALSE, type = \"\")})), stringsAsFactors = FALSE)\n",
    "    lmm_data$perm     = perm\n",
    "    \n",
    "    fwrite(lmm_data, file = paste(\"perm/qtls\", paste(\"qtls\", perm, \"txt\", sep = \".\"), sep = \"/\"), quote = FALSE, sep = \"\\t\", row.names = FALSE, col.names = TRUE)\n",
    "}\n",
    "\n",
    "lapply(1:2, run_permute_qtls)"
   ]
  },
  {
   "cell_type": "markdown",
   "metadata": {},
   "source": [
    "# Run qsub\n",
    "\n",
    "qsub -pe smp 1 -t 1-1000 -tc 1000 -o /frazer01/projects/GTEx_v7/analysis/eqtls_deconvolution/qtls/liver_cells/perm/sh/perm.out -e /frazer01/projects/GTEx_v7/analysis/eqtls_deconvolution/qtls/liver_cells/perm/sh/perm.err /frazer01/projects/GTEx_v7/analysis/eqtls_deconvolution/analysis/permute_covariates.sh"
   ]
  },
  {
   "cell_type": "code",
   "execution_count": null,
   "metadata": {},
   "outputs": [],
   "source": []
  }
 ],
 "metadata": {
  "kernelspec": {
   "display_name": "R 3.5.1",
   "language": "R",
   "name": "ir35"
  },
  "language_info": {
   "codemirror_mode": "r",
   "file_extension": ".r",
   "mimetype": "text/x-r-source",
   "name": "R",
   "pygments_lexer": "r",
   "version": "3.5.1"
  }
 },
 "nbformat": 4,
 "nbformat_minor": 2
}
