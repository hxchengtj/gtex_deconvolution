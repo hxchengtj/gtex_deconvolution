{
 "cells": [
  {
   "cell_type": "markdown",
   "metadata": {},
   "source": [
    "# Divide phenotypes based on gene/peak data\n",
    "- V02: divide phenotypes based on metadata filters (only one tissue, all tissues, only iPSCORE...)"
   ]
  },
  {
   "cell_type": "code",
   "execution_count": 1,
   "metadata": {},
   "outputs": [],
   "source": [
    "setwd(\"/frazer01/projects/GTEx_v7/analysis/eqtls_deconvolution\")"
   ]
  },
  {
   "cell_type": "code",
   "execution_count": 2,
   "metadata": {},
   "outputs": [
    {
     "name": "stderr",
     "output_type": "stream",
     "text": [
      "Loading packages...\n",
      "Loading input files...\n",
      "Loading functions...\n",
      "Loading input data...\n",
      "Loading metadata...\n"
     ]
    }
   ],
   "source": [
    "invisible(suppressWarnings(file.link(\"/home/matteo/notebooks/eqtls_deconvolution_gtex/divide_phenotypes.ipynb\"  , \"analysis/divide_phenotypes.ipynb\"  )))\n",
    "\n",
    "source(\"analysis/cardiac_qtls_packages.R\"      )\n",
    "source(\"analysis/cardiac_qtls_input_files.R\"   )\n",
    "source(\"analysis/cardiac_qtls_functions.R\"     )\n",
    "source(\"analysis/cardiac_qtls_input_data.R\"    )\n",
    "source(\"analysis/cardiac_qtls_load_metadata.R\" )\n"
   ]
  },
  {
   "cell_type": "markdown",
   "metadata": {},
   "source": [
    "# Divide phenotype files into one per gene/peak\n",
    "- exclude all genes/peaks that have zero expression in all samples\n",
    "- Create one file with rows = samples; columns = raw expression; quantile-normalized expression"
   ]
  },
  {
   "cell_type": "code",
   "execution_count": 5,
   "metadata": {},
   "outputs": [
    {
     "name": "stderr",
     "output_type": "stream",
     "text": [
      "liver\n",
      "Normalizing expression...\n",
      "Total genes/peaks = 56202\n",
      "Total samples = 153\n",
      "Total expressed genes/peaks = 19678\n",
      "Dividing phenotype data by gene/peak...\n",
      "skin\n",
      "Normalizing expression...\n",
      "Total genes/peaks = 56202\n",
      "Total samples = 749\n",
      "Total expressed genes/peaks = 24098\n",
      "Dividing phenotype data by gene/peak...\n"
     ]
    },
    {
     "data": {
      "text/html": [
       "<ol>\n",
       "\t<li>NULL</li>\n",
       "\t<li>NULL</li>\n",
       "</ol>\n"
      ],
      "text/latex": [
       "\\begin{enumerate}\n",
       "\\item NULL\n",
       "\\item NULL\n",
       "\\end{enumerate}\n"
      ],
      "text/markdown": [
       "1. NULL\n",
       "2. NULL\n",
       "\n",
       "\n"
      ],
      "text/plain": [
       "[[1]]\n",
       "NULL\n",
       "\n",
       "[[2]]\n",
       "NULL\n"
      ]
     },
     "metadata": {},
     "output_type": "display_data"
    }
   ],
   "source": [
    "lapply(c(\"liver\", \"skin\"), function(tissue){divide_phenotypes_by_study(metadata[metadata$tissue == tissue, \"rna_id\"], tissue)})"
   ]
  }
 ],
 "metadata": {
  "kernelspec": {
   "display_name": "R 3.5.1",
   "language": "R",
   "name": "ir35"
  },
  "language_info": {
   "codemirror_mode": "r",
   "file_extension": ".r",
   "mimetype": "text/x-r-source",
   "name": "R",
   "pygments_lexer": "r",
   "version": "3.5.1"
  }
 },
 "nbformat": 4,
 "nbformat_minor": 2
}
