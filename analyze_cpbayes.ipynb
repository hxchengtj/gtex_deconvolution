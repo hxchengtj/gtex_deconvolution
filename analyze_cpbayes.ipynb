{
 "cells": [
  {
   "cell_type": "code",
   "execution_count": 1,
   "metadata": {},
   "outputs": [],
   "source": [
    "library(data.table)\n",
    "suppressPackageStartupMessages(require(png))\n",
    "\n",
    "setwd(\"/frazer01/home/matteo/analysis/i2qtl_sv/ld\")"
   ]
  },
  {
   "cell_type": "code",
   "execution_count": 23,
   "metadata": {},
   "outputs": [],
   "source": [
    "ukbb = read.table(\"/publicdata/ukbiobank_20180801/ukbb2vcf/ukbb_files.txt\", header = TRUE)"
   ]
  },
  {
   "cell_type": "code",
   "execution_count": 30,
   "metadata": {},
   "outputs": [],
   "source": [
    "geneinfo            = read.table(\"/publicdata/gencode_v19_20151104/gene_info.tsv\", header = TRUE)\n",
    "geneinfo$feature_id = unlist(lapply(geneinfo$gene_id, function(x){unlist(strsplit(x, \"\\\\.\"))[[1]]}))"
   ]
  },
  {
   "cell_type": "code",
   "execution_count": 36,
   "metadata": {},
   "outputs": [],
   "source": [
    "eqtls_joint0          = fread(\"/frazer01/projects/hipsci/analysis/i2QTL-sv-analysis/private_output/eqtl_processing/qtl_results_01_17_v2/top_hits_sv_snp_maf5_story.tsv\", sep = \"\\t\", header = TRUE, data.table = FALSE)\n",
    "eqtls_joint           = unique(eqtls_joint0[, c(\"feature_id\", \"snp_id\", \"p_value\", \"beta\", \"beta_se\", \"top_hit_final_sig\")])\n",
    "colnames(eqtls_joint) = c(\"feature_id\", \"snp_id\", \"pval\", \"beta\", \"se\", \"egene\")\n",
    "eqtls_sv0             = fread(\"/frazer01/projects/hipsci/analysis/i2QTL-sv-analysis/private_output/eqtl_processing/qtl_results_01_17_v2/all_qtls_combined_filt5.tsv\"   , sep = \"\\t\", header = TRUE, data.table = FALSE)\n",
    "eqtls_sv              = unique(eqtls_sv0   [eqtls_sv0$top_hit_final_sig  == TRUE, c(\"feature_id\", \"NR_ID\", \"SVTYPE\", \"start_variant\", \"end_variant\", \"p_value\", \"beta\", \"beta_se\")])\n",
    "colnames(eqtls_sv   ) = c(\"feature_id\", \"sv_id\", \"svtype\", \"sv_start\", \"sv_end\", \"pval\", \"beta\", \"se\")\n",
    "eqtls_sv              = merge(eqtls_sv, eqtls_joint, by = \"feature_id\", suffixes = c(\"_svonly\", \"_joint\"), all.x = TRUE)\n",
    "eqtls_sv              = merge(eqtls_sv, geneinfo)\n",
    "eqtls_sv$id2gene      = paste(eqtls_sv$snp_id, eqtls_sv$gene_id)"
   ]
  },
  {
   "cell_type": "code",
   "execution_count": 16,
   "metadata": {},
   "outputs": [],
   "source": [
    "indata = fread(list.files(\"cpbayes\", full.names = TRUE)[[1]], header = TRUE, sep = \"\\t\", data.table = FALSE)\n",
    "\n",
    "read_cpbayes = function(x, mycols)\n",
    "{\n",
    "    indata = fread(x, header = TRUE, sep = \"\\t\", data.table = FALSE)\n",
    "    if (length(colnames(indata)) < length(mycols))\n",
    "    {\n",
    "        indata$top = NA\n",
    "        indata     = indata[,mycols]\n",
    "    }\n",
    "    \n",
    "    #message(paste(x, length(colnames(indata)), length(mycols)))\n",
    "\n",
    "    return(indata)\n",
    "}\n",
    "\n",
    "ld = rbindlist(lapply(list.files(\"cpbayes\", full.names = TRUE), function(x){read_cpbayes(x, colnames(indata))}))\n",
    "\n",
    "write.table(ld, \"cpbayes_ld_data.txt\", quote = FALSE, sep = \"\\t\", row.names = FALSE, col.names = TRUE)\n",
    "lddata = as.data.frame(ld)"
   ]
  },
  {
   "cell_type": "code",
   "execution_count": 24,
   "metadata": {},
   "outputs": [],
   "source": [
    "lddata         = lddata[is.na(lddata$top) == FALSE,]\n",
    "lddata$id2gene = paste(lddata$snp_id, lddata$gene_id)"
   ]
  },
  {
   "cell_type": "code",
   "execution_count": 42,
   "metadata": {},
   "outputs": [],
   "source": [
    "lddata$over   = FALSE\n",
    "lddata$is_snp = FALSE\n",
    "lddata[ lddata$PPAj   >    0.1       , \"over\"  ] = TRUE\n",
    "lddata[!lddata$traits %in% ukbb$trait, \"is_snp\"] = TRUE"
   ]
  },
  {
   "cell_type": "code",
   "execution_count": 49,
   "metadata": {},
   "outputs": [],
   "source": [
    "over = lddata[lddata$over == TRUE & lddata$is_snp == FALSE,]\n",
    "write.table(lddata[lddata$over == TRUE,], \"cpbayes_ld_data_over.txt\", quote = FALSE, sep = \"\\t\", row.names = FALSE, col.names = TRUE)\n"
   ]
  },
  {
   "cell_type": "code",
   "execution_count": 95,
   "metadata": {},
   "outputs": [
    {
     "data": {
      "text/html": [
       "97"
      ],
      "text/latex": [
       "97"
      ],
      "text/markdown": [
       "97"
      ],
      "text/plain": [
       "[1] 97"
      ]
     },
     "metadata": {},
     "output_type": "display_data"
    }
   ],
   "source": [
    "length(unique(over$traits))"
   ]
  },
  {
   "cell_type": "code",
   "execution_count": 43,
   "metadata": {},
   "outputs": [
    {
     "data": {
      "text/plain": [
       "       is_snp\n",
       "over       FALSE     TRUE\n",
       "  FALSE 27857874     1643\n",
       "  TRUE       435     5180"
      ]
     },
     "metadata": {},
     "output_type": "display_data"
    }
   ],
   "source": [
    "table(lddata[,c(\"over\", \"is_snp\")])"
   ]
  },
  {
   "cell_type": "code",
   "execution_count": 87,
   "metadata": {},
   "outputs": [],
   "source": [
    "snp2max = aggregate(PPAj ~ id2gene + ld + svtype, data = lddata[lddata$is_snp == FALSE, ], FUN = max)\n",
    "snp2max = merge(snp2max, eqtls_sv)"
   ]
  },
  {
   "cell_type": "code",
   "execution_count": 88,
   "metadata": {},
   "outputs": [
    {
     "data": {
      "text/plain": [
       "\n",
       "FALSE  TRUE \n",
       " 6804   175 "
      ]
     },
     "metadata": {},
     "output_type": "display_data"
    }
   ],
   "source": [
    "eqtls_sv$over = FALSE\n",
    "eqtls_sv[eqtls_sv$id2gene %in% over$id2gene, \"over\"] = TRUE\n",
    "\n",
    "table(eqtls_sv$over)"
   ]
  },
  {
   "cell_type": "code",
   "execution_count": 110,
   "metadata": {},
   "outputs": [],
   "source": [
    "run_test_by_threshold = function(ld, pp, snp2max, name)\n",
    "{\n",
    "    snp2max$ld_high = FALSE\n",
    "    snp2max$pp_high = FALSE\n",
    "    \n",
    "    snp2max[snp2max$ld   >= ld, \"ld_high\"] = TRUE\n",
    "    snp2max[snp2max$PPAj >= pp, \"pp_high\"] = TRUE\n",
    "    \n",
    "    ldh_pph = nrow(snp2max[snp2max$ld_high == TRUE  & snp2max$pp_high == TRUE , ])\n",
    "    ldh_ppl = nrow(snp2max[snp2max$ld_high == TRUE  & snp2max$pp_high == FALSE, ])\n",
    "    ldl_pph = nrow(snp2max[snp2max$ld_high == FALSE & snp2max$pp_high == TRUE , ])\n",
    "    ldl_ppl = nrow(snp2max[snp2max$ld_high == FALSE & snp2max$pp_high == FALSE, ])\n",
    "    \n",
    "    out = data.frame(name = name, ld = ld, pp = pp, ldh_pph = ldh_pph, ldh_ppl = ldh_ppl, ldl_pph = ldl_pph, ldl_ppl = ldl_ppl)\n",
    "    \n",
    "    test = fisher.test(matrix(c(ldh_pph, ldh_ppl, ldl_pph, ldl_ppl), nrow = 2))\n",
    "    \n",
    "    out$pval = test$p.value\n",
    "    out$or   = test$estimate\n",
    "    out$ci05 = test$conf.int[[1]]\n",
    "    out$ci95 = test$conf.int[[2]]\n",
    "    \n",
    "    return(out)\n",
    "}\n",
    "\n",
    "breaks = (0:10)/10\n",
    "\n",
    "tests_all = list()\n",
    "for(pp in breaks){tests_all[[paste(\"test\", pp)]] = rbindlist(lapply(breaks, function(ld){run_test_by_threshold(ld, pp, snp2max, \"all\")}))}\n",
    "\n",
    "tests_all = rbindlist(tests_all)\n"
   ]
  },
  {
   "cell_type": "code",
   "execution_count": 113,
   "metadata": {},
   "outputs": [
    {
     "name": "stdout",
     "output_type": "stream",
     "text": [
      "Classes ‘data.table’ and 'data.frame':\t121 obs. of  11 variables:\n",
      " $ name   : chr  \"all\" \"all\" \"all\" \"all\" ...\n",
      " $ ld     : num  0 0.1 0.2 0.3 0.4 0.5 0.6 0.7 0.8 0.9 ...\n",
      " $ pp     : num  0 0 0 0 0 0 0 0 0 0 ...\n",
      " $ ldh_pph: int  6821 4654 3922 3358 2900 2458 2023 1595 1197 716 ...\n",
      " $ ldh_ppl: int  0 0 0 0 0 0 0 0 0 0 ...\n",
      " $ ldl_pph: int  0 2167 2899 3463 3921 4363 4798 5226 5624 6105 ...\n",
      " $ ldl_ppl: int  0 0 0 0 0 0 0 0 0 0 ...\n",
      " $ pval   : num  1 1 1 1 1 1 1 1 1 1 ...\n",
      " $ or     : num  0 0 0 0 0 0 0 0 0 0 ...\n",
      " $ ci05   : num  0 0 0 0 0 0 0 0 0 0 ...\n",
      " $ ci95   : num  Inf Inf Inf Inf Inf ...\n",
      " - attr(*, \".internal.selfref\")=<externalptr> \n"
     ]
    }
   ],
   "source": [
    "str(tests_all)"
   ]
  },
  {
   "cell_type": "code",
   "execution_count": 112,
   "metadata": {},
   "outputs": [
    {
     "data": {
      "image/png": "[encoded data removed]",
      "text/plain": [
       "plot without title"
      ]
     },
     "metadata": {},
     "output_type": "display_data"
    }
   ],
   "source": [
    "heatmap_tests = function(tests, breaks)\n",
    "{\n",
    "    par(mar = c(3,3,1,1))\n",
    "    plot(1,1, type = \"n\", xlim = c(0,1), ylim = c(0,1), xlab = \"\", ylab = \"\")\n",
    "    mtext(text = \"LD (R^2)\", side = 1, line = 2)\n",
    "    mtext(text = \"PPAj\"    , side = 2, line = 2)\n",
    "    \n",
    "    rect(xleft = tests$)\n",
    "    \n",
    "}\n",
    "\n",
    "heatmap_tests(tests_all, breaks)\n"
   ]
  },
  {
   "cell_type": "code",
   "execution_count": 111,
   "metadata": {},
   "outputs": [
    {
     "data": {
      "text/html": [
       "<table>\n",
       "<thead><tr><th scope=col>name</th><th scope=col>ld</th><th scope=col>pp</th><th scope=col>ldh_pph</th><th scope=col>ldh_ppl</th><th scope=col>ldl_pph</th><th scope=col>ldl_ppl</th><th scope=col>pval</th><th scope=col>or</th><th scope=col>ci05</th><th scope=col>ci95</th></tr></thead>\n",
       "<tbody>\n",
       "\t<tr><td>all        </td><td>0.0        </td><td>0.0        </td><td>6821       </td><td>   0       </td><td>   0       </td><td>   0       </td><td>1.000000000</td><td>0.000000   </td><td>0.00000000 </td><td>     Inf   </td></tr>\n",
       "\t<tr><td>all        </td><td>0.1        </td><td>0.0        </td><td>4654       </td><td>   0       </td><td>2167       </td><td>   0       </td><td>1.000000000</td><td>0.000000   </td><td>0.00000000 </td><td>     Inf   </td></tr>\n",
       "\t<tr><td>all        </td><td>0.2        </td><td>0.0        </td><td>3922       </td><td>   0       </td><td>2899       </td><td>   0       </td><td>1.000000000</td><td>0.000000   </td><td>0.00000000 </td><td>     Inf   </td></tr>\n",
       "\t<tr><td>all        </td><td>0.3        </td><td>0.0        </td><td>3358       </td><td>   0       </td><td>3463       </td><td>   0       </td><td>1.000000000</td><td>0.000000   </td><td>0.00000000 </td><td>     Inf   </td></tr>\n",
       "\t<tr><td>all        </td><td>0.4        </td><td>0.0        </td><td>2900       </td><td>   0       </td><td>3921       </td><td>   0       </td><td>1.000000000</td><td>0.000000   </td><td>0.00000000 </td><td>     Inf   </td></tr>\n",
       "\t<tr><td>all        </td><td>0.5        </td><td>0.0        </td><td>2458       </td><td>   0       </td><td>4363       </td><td>   0       </td><td>1.000000000</td><td>0.000000   </td><td>0.00000000 </td><td>     Inf   </td></tr>\n",
       "\t<tr><td>all        </td><td>0.6        </td><td>0.0        </td><td>2023       </td><td>   0       </td><td>4798       </td><td>   0       </td><td>1.000000000</td><td>0.000000   </td><td>0.00000000 </td><td>     Inf   </td></tr>\n",
       "\t<tr><td>all        </td><td>0.7        </td><td>0.0        </td><td>1595       </td><td>   0       </td><td>5226       </td><td>   0       </td><td>1.000000000</td><td>0.000000   </td><td>0.00000000 </td><td>     Inf   </td></tr>\n",
       "\t<tr><td>all        </td><td>0.8        </td><td>0.0        </td><td>1197       </td><td>   0       </td><td>5624       </td><td>   0       </td><td>1.000000000</td><td>0.000000   </td><td>0.00000000 </td><td>     Inf   </td></tr>\n",
       "\t<tr><td>all        </td><td>0.9        </td><td>0.0        </td><td> 716       </td><td>   0       </td><td>6105       </td><td>   0       </td><td>1.000000000</td><td>0.000000   </td><td>0.00000000 </td><td>     Inf   </td></tr>\n",
       "\t<tr><td>all        </td><td>1.0        </td><td>0.0        </td><td>  32       </td><td>   0       </td><td>6789       </td><td>   0       </td><td>1.000000000</td><td>0.000000   </td><td>0.00000000 </td><td>     Inf   </td></tr>\n",
       "\t<tr><td>all        </td><td>0.0        </td><td>0.1        </td><td> 174       </td><td>6647       </td><td>   0       </td><td>   0       </td><td>1.000000000</td><td>0.000000   </td><td>0.00000000 </td><td>     Inf   </td></tr>\n",
       "\t<tr><td>all        </td><td>0.1        </td><td>0.1        </td><td> 133       </td><td>4521       </td><td>  41       </td><td>2126       </td><td>0.020618018</td><td>1.525358   </td><td>1.06298850 </td><td>2.229719   </td></tr>\n",
       "\t<tr><td>all        </td><td>0.2        </td><td>0.1        </td><td> 115       </td><td>3807       </td><td>  59       </td><td>2840       </td><td>0.019893105</td><td>1.453977   </td><td>1.04902347 </td><td>2.033363   </td></tr>\n",
       "\t<tr><td>all        </td><td>0.3        </td><td>0.1        </td><td>  99       </td><td>3259       </td><td>  75       </td><td>3388       </td><td>0.045605912</td><td>1.372179   </td><td>1.00214739 </td><td>1.885405   </td></tr>\n",
       "\t<tr><td>all        </td><td>0.4        </td><td>0.1        </td><td>  85       </td><td>2815       </td><td>  89       </td><td>3832       </td><td>0.088065031</td><td>1.300034   </td><td>0.95024545 </td><td>1.777545   </td></tr>\n",
       "\t<tr><td>all        </td><td>0.5        </td><td>0.1        </td><td>  74       </td><td>2384       </td><td> 100       </td><td>4263       </td><td>0.078296431</td><td>1.323155   </td><td>0.96201594 </td><td>1.813137   </td></tr>\n",
       "\t<tr><td>all        </td><td>0.6        </td><td>0.1        </td><td>  61       </td><td>1962       </td><td> 113       </td><td>4685       </td><td>0.129827688</td><td>1.289015   </td><td>0.92386193 </td><td>1.783748   </td></tr>\n",
       "\t<tr><td>all        </td><td>0.7        </td><td>0.1        </td><td>  52       </td><td>1543       </td><td> 122       </td><td>5104       </td><td>0.045656556</td><td>1.409822   </td><td>0.99367954 </td><td>1.976525   </td></tr>\n",
       "\t<tr><td>all        </td><td>0.8        </td><td>0.1        </td><td>  45       </td><td>1152       </td><td> 129       </td><td>5495       </td><td>0.006094937</td><td>1.663793   </td><td>1.15067280 </td><td>2.368236   </td></tr>\n",
       "\t<tr><td>all        </td><td>0.9        </td><td>0.1        </td><td>  32       </td><td> 684       </td><td> 142       </td><td>5963       </td><td>0.001515359</td><td>1.964379   </td><td>1.28406567 </td><td>2.926328   </td></tr>\n",
       "\t<tr><td>all        </td><td>1.0        </td><td>0.1        </td><td>   1       </td><td>  31       </td><td> 173       </td><td>6616       </td><td>0.563429023</td><td>1.233594   </td><td>0.03009714 </td><td>7.492500   </td></tr>\n",
       "\t<tr><td>all        </td><td>0.0        </td><td>0.2        </td><td> 160       </td><td>6661       </td><td>   0       </td><td>   0       </td><td>1.000000000</td><td>0.000000   </td><td>0.00000000 </td><td>     Inf   </td></tr>\n",
       "\t<tr><td>all        </td><td>0.1        </td><td>0.2        </td><td> 120       </td><td>4534       </td><td>  40       </td><td>2127       </td><td>0.070842962</td><td>1.407310   </td><td>0.97248170 </td><td>2.074438   </td></tr>\n",
       "\t<tr><td>all        </td><td>0.2        </td><td>0.2        </td><td> 106       </td><td>3816       </td><td>  54       </td><td>2845       </td><td>0.023539318</td><td>1.463396   </td><td>1.04077734 </td><td>2.078122   </td></tr>\n",
       "\t<tr><td>all        </td><td>0.3        </td><td>0.2        </td><td>  90       </td><td>3268       </td><td>  70       </td><td>3393       </td><td>0.078334442</td><td>1.334830   </td><td>0.96210782 </td><td>1.858347   </td></tr>\n",
       "\t<tr><td>all        </td><td>0.4        </td><td>0.2        </td><td>  76       </td><td>2824       </td><td>  84       </td><td>3837       </td><td>0.196709249</td><td>1.229265   </td><td>0.88576504 </td><td>1.703706   </td></tr>\n",
       "\t<tr><td>all        </td><td>0.5        </td><td>0.2        </td><td>  66       </td><td>2392       </td><td>  94       </td><td>4269       </td><td>0.182314263</td><td>1.253022   </td><td>0.89677321 </td><td>1.742425   </td></tr>\n",
       "\t<tr><td>all        </td><td>0.6        </td><td>0.2        </td><td>  57       </td><td>1966       </td><td> 103       </td><td>4695       </td><td>0.096619596</td><td>1.321541   </td><td>0.93478737 </td><td>1.852427   </td></tr>\n",
       "\t<tr><td>all        </td><td>0.7        </td><td>0.2        </td><td>  48       </td><td>1547       </td><td> 112       </td><td>5114       </td><td>0.047537869</td><td>1.416672   </td><td>0.98359443 </td><td>2.014296   </td></tr>\n",
       "\t<tr><td>⋮</td><td>⋮</td><td>⋮</td><td>⋮</td><td>⋮</td><td>⋮</td><td>⋮</td><td>⋮</td><td>⋮</td><td>⋮</td><td>⋮</td></tr>\n",
       "\t<tr><td>all       </td><td>0.3       </td><td>0.8       </td><td> 64       </td><td>3294      </td><td> 46       </td><td>3417      </td><td>0.06741104</td><td>1.443171  </td><td>0.96956232</td><td> 2.162952 </td></tr>\n",
       "\t<tr><td>all       </td><td>0.4       </td><td>0.8       </td><td> 54       </td><td>2846      </td><td> 56       </td><td>3865      </td><td>0.17365077</td><td>1.309479  </td><td>0.88119633</td><td> 1.944552 </td></tr>\n",
       "\t<tr><td>all       </td><td>0.5       </td><td>0.8       </td><td> 47       </td><td>2411      </td><td> 63       </td><td>4300      </td><td>0.16069938</td><td>1.330447  </td><td>0.88891046</td><td> 1.979409 </td></tr>\n",
       "\t<tr><td>all       </td><td>0.6       </td><td>0.8       </td><td> 39       </td><td>1984      </td><td> 71       </td><td>4727      </td><td>0.20617209</td><td>1.308708  </td><td>0.85878876</td><td> 1.968493 </td></tr>\n",
       "\t<tr><td>all       </td><td>0.7       </td><td>0.8       </td><td> 33       </td><td>1562      </td><td> 77       </td><td>5149      </td><td>0.11120254</td><td>1.412671  </td><td>0.90617667</td><td> 2.159524 </td></tr>\n",
       "\t<tr><td>all       </td><td>0.8       </td><td>0.8       </td><td> 28       </td><td>1169      </td><td> 82       </td><td>5542      </td><td>0.03183167</td><td>1.618674  </td><td>1.00965277</td><td> 2.526435 </td></tr>\n",
       "\t<tr><td>all       </td><td>0.9       </td><td>0.8       </td><td> 21       </td><td> 695      </td><td> 89       </td><td>6016      </td><td>0.00672911</td><td>2.042191  </td><td>1.19731053</td><td> 3.339379 </td></tr>\n",
       "\t<tr><td>all       </td><td>1.0       </td><td>0.8       </td><td>  1       </td><td>  31      </td><td>109       </td><td>6680      </td><td>0.40634407</td><td>1.976639  </td><td>0.04807074</td><td>12.085710 </td></tr>\n",
       "\t<tr><td>all       </td><td>0.0       </td><td>0.9       </td><td>100       </td><td>6721      </td><td>  0       </td><td>   0      </td><td>1.00000000</td><td>0.000000  </td><td>0.00000000</td><td>      Inf </td></tr>\n",
       "\t<tr><td>all       </td><td>0.1       </td><td>0.9       </td><td> 77       </td><td>4577      </td><td> 23       </td><td>2144      </td><td>0.06542012</td><td>1.568125  </td><td>0.97026795</td><td> 2.626351 </td></tr>\n",
       "\t<tr><td>all       </td><td>0.2       </td><td>0.9       </td><td> 66       </td><td>3856      </td><td> 34       </td><td>2865      </td><td>0.08430803</td><td>1.442214  </td><td>0.93676429</td><td> 2.256863 </td></tr>\n",
       "\t<tr><td>all       </td><td>0.3       </td><td>0.9       </td><td> 57       </td><td>3301      </td><td> 43       </td><td>3420      </td><td>0.13072278</td><td>1.373298  </td><td>0.90534976</td><td> 2.096517 </td></tr>\n",
       "\t<tr><td>all       </td><td>0.4       </td><td>0.9       </td><td> 48       </td><td>2852      </td><td> 52       </td><td>3869      </td><td>0.26445872</td><td>1.252188  </td><td>0.82531083</td><td> 1.896472 </td></tr>\n",
       "\t<tr><td>all       </td><td>0.5       </td><td>0.9       </td><td> 42       </td><td>2416      </td><td> 58       </td><td>4305      </td><td>0.20988656</td><td>1.290242  </td><td>0.84337188</td><td> 1.959496 </td></tr>\n",
       "\t<tr><td>all       </td><td>0.6       </td><td>0.9       </td><td> 35       </td><td>1988      </td><td> 65       </td><td>4733      </td><td>0.26968567</td><td>1.281952  </td><td>0.82184754</td><td> 1.969745 </td></tr>\n",
       "\t<tr><td>all       </td><td>0.7       </td><td>0.9       </td><td> 29       </td><td>1566      </td><td> 71       </td><td>5155      </td><td>0.19046303</td><td>1.344486  </td><td>0.83814799</td><td> 2.106853 </td></tr>\n",
       "\t<tr><td>all       </td><td>0.8       </td><td>0.9       </td><td> 24       </td><td>1173      </td><td> 76       </td><td>5548      </td><td>0.11037416</td><td>1.493505  </td><td>0.89834683</td><td> 2.402347 </td></tr>\n",
       "\t<tr><td>all       </td><td>0.9       </td><td>0.9       </td><td> 17       </td><td> 699      </td><td> 83       </td><td>6022      </td><td>0.04612205</td><td>1.764367  </td><td>0.97544224</td><td> 3.019106 </td></tr>\n",
       "\t<tr><td>all       </td><td>1.0       </td><td>0.9       </td><td>  1       </td><td>  31      </td><td> 99       </td><td>6690      </td><td>0.37730450</td><td>2.179551  </td><td>0.05295756</td><td>13.360822 </td></tr>\n",
       "\t<tr><td>all       </td><td>0.0       </td><td>1.0       </td><td> 52       </td><td>6769      </td><td>  0       </td><td>   0      </td><td>1.00000000</td><td>0.000000  </td><td>0.00000000</td><td>      Inf </td></tr>\n",
       "\t<tr><td>all       </td><td>0.1       </td><td>1.0       </td><td> 39       </td><td>4615      </td><td> 13       </td><td>2154      </td><td>0.36964837</td><td>1.400179  </td><td>0.72979641</td><td> 2.864925 </td></tr>\n",
       "\t<tr><td>all       </td><td>0.2       </td><td>1.0       </td><td> 34       </td><td>3888      </td><td> 18       </td><td>2881      </td><td>0.26342726</td><td>1.399594  </td><td>0.76675275</td><td> 2.637975 </td></tr>\n",
       "\t<tr><td>all       </td><td>0.3       </td><td>1.0       </td><td> 29       </td><td>3329      </td><td> 23       </td><td>3440      </td><td>0.40393035</td><td>1.302856  </td><td>0.72619058</td><td> 2.363244 </td></tr>\n",
       "\t<tr><td>all       </td><td>0.4       </td><td>1.0       </td><td> 24       </td><td>2876      </td><td> 28       </td><td>3893      </td><td>0.67313472</td><td>1.160214  </td><td>0.64225682</td><td> 2.080736 </td></tr>\n",
       "\t<tr><td>all       </td><td>0.5       </td><td>1.0       </td><td> 21       </td><td>2437      </td><td> 31       </td><td>4332      </td><td>0.56240608</td><td>1.204130  </td><td>0.65609434</td><td> 2.168950 </td></tr>\n",
       "\t<tr><td>all       </td><td>0.6       </td><td>1.0       </td><td> 18       </td><td>2005      </td><td> 34       </td><td>4764      </td><td>0.44719976</td><td>1.257915  </td><td>0.66713624</td><td> 2.296934 </td></tr>\n",
       "\t<tr><td>all       </td><td>0.7       </td><td>1.0       </td><td> 16       </td><td>1579      </td><td> 36       </td><td>5190      </td><td>0.24801010</td><td>1.460750  </td><td>0.75471074</td><td> 2.708753 </td></tr>\n",
       "\t<tr><td>all       </td><td>0.8       </td><td>1.0       </td><td> 12       </td><td>1185      </td><td> 40       </td><td>5584      </td><td>0.27540790</td><td>1.413589  </td><td>0.67296925</td><td> 2.758629 </td></tr>\n",
       "\t<tr><td>all       </td><td>0.9       </td><td>1.0       </td><td>  9       </td><td> 707      </td><td> 43       </td><td>6062      </td><td>0.11138448</td><td>1.794417  </td><td>0.76584755</td><td> 3.752331 </td></tr>\n",
       "\t<tr><td>all       </td><td>1.0       </td><td>1.0       </td><td>  0       </td><td>  32      </td><td> 52       </td><td>6737      </td><td>1.00000000</td><td>0.000000  </td><td>0.00000000</td><td>16.361902 </td></tr>\n",
       "</tbody>\n",
       "</table>\n"
      ],
      "text/latex": [
       "\\begin{tabular}{r|lllllllllll}\n",
       " name & ld & pp & ldh\\_pph & ldh\\_ppl & ldl\\_pph & ldl\\_ppl & pval & or & ci05 & ci95\\\\\n",
       "\\hline\n",
       "\t all         & 0.0         & 0.0         & 6821        &    0        &    0        &    0        & 1.000000000 & 0.000000    & 0.00000000  &      Inf   \\\\\n",
       "\t all         & 0.1         & 0.0         & 4654        &    0        & 2167        &    0        & 1.000000000 & 0.000000    & 0.00000000  &      Inf   \\\\\n",
       "\t all         & 0.2         & 0.0         & 3922        &    0        & 2899        &    0        & 1.000000000 & 0.000000    & 0.00000000  &      Inf   \\\\\n",
       "\t all         & 0.3         & 0.0         & 3358        &    0        & 3463        &    0        & 1.000000000 & 0.000000    & 0.00000000  &      Inf   \\\\\n",
       "\t all         & 0.4         & 0.0         & 2900        &    0        & 3921        &    0        & 1.000000000 & 0.000000    & 0.00000000  &      Inf   \\\\\n",
       "\t all         & 0.5         & 0.0         & 2458        &    0        & 4363        &    0        & 1.000000000 & 0.000000    & 0.00000000  &      Inf   \\\\\n",
       "\t all         & 0.6         & 0.0         & 2023        &    0        & 4798        &    0        & 1.000000000 & 0.000000    & 0.00000000  &      Inf   \\\\\n",
       "\t all         & 0.7         & 0.0         & 1595        &    0        & 5226        &    0        & 1.000000000 & 0.000000    & 0.00000000  &      Inf   \\\\\n",
       "\t all         & 0.8         & 0.0         & 1197        &    0        & 5624        &    0        & 1.000000000 & 0.000000    & 0.00000000  &      Inf   \\\\\n",
       "\t all         & 0.9         & 0.0         &  716        &    0        & 6105        &    0        & 1.000000000 & 0.000000    & 0.00000000  &      Inf   \\\\\n",
       "\t all         & 1.0         & 0.0         &   32        &    0        & 6789        &    0        & 1.000000000 & 0.000000    & 0.00000000  &      Inf   \\\\\n",
       "\t all         & 0.0         & 0.1         &  174        & 6647        &    0        &    0        & 1.000000000 & 0.000000    & 0.00000000  &      Inf   \\\\\n",
       "\t all         & 0.1         & 0.1         &  133        & 4521        &   41        & 2126        & 0.020618018 & 1.525358    & 1.06298850  & 2.229719   \\\\\n",
       "\t all         & 0.2         & 0.1         &  115        & 3807        &   59        & 2840        & 0.019893105 & 1.453977    & 1.04902347  & 2.033363   \\\\\n",
       "\t all         & 0.3         & 0.1         &   99        & 3259        &   75        & 3388        & 0.045605912 & 1.372179    & 1.00214739  & 1.885405   \\\\\n",
       "\t all         & 0.4         & 0.1         &   85        & 2815        &   89        & 3832        & 0.088065031 & 1.300034    & 0.95024545  & 1.777545   \\\\\n",
       "\t all         & 0.5         & 0.1         &   74        & 2384        &  100        & 4263        & 0.078296431 & 1.323155    & 0.96201594  & 1.813137   \\\\\n",
       "\t all         & 0.6         & 0.1         &   61        & 1962        &  113        & 4685        & 0.129827688 & 1.289015    & 0.92386193  & 1.783748   \\\\\n",
       "\t all         & 0.7         & 0.1         &   52        & 1543        &  122        & 5104        & 0.045656556 & 1.409822    & 0.99367954  & 1.976525   \\\\\n",
       "\t all         & 0.8         & 0.1         &   45        & 1152        &  129        & 5495        & 0.006094937 & 1.663793    & 1.15067280  & 2.368236   \\\\\n",
       "\t all         & 0.9         & 0.1         &   32        &  684        &  142        & 5963        & 0.001515359 & 1.964379    & 1.28406567  & 2.926328   \\\\\n",
       "\t all         & 1.0         & 0.1         &    1        &   31        &  173        & 6616        & 0.563429023 & 1.233594    & 0.03009714  & 7.492500   \\\\\n",
       "\t all         & 0.0         & 0.2         &  160        & 6661        &    0        &    0        & 1.000000000 & 0.000000    & 0.00000000  &      Inf   \\\\\n",
       "\t all         & 0.1         & 0.2         &  120        & 4534        &   40        & 2127        & 0.070842962 & 1.407310    & 0.97248170  & 2.074438   \\\\\n",
       "\t all         & 0.2         & 0.2         &  106        & 3816        &   54        & 2845        & 0.023539318 & 1.463396    & 1.04077734  & 2.078122   \\\\\n",
       "\t all         & 0.3         & 0.2         &   90        & 3268        &   70        & 3393        & 0.078334442 & 1.334830    & 0.96210782  & 1.858347   \\\\\n",
       "\t all         & 0.4         & 0.2         &   76        & 2824        &   84        & 3837        & 0.196709249 & 1.229265    & 0.88576504  & 1.703706   \\\\\n",
       "\t all         & 0.5         & 0.2         &   66        & 2392        &   94        & 4269        & 0.182314263 & 1.253022    & 0.89677321  & 1.742425   \\\\\n",
       "\t all         & 0.6         & 0.2         &   57        & 1966        &  103        & 4695        & 0.096619596 & 1.321541    & 0.93478737  & 1.852427   \\\\\n",
       "\t all         & 0.7         & 0.2         &   48        & 1547        &  112        & 5114        & 0.047537869 & 1.416672    & 0.98359443  & 2.014296   \\\\\n",
       "\t ⋮ & ⋮ & ⋮ & ⋮ & ⋮ & ⋮ & ⋮ & ⋮ & ⋮ & ⋮ & ⋮\\\\\n",
       "\t all        & 0.3        & 0.8        &  64        & 3294       &  46        & 3417       & 0.06741104 & 1.443171   & 0.96956232 &  2.162952 \\\\\n",
       "\t all        & 0.4        & 0.8        &  54        & 2846       &  56        & 3865       & 0.17365077 & 1.309479   & 0.88119633 &  1.944552 \\\\\n",
       "\t all        & 0.5        & 0.8        &  47        & 2411       &  63        & 4300       & 0.16069938 & 1.330447   & 0.88891046 &  1.979409 \\\\\n",
       "\t all        & 0.6        & 0.8        &  39        & 1984       &  71        & 4727       & 0.20617209 & 1.308708   & 0.85878876 &  1.968493 \\\\\n",
       "\t all        & 0.7        & 0.8        &  33        & 1562       &  77        & 5149       & 0.11120254 & 1.412671   & 0.90617667 &  2.159524 \\\\\n",
       "\t all        & 0.8        & 0.8        &  28        & 1169       &  82        & 5542       & 0.03183167 & 1.618674   & 1.00965277 &  2.526435 \\\\\n",
       "\t all        & 0.9        & 0.8        &  21        &  695       &  89        & 6016       & 0.00672911 & 2.042191   & 1.19731053 &  3.339379 \\\\\n",
       "\t all        & 1.0        & 0.8        &   1        &   31       & 109        & 6680       & 0.40634407 & 1.976639   & 0.04807074 & 12.085710 \\\\\n",
       "\t all        & 0.0        & 0.9        & 100        & 6721       &   0        &    0       & 1.00000000 & 0.000000   & 0.00000000 &       Inf \\\\\n",
       "\t all        & 0.1        & 0.9        &  77        & 4577       &  23        & 2144       & 0.06542012 & 1.568125   & 0.97026795 &  2.626351 \\\\\n",
       "\t all        & 0.2        & 0.9        &  66        & 3856       &  34        & 2865       & 0.08430803 & 1.442214   & 0.93676429 &  2.256863 \\\\\n",
       "\t all        & 0.3        & 0.9        &  57        & 3301       &  43        & 3420       & 0.13072278 & 1.373298   & 0.90534976 &  2.096517 \\\\\n",
       "\t all        & 0.4        & 0.9        &  48        & 2852       &  52        & 3869       & 0.26445872 & 1.252188   & 0.82531083 &  1.896472 \\\\\n",
       "\t all        & 0.5        & 0.9        &  42        & 2416       &  58        & 4305       & 0.20988656 & 1.290242   & 0.84337188 &  1.959496 \\\\\n",
       "\t all        & 0.6        & 0.9        &  35        & 1988       &  65        & 4733       & 0.26968567 & 1.281952   & 0.82184754 &  1.969745 \\\\\n",
       "\t all        & 0.7        & 0.9        &  29        & 1566       &  71        & 5155       & 0.19046303 & 1.344486   & 0.83814799 &  2.106853 \\\\\n",
       "\t all        & 0.8        & 0.9        &  24        & 1173       &  76        & 5548       & 0.11037416 & 1.493505   & 0.89834683 &  2.402347 \\\\\n",
       "\t all        & 0.9        & 0.9        &  17        &  699       &  83        & 6022       & 0.04612205 & 1.764367   & 0.97544224 &  3.019106 \\\\\n",
       "\t all        & 1.0        & 0.9        &   1        &   31       &  99        & 6690       & 0.37730450 & 2.179551   & 0.05295756 & 13.360822 \\\\\n",
       "\t all        & 0.0        & 1.0        &  52        & 6769       &   0        &    0       & 1.00000000 & 0.000000   & 0.00000000 &       Inf \\\\\n",
       "\t all        & 0.1        & 1.0        &  39        & 4615       &  13        & 2154       & 0.36964837 & 1.400179   & 0.72979641 &  2.864925 \\\\\n",
       "\t all        & 0.2        & 1.0        &  34        & 3888       &  18        & 2881       & 0.26342726 & 1.399594   & 0.76675275 &  2.637975 \\\\\n",
       "\t all        & 0.3        & 1.0        &  29        & 3329       &  23        & 3440       & 0.40393035 & 1.302856   & 0.72619058 &  2.363244 \\\\\n",
       "\t all        & 0.4        & 1.0        &  24        & 2876       &  28        & 3893       & 0.67313472 & 1.160214   & 0.64225682 &  2.080736 \\\\\n",
       "\t all        & 0.5        & 1.0        &  21        & 2437       &  31        & 4332       & 0.56240608 & 1.204130   & 0.65609434 &  2.168950 \\\\\n",
       "\t all        & 0.6        & 1.0        &  18        & 2005       &  34        & 4764       & 0.44719976 & 1.257915   & 0.66713624 &  2.296934 \\\\\n",
       "\t all        & 0.7        & 1.0        &  16        & 1579       &  36        & 5190       & 0.24801010 & 1.460750   & 0.75471074 &  2.708753 \\\\\n",
       "\t all        & 0.8        & 1.0        &  12        & 1185       &  40        & 5584       & 0.27540790 & 1.413589   & 0.67296925 &  2.758629 \\\\\n",
       "\t all        & 0.9        & 1.0        &   9        &  707       &  43        & 6062       & 0.11138448 & 1.794417   & 0.76584755 &  3.752331 \\\\\n",
       "\t all        & 1.0        & 1.0        &   0        &   32       &  52        & 6737       & 1.00000000 & 0.000000   & 0.00000000 & 16.361902 \\\\\n",
       "\\end{tabular}\n"
      ],
      "text/markdown": [
       "\n",
       "| name | ld | pp | ldh_pph | ldh_ppl | ldl_pph | ldl_ppl | pval | or | ci05 | ci95 |\n",
       "|---|---|---|---|---|---|---|---|---|---|---|\n",
       "| all         | 0.0         | 0.0         | 6821        |    0        |    0        |    0        | 1.000000000 | 0.000000    | 0.00000000  |      Inf    |\n",
       "| all         | 0.1         | 0.0         | 4654        |    0        | 2167        |    0        | 1.000000000 | 0.000000    | 0.00000000  |      Inf    |\n",
       "| all         | 0.2         | 0.0         | 3922        |    0        | 2899        |    0        | 1.000000000 | 0.000000    | 0.00000000  |      Inf    |\n",
       "| all         | 0.3         | 0.0         | 3358        |    0        | 3463        |    0        | 1.000000000 | 0.000000    | 0.00000000  |      Inf    |\n",
       "| all         | 0.4         | 0.0         | 2900        |    0        | 3921        |    0        | 1.000000000 | 0.000000    | 0.00000000  |      Inf    |\n",
       "| all         | 0.5         | 0.0         | 2458        |    0        | 4363        |    0        | 1.000000000 | 0.000000    | 0.00000000  |      Inf    |\n",
       "| all         | 0.6         | 0.0         | 2023        |    0        | 4798        |    0        | 1.000000000 | 0.000000    | 0.00000000  |      Inf    |\n",
       "| all         | 0.7         | 0.0         | 1595        |    0        | 5226        |    0        | 1.000000000 | 0.000000    | 0.00000000  |      Inf    |\n",
       "| all         | 0.8         | 0.0         | 1197        |    0        | 5624        |    0        | 1.000000000 | 0.000000    | 0.00000000  |      Inf    |\n",
       "| all         | 0.9         | 0.0         |  716        |    0        | 6105        |    0        | 1.000000000 | 0.000000    | 0.00000000  |      Inf    |\n",
       "| all         | 1.0         | 0.0         |   32        |    0        | 6789        |    0        | 1.000000000 | 0.000000    | 0.00000000  |      Inf    |\n",
       "| all         | 0.0         | 0.1         |  174        | 6647        |    0        |    0        | 1.000000000 | 0.000000    | 0.00000000  |      Inf    |\n",
       "| all         | 0.1         | 0.1         |  133        | 4521        |   41        | 2126        | 0.020618018 | 1.525358    | 1.06298850  | 2.229719    |\n",
       "| all         | 0.2         | 0.1         |  115        | 3807        |   59        | 2840        | 0.019893105 | 1.453977    | 1.04902347  | 2.033363    |\n",
       "| all         | 0.3         | 0.1         |   99        | 3259        |   75        | 3388        | 0.045605912 | 1.372179    | 1.00214739  | 1.885405    |\n",
       "| all         | 0.4         | 0.1         |   85        | 2815        |   89        | 3832        | 0.088065031 | 1.300034    | 0.95024545  | 1.777545    |\n",
       "| all         | 0.5         | 0.1         |   74        | 2384        |  100        | 4263        | 0.078296431 | 1.323155    | 0.96201594  | 1.813137    |\n",
       "| all         | 0.6         | 0.1         |   61        | 1962        |  113        | 4685        | 0.129827688 | 1.289015    | 0.92386193  | 1.783748    |\n",
       "| all         | 0.7         | 0.1         |   52        | 1543        |  122        | 5104        | 0.045656556 | 1.409822    | 0.99367954  | 1.976525    |\n",
       "| all         | 0.8         | 0.1         |   45        | 1152        |  129        | 5495        | 0.006094937 | 1.663793    | 1.15067280  | 2.368236    |\n",
       "| all         | 0.9         | 0.1         |   32        |  684        |  142        | 5963        | 0.001515359 | 1.964379    | 1.28406567  | 2.926328    |\n",
       "| all         | 1.0         | 0.1         |    1        |   31        |  173        | 6616        | 0.563429023 | 1.233594    | 0.03009714  | 7.492500    |\n",
       "| all         | 0.0         | 0.2         |  160        | 6661        |    0        |    0        | 1.000000000 | 0.000000    | 0.00000000  |      Inf    |\n",
       "| all         | 0.1         | 0.2         |  120        | 4534        |   40        | 2127        | 0.070842962 | 1.407310    | 0.97248170  | 2.074438    |\n",
       "| all         | 0.2         | 0.2         |  106        | 3816        |   54        | 2845        | 0.023539318 | 1.463396    | 1.04077734  | 2.078122    |\n",
       "| all         | 0.3         | 0.2         |   90        | 3268        |   70        | 3393        | 0.078334442 | 1.334830    | 0.96210782  | 1.858347    |\n",
       "| all         | 0.4         | 0.2         |   76        | 2824        |   84        | 3837        | 0.196709249 | 1.229265    | 0.88576504  | 1.703706    |\n",
       "| all         | 0.5         | 0.2         |   66        | 2392        |   94        | 4269        | 0.182314263 | 1.253022    | 0.89677321  | 1.742425    |\n",
       "| all         | 0.6         | 0.2         |   57        | 1966        |  103        | 4695        | 0.096619596 | 1.321541    | 0.93478737  | 1.852427    |\n",
       "| all         | 0.7         | 0.2         |   48        | 1547        |  112        | 5114        | 0.047537869 | 1.416672    | 0.98359443  | 2.014296    |\n",
       "| ⋮ | ⋮ | ⋮ | ⋮ | ⋮ | ⋮ | ⋮ | ⋮ | ⋮ | ⋮ | ⋮ |\n",
       "| all        | 0.3        | 0.8        |  64        | 3294       |  46        | 3417       | 0.06741104 | 1.443171   | 0.96956232 |  2.162952  |\n",
       "| all        | 0.4        | 0.8        |  54        | 2846       |  56        | 3865       | 0.17365077 | 1.309479   | 0.88119633 |  1.944552  |\n",
       "| all        | 0.5        | 0.8        |  47        | 2411       |  63        | 4300       | 0.16069938 | 1.330447   | 0.88891046 |  1.979409  |\n",
       "| all        | 0.6        | 0.8        |  39        | 1984       |  71        | 4727       | 0.20617209 | 1.308708   | 0.85878876 |  1.968493  |\n",
       "| all        | 0.7        | 0.8        |  33        | 1562       |  77        | 5149       | 0.11120254 | 1.412671   | 0.90617667 |  2.159524  |\n",
       "| all        | 0.8        | 0.8        |  28        | 1169       |  82        | 5542       | 0.03183167 | 1.618674   | 1.00965277 |  2.526435  |\n",
       "| all        | 0.9        | 0.8        |  21        |  695       |  89        | 6016       | 0.00672911 | 2.042191   | 1.19731053 |  3.339379  |\n",
       "| all        | 1.0        | 0.8        |   1        |   31       | 109        | 6680       | 0.40634407 | 1.976639   | 0.04807074 | 12.085710  |\n",
       "| all        | 0.0        | 0.9        | 100        | 6721       |   0        |    0       | 1.00000000 | 0.000000   | 0.00000000 |       Inf  |\n",
       "| all        | 0.1        | 0.9        |  77        | 4577       |  23        | 2144       | 0.06542012 | 1.568125   | 0.97026795 |  2.626351  |\n",
       "| all        | 0.2        | 0.9        |  66        | 3856       |  34        | 2865       | 0.08430803 | 1.442214   | 0.93676429 |  2.256863  |\n",
       "| all        | 0.3        | 0.9        |  57        | 3301       |  43        | 3420       | 0.13072278 | 1.373298   | 0.90534976 |  2.096517  |\n",
       "| all        | 0.4        | 0.9        |  48        | 2852       |  52        | 3869       | 0.26445872 | 1.252188   | 0.82531083 |  1.896472  |\n",
       "| all        | 0.5        | 0.9        |  42        | 2416       |  58        | 4305       | 0.20988656 | 1.290242   | 0.84337188 |  1.959496  |\n",
       "| all        | 0.6        | 0.9        |  35        | 1988       |  65        | 4733       | 0.26968567 | 1.281952   | 0.82184754 |  1.969745  |\n",
       "| all        | 0.7        | 0.9        |  29        | 1566       |  71        | 5155       | 0.19046303 | 1.344486   | 0.83814799 |  2.106853  |\n",
       "| all        | 0.8        | 0.9        |  24        | 1173       |  76        | 5548       | 0.11037416 | 1.493505   | 0.89834683 |  2.402347  |\n",
       "| all        | 0.9        | 0.9        |  17        |  699       |  83        | 6022       | 0.04612205 | 1.764367   | 0.97544224 |  3.019106  |\n",
       "| all        | 1.0        | 0.9        |   1        |   31       |  99        | 6690       | 0.37730450 | 2.179551   | 0.05295756 | 13.360822  |\n",
       "| all        | 0.0        | 1.0        |  52        | 6769       |   0        |    0       | 1.00000000 | 0.000000   | 0.00000000 |       Inf  |\n",
       "| all        | 0.1        | 1.0        |  39        | 4615       |  13        | 2154       | 0.36964837 | 1.400179   | 0.72979641 |  2.864925  |\n",
       "| all        | 0.2        | 1.0        |  34        | 3888       |  18        | 2881       | 0.26342726 | 1.399594   | 0.76675275 |  2.637975  |\n",
       "| all        | 0.3        | 1.0        |  29        | 3329       |  23        | 3440       | 0.40393035 | 1.302856   | 0.72619058 |  2.363244  |\n",
       "| all        | 0.4        | 1.0        |  24        | 2876       |  28        | 3893       | 0.67313472 | 1.160214   | 0.64225682 |  2.080736  |\n",
       "| all        | 0.5        | 1.0        |  21        | 2437       |  31        | 4332       | 0.56240608 | 1.204130   | 0.65609434 |  2.168950  |\n",
       "| all        | 0.6        | 1.0        |  18        | 2005       |  34        | 4764       | 0.44719976 | 1.257915   | 0.66713624 |  2.296934  |\n",
       "| all        | 0.7        | 1.0        |  16        | 1579       |  36        | 5190       | 0.24801010 | 1.460750   | 0.75471074 |  2.708753  |\n",
       "| all        | 0.8        | 1.0        |  12        | 1185       |  40        | 5584       | 0.27540790 | 1.413589   | 0.67296925 |  2.758629  |\n",
       "| all        | 0.9        | 1.0        |   9        |  707       |  43        | 6062       | 0.11138448 | 1.794417   | 0.76584755 |  3.752331  |\n",
       "| all        | 1.0        | 1.0        |   0        |   32       |  52        | 6737       | 1.00000000 | 0.000000   | 0.00000000 | 16.361902  |\n",
       "\n"
      ],
      "text/plain": [
       "    name ld  pp  ldh_pph ldh_ppl ldl_pph ldl_ppl pval        or      \n",
       "1   all  0.0 0.0 6821       0       0       0    1.000000000 0.000000\n",
       "2   all  0.1 0.0 4654       0    2167       0    1.000000000 0.000000\n",
       "3   all  0.2 0.0 3922       0    2899       0    1.000000000 0.000000\n",
       "4   all  0.3 0.0 3358       0    3463       0    1.000000000 0.000000\n",
       "5   all  0.4 0.0 2900       0    3921       0    1.000000000 0.000000\n",
       "6   all  0.5 0.0 2458       0    4363       0    1.000000000 0.000000\n",
       "7   all  0.6 0.0 2023       0    4798       0    1.000000000 0.000000\n",
       "8   all  0.7 0.0 1595       0    5226       0    1.000000000 0.000000\n",
       "9   all  0.8 0.0 1197       0    5624       0    1.000000000 0.000000\n",
       "10  all  0.9 0.0  716       0    6105       0    1.000000000 0.000000\n",
       "11  all  1.0 0.0   32       0    6789       0    1.000000000 0.000000\n",
       "12  all  0.0 0.1  174    6647       0       0    1.000000000 0.000000\n",
       "13  all  0.1 0.1  133    4521      41    2126    0.020618018 1.525358\n",
       "14  all  0.2 0.1  115    3807      59    2840    0.019893105 1.453977\n",
       "15  all  0.3 0.1   99    3259      75    3388    0.045605912 1.372179\n",
       "16  all  0.4 0.1   85    2815      89    3832    0.088065031 1.300034\n",
       "17  all  0.5 0.1   74    2384     100    4263    0.078296431 1.323155\n",
       "18  all  0.6 0.1   61    1962     113    4685    0.129827688 1.289015\n",
       "19  all  0.7 0.1   52    1543     122    5104    0.045656556 1.409822\n",
       "20  all  0.8 0.1   45    1152     129    5495    0.006094937 1.663793\n",
       "21  all  0.9 0.1   32     684     142    5963    0.001515359 1.964379\n",
       "22  all  1.0 0.1    1      31     173    6616    0.563429023 1.233594\n",
       "23  all  0.0 0.2  160    6661       0       0    1.000000000 0.000000\n",
       "24  all  0.1 0.2  120    4534      40    2127    0.070842962 1.407310\n",
       "25  all  0.2 0.2  106    3816      54    2845    0.023539318 1.463396\n",
       "26  all  0.3 0.2   90    3268      70    3393    0.078334442 1.334830\n",
       "27  all  0.4 0.2   76    2824      84    3837    0.196709249 1.229265\n",
       "28  all  0.5 0.2   66    2392      94    4269    0.182314263 1.253022\n",
       "29  all  0.6 0.2   57    1966     103    4695    0.096619596 1.321541\n",
       "30  all  0.7 0.2   48    1547     112    5114    0.047537869 1.416672\n",
       "⋮   ⋮    ⋮   ⋮   ⋮       ⋮       ⋮       ⋮       ⋮           ⋮       \n",
       "92  all  0.3 0.8  64     3294     46     3417    0.06741104  1.443171\n",
       "93  all  0.4 0.8  54     2846     56     3865    0.17365077  1.309479\n",
       "94  all  0.5 0.8  47     2411     63     4300    0.16069938  1.330447\n",
       "95  all  0.6 0.8  39     1984     71     4727    0.20617209  1.308708\n",
       "96  all  0.7 0.8  33     1562     77     5149    0.11120254  1.412671\n",
       "97  all  0.8 0.8  28     1169     82     5542    0.03183167  1.618674\n",
       "98  all  0.9 0.8  21      695     89     6016    0.00672911  2.042191\n",
       "99  all  1.0 0.8   1       31    109     6680    0.40634407  1.976639\n",
       "100 all  0.0 0.9 100     6721      0        0    1.00000000  0.000000\n",
       "101 all  0.1 0.9  77     4577     23     2144    0.06542012  1.568125\n",
       "102 all  0.2 0.9  66     3856     34     2865    0.08430803  1.442214\n",
       "103 all  0.3 0.9  57     3301     43     3420    0.13072278  1.373298\n",
       "104 all  0.4 0.9  48     2852     52     3869    0.26445872  1.252188\n",
       "105 all  0.5 0.9  42     2416     58     4305    0.20988656  1.290242\n",
       "106 all  0.6 0.9  35     1988     65     4733    0.26968567  1.281952\n",
       "107 all  0.7 0.9  29     1566     71     5155    0.19046303  1.344486\n",
       "108 all  0.8 0.9  24     1173     76     5548    0.11037416  1.493505\n",
       "109 all  0.9 0.9  17      699     83     6022    0.04612205  1.764367\n",
       "110 all  1.0 0.9   1       31     99     6690    0.37730450  2.179551\n",
       "111 all  0.0 1.0  52     6769      0        0    1.00000000  0.000000\n",
       "112 all  0.1 1.0  39     4615     13     2154    0.36964837  1.400179\n",
       "113 all  0.2 1.0  34     3888     18     2881    0.26342726  1.399594\n",
       "114 all  0.3 1.0  29     3329     23     3440    0.40393035  1.302856\n",
       "115 all  0.4 1.0  24     2876     28     3893    0.67313472  1.160214\n",
       "116 all  0.5 1.0  21     2437     31     4332    0.56240608  1.204130\n",
       "117 all  0.6 1.0  18     2005     34     4764    0.44719976  1.257915\n",
       "118 all  0.7 1.0  16     1579     36     5190    0.24801010  1.460750\n",
       "119 all  0.8 1.0  12     1185     40     5584    0.27540790  1.413589\n",
       "120 all  0.9 1.0   9      707     43     6062    0.11138448  1.794417\n",
       "121 all  1.0 1.0   0       32     52     6737    1.00000000  0.000000\n",
       "    ci05       ci95     \n",
       "1   0.00000000      Inf \n",
       "2   0.00000000      Inf \n",
       "3   0.00000000      Inf \n",
       "4   0.00000000      Inf \n",
       "5   0.00000000      Inf \n",
       "6   0.00000000      Inf \n",
       "7   0.00000000      Inf \n",
       "8   0.00000000      Inf \n",
       "9   0.00000000      Inf \n",
       "10  0.00000000      Inf \n",
       "11  0.00000000      Inf \n",
       "12  0.00000000      Inf \n",
       "13  1.06298850 2.229719 \n",
       "14  1.04902347 2.033363 \n",
       "15  1.00214739 1.885405 \n",
       "16  0.95024545 1.777545 \n",
       "17  0.96201594 1.813137 \n",
       "18  0.92386193 1.783748 \n",
       "19  0.99367954 1.976525 \n",
       "20  1.15067280 2.368236 \n",
       "21  1.28406567 2.926328 \n",
       "22  0.03009714 7.492500 \n",
       "23  0.00000000      Inf \n",
       "24  0.97248170 2.074438 \n",
       "25  1.04077734 2.078122 \n",
       "26  0.96210782 1.858347 \n",
       "27  0.88576504 1.703706 \n",
       "28  0.89677321 1.742425 \n",
       "29  0.93478737 1.852427 \n",
       "30  0.98359443 2.014296 \n",
       "⋮   ⋮          ⋮        \n",
       "92  0.96956232  2.162952\n",
       "93  0.88119633  1.944552\n",
       "94  0.88891046  1.979409\n",
       "95  0.85878876  1.968493\n",
       "96  0.90617667  2.159524\n",
       "97  1.00965277  2.526435\n",
       "98  1.19731053  3.339379\n",
       "99  0.04807074 12.085710\n",
       "100 0.00000000       Inf\n",
       "101 0.97026795  2.626351\n",
       "102 0.93676429  2.256863\n",
       "103 0.90534976  2.096517\n",
       "104 0.82531083  1.896472\n",
       "105 0.84337188  1.959496\n",
       "106 0.82184754  1.969745\n",
       "107 0.83814799  2.106853\n",
       "108 0.89834683  2.402347\n",
       "109 0.97544224  3.019106\n",
       "110 0.05295756 13.360822\n",
       "111 0.00000000       Inf\n",
       "112 0.72979641  2.864925\n",
       "113 0.76675275  2.637975\n",
       "114 0.72619058  2.363244\n",
       "115 0.64225682  2.080736\n",
       "116 0.65609434  2.168950\n",
       "117 0.66713624  2.296934\n",
       "118 0.75471074  2.708753\n",
       "119 0.67296925  2.758629\n",
       "120 0.76584755  3.752331\n",
       "121 0.00000000 16.361902"
      ]
     },
     "metadata": {},
     "output_type": "display_data"
    }
   ],
   "source": [
    "tests_all"
   ]
  },
  {
   "cell_type": "code",
   "execution_count": 99,
   "metadata": {},
   "outputs": [],
   "source": [
    "snp2max$ld_high = FALSE\n",
    "snp2max$pp_high = FALSE\n",
    "snp2max$pp_med  = FALSE\n",
    "snp2max$pp_mhi  = FALSE\n",
    "\n",
    "snp2max[snp2max$ld   > 0.8, \"ld_high\"] = TRUE\n",
    "snp2max[snp2max$PPAj > 0.8, \"pp_high\"] = TRUE\n",
    "snp2max[snp2max$PPAj > 0.1 & snp2max$PPAj < 0.8, \"pp_med\"] = TRUE\n",
    "snp2max[snp2max$PPAj > 0.1, \"pp_mhi\"] = TRUE\n",
    "\n",
    "write.table(snp2max, \"cpbayes_snp2max.txt\", quote = FALSE, sep = \"\\t\", row.names = FALSE, col.names = TRUE)"
   ]
  },
  {
   "cell_type": "code",
   "execution_count": 99,
   "metadata": {},
   "outputs": [
    {
     "data": {
      "text/html": [
       "0.0161266676440405"
      ],
      "text/latex": [
       "0.0161266676440405"
      ],
      "text/markdown": [
       "0.0161266676440405"
      ],
      "text/plain": [
       "[1] 0.01612667"
      ]
     },
     "metadata": {},
     "output_type": "display_data"
    },
    {
     "data": {
      "text/plain": [
       "\n",
       "\tFisher's Exact Test for Count Data\n",
       "\n",
       "data:  table(snp2max[, c(\"ld_high\", \"pp_high\")])\n",
       "p-value = 0.03183\n",
       "alternative hypothesis: true odds ratio is not equal to 1\n",
       "95 percent confidence interval:\n",
       " 1.009653 2.526435\n",
       "sample estimates:\n",
       "odds ratio \n",
       "  1.618674 \n"
      ]
     },
     "metadata": {},
     "output_type": "display_data"
    },
    {
     "data": {
      "text/plain": [
       "\n",
       "\tFisher's Exact Test for Count Data\n",
       "\n",
       "data:  table(snp2max[, c(\"ld_high\", \"pp_mhi\")])\n",
       "p-value = 0.006095\n",
       "alternative hypothesis: true odds ratio is not equal to 1\n",
       "95 percent confidence interval:\n",
       " 1.150673 2.368236\n",
       "sample estimates:\n",
       "odds ratio \n",
       "  1.663793 \n"
      ]
     },
     "metadata": {},
     "output_type": "display_data"
    },
    {
     "data": {
      "text/plain": [
       "\n",
       "\tFisher's Exact Test for Count Data\n",
       "\n",
       "data:  table(snp2max[snp2max$svtype == \"STR\", c(\"ld_high\", \"pp_high\")])\n",
       "p-value = 0.01845\n",
       "alternative hypothesis: true odds ratio is not equal to 1\n",
       "95 percent confidence interval:\n",
       " 1.065052 2.877263\n",
       "sample estimates:\n",
       "odds ratio \n",
       "  1.775333 \n"
      ]
     },
     "metadata": {},
     "output_type": "display_data"
    },
    {
     "data": {
      "text/plain": [
       "\n",
       "\tFisher's Exact Test for Count Data\n",
       "\n",
       "data:  table(snp2max[snp2max$svtype == \"STR\", c(\"ld_high\", \"pp_mhi\")])\n",
       "p-value = 0.00687\n",
       "alternative hypothesis: true odds ratio is not equal to 1\n",
       "95 percent confidence interval:\n",
       " 1.154425 2.566664\n",
       "sample estimates:\n",
       "odds ratio \n",
       "  1.736802 \n"
      ]
     },
     "metadata": {},
     "output_type": "display_data"
    },
    {
     "data": {
      "text/plain": [
       "\n",
       "\tFisher's Exact Test for Count Data\n",
       "\n",
       "data:  table(snp2max[snp2max$svtype != \"STR\", c(\"ld_high\", \"pp_high\")])\n",
       "p-value = 1\n",
       "alternative hypothesis: true odds ratio is not equal to 1\n",
       "95 percent confidence interval:\n",
       " 0.1697789 3.1373671\n",
       "sample estimates:\n",
       "odds ratio \n",
       " 0.9063308 \n"
      ]
     },
     "metadata": {},
     "output_type": "display_data"
    },
    {
     "data": {
      "text/plain": [
       "\n",
       "\tFisher's Exact Test for Count Data\n",
       "\n",
       "data:  table(snp2max[snp2max$svtype != \"STR\", c(\"ld_high\", \"pp_mhi\")])\n",
       "p-value = 0.4863\n",
       "alternative hypothesis: true odds ratio is not equal to 1\n",
       "95 percent confidence interval:\n",
       " 0.4836828 3.1291325\n",
       "sample estimates:\n",
       "odds ratio \n",
       "  1.322553 \n"
      ]
     },
     "metadata": {},
     "output_type": "display_data"
    }
   ],
   "source": [
    "nrow(snp2max[snp2max$pp_high == TRUE,])/ nrow(snp2max)\n",
    "\n",
    "#table(snp2max[,c(\"ld_high\", \"pp_high\")])\n",
    "#table(snp2max[,c(\"ld_high\", \"pp_med\" )])\n",
    "fisher.test(table(snp2max[,c(\"ld_high\", \"pp_high\")]))\n",
    "#fisher.test(table(snp2max[,c(\"ld_high\", \"pp_med\" )]))\n",
    "fisher.test(table(snp2max[,c(\"ld_high\", \"pp_mhi\" )]))\n",
    "\n",
    "#table(snp2max[snp2max$svtype == \"STR\",c(\"ld_high\", \"pp_high\")])\n",
    "#table(snp2max[snp2max$svtype == \"STR\",c(\"ld_high\", \"pp_med\" )])\n",
    "fisher.test(table(snp2max[snp2max$svtype == \"STR\",c(\"ld_high\", \"pp_high\")]))\n",
    "#fisher.test(table(snp2max[snp2max$svtype == \"STR\",c(\"ld_high\", \"pp_med\" )]))\n",
    "fisher.test(table(snp2max[snp2max$svtype == \"STR\",c(\"ld_high\", \"pp_mhi\" )]))\n",
    "\n",
    "#table(snp2max[snp2max$svtype != \"STR\",c(\"ld_high\", \"pp_high\")])\n",
    "#table(snp2max[snp2max$svtype != \"STR\",c(\"ld_high\", \"pp_med\" )])\n",
    "fisher.test(table(snp2max[snp2max$svtype != \"STR\",c(\"ld_high\", \"pp_high\")]))\n",
    "#fisher.test(table(snp2max[snp2max$svtype != \"STR\",c(\"ld_high\", \"pp_med\" )]))\n",
    "fisher.test(table(snp2max[snp2max$svtype != \"STR\",c(\"ld_high\", \"pp_mhi\" )]))"
   ]
  },
  {
   "cell_type": "code",
   "execution_count": 92,
   "metadata": {},
   "outputs": [
    {
     "data": {
      "text/html": [
       "<table>\n",
       "<thead><tr><th scope=col>ld_high</th><th scope=col>ld</th></tr></thead>\n",
       "<tbody>\n",
       "\t<tr><td>FALSE</td><td>5624 </td></tr>\n",
       "\t<tr><td> TRUE</td><td>1197 </td></tr>\n",
       "</tbody>\n",
       "</table>\n"
      ],
      "text/latex": [
       "\\begin{tabular}{r|ll}\n",
       " ld\\_high & ld\\\\\n",
       "\\hline\n",
       "\t FALSE & 5624 \\\\\n",
       "\t  TRUE & 1197 \\\\\n",
       "\\end{tabular}\n"
      ],
      "text/markdown": [
       "\n",
       "| ld_high | ld |\n",
       "|---|---|\n",
       "| FALSE | 5624  |\n",
       "|  TRUE | 1197  |\n",
       "\n"
      ],
      "text/plain": [
       "  ld_high ld  \n",
       "1 FALSE   5624\n",
       "2  TRUE   1197"
      ]
     },
     "metadata": {},
     "output_type": "display_data"
    },
    {
     "data": {
      "text/html": [
       "<table>\n",
       "<thead><tr><th scope=col>ld_high</th><th scope=col>ld</th></tr></thead>\n",
       "<tbody>\n",
       "\t<tr><td>FALSE    </td><td>0.2634644</td></tr>\n",
       "\t<tr><td> TRUE    </td><td>0.9098329</td></tr>\n",
       "</tbody>\n",
       "</table>\n"
      ],
      "text/latex": [
       "\\begin{tabular}{r|ll}\n",
       " ld\\_high & ld\\\\\n",
       "\\hline\n",
       "\t FALSE     & 0.2634644\\\\\n",
       "\t  TRUE     & 0.9098329\\\\\n",
       "\\end{tabular}\n"
      ],
      "text/markdown": [
       "\n",
       "| ld_high | ld |\n",
       "|---|---|\n",
       "| FALSE     | 0.2634644 |\n",
       "|  TRUE     | 0.9098329 |\n",
       "\n"
      ],
      "text/plain": [
       "  ld_high ld       \n",
       "1 FALSE   0.2634644\n",
       "2  TRUE   0.9098329"
      ]
     },
     "metadata": {},
     "output_type": "display_data"
    },
    {
     "data": {
      "text/html": [
       "<table>\n",
       "<thead><tr><th scope=col>ld_high</th><th scope=col>ld</th></tr></thead>\n",
       "<tbody>\n",
       "\t<tr><td>FALSE    </td><td>0.1865163</td></tr>\n",
       "\t<tr><td> TRUE    </td><td>0.9169966</td></tr>\n",
       "</tbody>\n",
       "</table>\n"
      ],
      "text/latex": [
       "\\begin{tabular}{r|ll}\n",
       " ld\\_high & ld\\\\\n",
       "\\hline\n",
       "\t FALSE     & 0.1865163\\\\\n",
       "\t  TRUE     & 0.9169966\\\\\n",
       "\\end{tabular}\n"
      ],
      "text/markdown": [
       "\n",
       "| ld_high | ld |\n",
       "|---|---|\n",
       "| FALSE     | 0.1865163 |\n",
       "|  TRUE     | 0.9169966 |\n",
       "\n"
      ],
      "text/plain": [
       "  ld_high ld       \n",
       "1 FALSE   0.1865163\n",
       "2  TRUE   0.9169966"
      ]
     },
     "metadata": {},
     "output_type": "display_data"
    },
    {
     "data": {
      "text/html": [
       "<table>\n",
       "<thead><tr><th scope=col>ld_high</th><th scope=col>ld</th></tr></thead>\n",
       "<tbody>\n",
       "\t<tr><td>FALSE     </td><td>0.02943744</td></tr>\n",
       "\t<tr><td> TRUE     </td><td>0.86458056</td></tr>\n",
       "</tbody>\n",
       "</table>\n"
      ],
      "text/latex": [
       "\\begin{tabular}{r|ll}\n",
       " ld\\_high & ld\\\\\n",
       "\\hline\n",
       "\t FALSE      & 0.02943744\\\\\n",
       "\t  TRUE      & 0.86458056\\\\\n",
       "\\end{tabular}\n"
      ],
      "text/markdown": [
       "\n",
       "| ld_high | ld |\n",
       "|---|---|\n",
       "| FALSE      | 0.02943744 |\n",
       "|  TRUE      | 0.86458056 |\n",
       "\n"
      ],
      "text/plain": [
       "  ld_high ld        \n",
       "1 FALSE   0.02943744\n",
       "2  TRUE   0.86458056"
      ]
     },
     "metadata": {},
     "output_type": "display_data"
    },
    {
     "data": {
      "text/html": [
       "<table>\n",
       "<thead><tr><th scope=col>ld_high</th><th scope=col>ld</th></tr></thead>\n",
       "<tbody>\n",
       "\t<tr><td>FALSE    </td><td>0.4685371</td></tr>\n",
       "\t<tr><td> TRUE    </td><td>0.9568398</td></tr>\n",
       "</tbody>\n",
       "</table>\n"
      ],
      "text/latex": [
       "\\begin{tabular}{r|ll}\n",
       " ld\\_high & ld\\\\\n",
       "\\hline\n",
       "\t FALSE     & 0.4685371\\\\\n",
       "\t  TRUE     & 0.9568398\\\\\n",
       "\\end{tabular}\n"
      ],
      "text/markdown": [
       "\n",
       "| ld_high | ld |\n",
       "|---|---|\n",
       "| FALSE     | 0.4685371 |\n",
       "|  TRUE     | 0.9568398 |\n",
       "\n"
      ],
      "text/plain": [
       "  ld_high ld       \n",
       "1 FALSE   0.4685371\n",
       "2  TRUE   0.9568398"
      ]
     },
     "metadata": {},
     "output_type": "display_data"
    }
   ],
   "source": [
    "aggregate(ld ~ ld_high, data = snp2max, FUN = length)\n",
    "aggregate(ld ~ ld_high, data = snp2max, FUN = mean)\n",
    "aggregate(ld ~ ld_high, data = snp2max, FUN = median)\n",
    "aggregate(ld ~ ld_high, data = snp2max, FUN = function(x){quantile(x, probs = 0.25)})\n",
    "aggregate(ld ~ ld_high, data = snp2max, FUN = function(x){quantile(x, probs = 0.75)})\n"
   ]
  },
  {
   "cell_type": "code",
   "execution_count": 100,
   "metadata": {},
   "outputs": [
    {
     "data": {
      "image/png": "[encoded data removed]",
      "text/plain": [
       "Plot with title “Histogram of snp2max[, \"ld\"]”"
      ]
     },
     "metadata": {},
     "output_type": "display_data"
    },
    {
     "data": {
      "image/png": "[encoded data removed]",
      "text/plain": [
       "Plot with title “Histogram of snp2max[, \"PPAj\"]”"
      ]
     },
     "metadata": {},
     "output_type": "display_data"
    }
   ],
   "source": [
    "hist(snp2max[, \"ld\"  ], breaks = c(0:20)/20)\n",
    "hist(snp2max[, \"PPAj\"], breaks = c(0:20)/20)\n"
   ]
  },
  {
   "cell_type": "code",
   "execution_count": 66,
   "metadata": {},
   "outputs": [
    {
     "data": {
      "text/html": [
       "0.0233918128654971"
      ],
      "text/latex": [
       "0.0233918128654971"
      ],
      "text/markdown": [
       "0.0233918128654971"
      ],
      "text/plain": [
       "[1] 0.02339181"
      ]
     },
     "metadata": {},
     "output_type": "display_data"
    },
    {
     "data": {
      "text/html": [
       "0.0145803698435277"
      ],
      "text/latex": [
       "0.0145803698435277"
      ],
      "text/markdown": [
       "0.0145803698435277"
      ],
      "text/plain": [
       "[1] 0.01458037"
      ]
     },
     "metadata": {},
     "output_type": "display_data"
    }
   ],
   "source": [
    "28/(1169+28)\n",
    "82/(5542+82)"
   ]
  },
  {
   "cell_type": "code",
   "execution_count": 115,
   "metadata": {},
   "outputs": [
    {
     "data": {
      "text/html": [
       "28"
      ],
      "text/latex": [
       "28"
      ],
      "text/markdown": [
       "28"
      ],
      "text/plain": [
       "[1] 28"
      ]
     },
     "metadata": {},
     "output_type": "display_data"
    },
    {
     "data": {
      "text/html": [
       "25"
      ],
      "text/latex": [
       "25"
      ],
      "text/markdown": [
       "25"
      ],
      "text/plain": [
       "[1] 25"
      ]
     },
     "metadata": {},
     "output_type": "display_data"
    }
   ],
   "source": [
    "nrow(snp2max[snp2max$ld > 0.8 & snp2max$PPAj > 0.8, ])\n",
    "nrow(snp2max[snp2max$ld > 0.8 & snp2max$PPAj > 0.8 & snp2max$svtype == \"STR\", ])\n"
   ]
  },
  {
   "cell_type": "code",
   "execution_count": 59,
   "metadata": {},
   "outputs": [
    {
     "name": "stdout",
     "output_type": "stream",
     "text": [
      "'data.frame':\t6821 obs. of  27 variables:\n",
      " $ id2gene    : chr  \"10_100025816_G_A ENSG00000166024.9\" \"10_100172479_A_G ENSG00000119943.6\" \"10_101625549_C_T ENSG00000107554.11\" \"10_101999097_G_T ENSG00000196072.7\" ...\n",
      " $ ld         : num  0.8554 0.0892 0.945 0.5752 0.1035 ...\n",
      " $ PPAj       : num  0.0004 0.0004 0.0006 0.0006 0.0002 0.035 0.0004 0.0004 0.0002 0.0004 ...\n",
      " $ feature_id : chr  \"ENSG00000166024\" \"ENSG00000119943\" \"ENSG00000107554\" \"ENSG00000196072\" ...\n",
      " $ sv_id      : chr  \"DEL_10_100025136_100025453\" \"Human_STR_184378\" \"Human_STR_185255\" \"Human_STR_185604\" ...\n",
      " $ svtype     : chr  \"DEL\" \"STR\" \"STR\" \"STR\" ...\n",
      " $ sv_start   : int  100025136 100104298 101613588 102026581 101526848 102302938 102677677 102696075 104177916 103170459 ...\n",
      " $ sv_end     : int  100025453 100104313 101613627 102026625 101526869 102302960 102677698 102696109 104177944 103170473 ...\n",
      " $ pval_svonly: num  5.49e-13 3.93e-06 1.77e-04 1.04e-17 6.42e-04 ...\n",
      " $ beta_svonly: num  -0.2838 0.222 0.24 0.2445 -0.0884 ...\n",
      " $ se_svonly  : num  0.0393 0.0481 0.064 0.0285 0.0259 ...\n",
      " $ snp_id     : chr  \"10_100025816_G_A\" \"10_100172479_A_G\" \"10_101625549_C_T\" \"10_101999097_G_T\" ...\n",
      " $ pval_joint : num  3.60e-16 1.84e-72 3.82e-05 2.50e-36 1.13e-08 ...\n",
      " $ beta_joint : num  -0.327 -0.801 -0.271 0.723 -0.149 ...\n",
      " $ se_joint   : num  0.0401 0.0445 0.0657 0.0575 0.0261 ...\n",
      " $ egene      : logi  TRUE TRUE TRUE TRUE TRUE TRUE ...\n",
      " $ gene_id    : chr  \"ENSG00000166024.9\" \"ENSG00000119943.6\" \"ENSG00000107554.11\" \"ENSG00000196072.7\" ...\n",
      " $ gene_name  : chr  \"R3HCC1L\" \"PYROXD2\" \"DNMBP\" \"BLOC1S2\" ...\n",
      " $ gene_type  : chr  \"protein_coding\" \"protein_coding\" \"protein_coding\" \"protein_coding\" ...\n",
      " $ chrom      : chr  \"chr10\" \"chr10\" \"chr10\" \"chr10\" ...\n",
      " $ start      : int  99894386 100143321 101635333 102033712 101948054 102246398 102672325 102729274 103370422 103113819 ...\n",
      " $ end        : int  100004654 100174941 101769676 102046469 101989376 102289628 102724893 102745628 103455052 103317078 ...\n",
      " $ strand     : chr  \"+\" \"-\" \"-\" \"-\" ...\n",
      " $ gene_status: chr  \"KNOWN\" \"KNOWN\" \"KNOWN\" \"KNOWN\" ...\n",
      " $ source     : chr  \"HAVANA\" \"HAVANA\" \"HAVANA\" \"HAVANA\" ...\n",
      " $ level      : int  2 2 2 2 2 2 2 2 2 2 ...\n",
      " $ over       : logi  FALSE FALSE FALSE FALSE FALSE FALSE ...\n"
     ]
    }
   ],
   "source": [
    "str(snp2max)"
   ]
  },
  {
   "cell_type": "code",
   "execution_count": 62,
   "metadata": {},
   "outputs": [
    {
     "data": {
      "image/png": "[encoded data removed]",
      "text/plain": [
       "plot without title"
      ]
     },
     "metadata": {},
     "output_type": "display_data"
    }
   ],
   "source": [
    "plot(snp2max$ld, snp2max$PPAj)"
   ]
  },
  {
   "cell_type": "code",
   "execution_count": 37,
   "metadata": {},
   "outputs": [
    {
     "data": {
      "text/html": [
       "5367"
      ],
      "text/latex": [
       "5367"
      ],
      "text/markdown": [
       "5367"
      ],
      "text/plain": [
       "[1] 5367"
      ]
     },
     "metadata": {},
     "output_type": "display_data"
    }
   ],
   "source": [
    "nrow(eqtls_sv[eqtls_sv$id2gene %in% tested$id2gene,])"
   ]
  },
  {
   "cell_type": "code",
   "execution_count": 48,
   "metadata": {},
   "outputs": [
    {
     "name": "stdout",
     "output_type": "stream",
     "text": [
      "'data.frame':\t5615 obs. of  32 variables:\n",
      " $ feature_id  : chr  \"ENSG00000166024\" \"ENSG00000119943\" \"ENSG00000196072\" \"ENSG00000075826\" ...\n",
      " $ traits      : chr  \"10_100025816_G_A\" \"10_100172479_A_G\" \"10_101999097_G_T\" \"10_102295658_T_G\" ...\n",
      " $ poste_mean  : num  -0.326 -0.798 0.721 0.157 0.313 ...\n",
      " $ poste_median: num  -0.326 -0.798 0.721 0.157 0.313 ...\n",
      " $ poste_se    : num  0.0396 0.0439 0.0567 0.0262 0.0287 ...\n",
      " $ lCl         : num  -0.402 -0.883 0.611 0.107 0.257 ...\n",
      " $ uCl         : num  -0.248 -0.711 0.833 0.209 0.369 ...\n",
      " $ PPAj        : num  1 1 1 1 1 1 1 1 1 1 ...\n",
      " $ top         : chr  \"10_100025816_G_A\" \"10_100172479_A_G\" \"10_101999097_G_T\" \"10_102295658_T_G\" ...\n",
      " $ sv_id       : chr  \"DEL_10_100025136_100025453\" \"Human_STR_184378\" \"Human_STR_185604\" \"Human_STR_185841\" ...\n",
      " $ svtype      : chr  \"DEL\" \"STR\" \"STR\" \"STR\" ...\n",
      " $ pval_svonly : num  5.49e-13 3.93e-06 1.04e-17 2.16e-08 4.05e-12 ...\n",
      " $ beta_svonly : num  -0.284 0.222 0.245 -0.117 0.351 ...\n",
      " $ se_svonly   : num  0.0393 0.0481 0.0285 0.0209 0.0506 ...\n",
      " $ snp_id      : chr  \"10_100025816_G_A\" \"10_100172479_A_G\" \"10_101999097_G_T\" \"10_102295658_T_G\" ...\n",
      " $ pval_joint  : num  3.60e-16 1.84e-72 2.50e-36 2.92e-09 5.88e-27 ...\n",
      " $ beta_joint  : num  -0.327 -0.801 0.723 0.157 0.313 ...\n",
      " $ se_joint    : num  0.0401 0.0445 0.0575 0.0264 0.0291 ...\n",
      " $ ld          : num  0.8554 0.0892 0.5752 0.944 0.1488 ...\n",
      " $ gene_id     : chr  \"ENSG00000166024.9\" \"ENSG00000119943.6\" \"ENSG00000196072.7\" \"ENSG00000075826.12\" ...\n",
      " $ gene_name   : chr  \"R3HCC1L\" \"PYROXD2\" \"BLOC1S2\" \"SEC31B\" ...\n",
      " $ gene_type   : chr  \"protein_coding\" \"protein_coding\" \"protein_coding\" \"protein_coding\" ...\n",
      " $ chrom       : chr  \"chr10\" \"chr10\" \"chr10\" \"chr10\" ...\n",
      " $ start       : int  99894386 100143321 102033712 102246398 102672325 102729274 103113819 103338638 103541081 103605355 ...\n",
      " $ end         : int  100004654 100174941 102046469 102289628 102724893 102745628 103317078 103348027 103543170 103815950 ...\n",
      " $ strand      : chr  \"+\" \"-\" \"-\" \"-\" ...\n",
      " $ gene_status : chr  \"KNOWN\" \"KNOWN\" \"KNOWN\" \"KNOWN\" ...\n",
      " $ source      : chr  \"HAVANA\" \"HAVANA\" \"HAVANA\" \"HAVANA\" ...\n",
      " $ level       : int  2 2 2 2 2 2 2 2 2 2 ...\n",
      " $ id2gene     : chr  \"10_100025816_G_A ENSG00000166024.9\" \"10_100172479_A_G ENSG00000119943.6\" \"10_101999097_G_T ENSG00000196072.7\" \"10_102295658_T_G ENSG00000075826.12\" ...\n",
      " $ over        : logi  TRUE TRUE TRUE TRUE TRUE TRUE ...\n",
      " $ is_snp      : logi  TRUE TRUE TRUE TRUE TRUE TRUE ...\n"
     ]
    }
   ],
   "source": [
    "str(over)"
   ]
  },
  {
   "cell_type": "code",
   "execution_count": null,
   "metadata": {},
   "outputs": [],
   "source": []
  }
 ],
 "metadata": {
  "kernelspec": {
   "display_name": "R 3.5.1",
   "language": "R",
   "name": "ir35"
  },
  "language_info": {
   "codemirror_mode": "r",
   "file_extension": ".r",
   "mimetype": "text/x-r-source",
   "name": "R",
   "pygments_lexer": "r",
   "version": "3.5.1"
  }
 },
 "nbformat": 4,
 "nbformat_minor": 2
}
